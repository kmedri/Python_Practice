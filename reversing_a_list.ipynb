{
 "cells": [
  {
   "cell_type": "markdown",
   "metadata": {},
   "source": [
    "In this practice problem, you'll have to write some code to reverse the order of the values in a given list.\n",
    "\n",
    "For example, if the list is [1, 2, 3, 4, 5] then the result should be [5, 4, 3, 2, 1].\n",
    "\n",
    "Instructions\n",
    "\n",
    "We provide a list of values in the values variable.\n",
    "\n",
    "Define a reversed_values variable whose values are the values in the values list, but in reversed order."
   ]
  },
  {
   "cell_type": "code",
   "execution_count": 1,
   "metadata": {},
   "outputs": [
    {
     "name": "stdout",
     "output_type": "stream",
     "text": [
      "[16, 1, 7, 2, 19, 12, 5, 20, 2, 10, 17, 14, 1, 9]\n",
      "[9, 1, 14, 17, 10, 2, 20, 5, 12, 19, 2, 7, 1, 16]\n"
     ]
    }
   ],
   "source": [
    "values = [16, 1, 7, 2, 19, 12, 5, 20, 2, 10, 17, 14, 1, 9]\n",
    "\n",
    "# Write your answer below\n",
    "\n",
    "reversed_values = values[::-1]\n",
    "\n",
    "print(values)\n",
    "print(reversed_values)"
   ]
  },
  {
   "cell_type": "code",
   "execution_count": null,
   "metadata": {},
   "outputs": [],
   "source": []
  }
 ],
 "metadata": {
  "kernelspec": {
   "display_name": "Python 3.9.12 ('base')",
   "language": "python",
   "name": "python3"
  },
  "language_info": {
   "codemirror_mode": {
    "name": "ipython",
    "version": 3
   },
   "file_extension": ".py",
   "mimetype": "text/x-python",
   "name": "python",
   "nbconvert_exporter": "python",
   "pygments_lexer": "ipython3",
   "version": "3.9.12"
  },
  "orig_nbformat": 4,
  "vscode": {
   "interpreter": {
    "hash": "25f3487451846e861a280f856ffdd5c623fcab8a2610d2814eeeaeba8b3c73c9"
   }
  }
 },
 "nbformat": 4,
 "nbformat_minor": 2
}
