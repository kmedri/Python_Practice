{
 "cells": [
  {
   "cell_type": "code",
   "execution_count": 2,
   "metadata": {},
   "outputs": [],
   "source": [
    "from csv import reader"
   ]
  },
  {
   "cell_type": "code",
   "execution_count": 6,
   "metadata": {},
   "outputs": [],
   "source": [
    "from encodings.utf_8 import encode\n",
    "\n",
    "\n",
    "opened_file = open('AppleStore.csv', encoding=\"utf8\")\n",
    "read_file = reader(opened_file)\n",
    "apps_data = list(read_file)[1:] # Excludes the header row\n",
    "# for _ in range(4):\n",
    "#     print(apps_data[_])"
   ]
  },
  {
   "cell_type": "markdown",
   "metadata": {},
   "source": [
    "### Changing Dictionary Values"
   ]
  },
  {
   "cell_type": "markdown",
   "metadata": {},
   "source": [
    "#### The content_ratings dictionary is corrupt and needs to be fixed. The corrupt version of content_ratings is provided in the code editor.\n",
    "\n",
    "1. Swap the values stored in the `4+` and `17+` keys.\n",
    "<br>\n",
    "<br>\n",
    "    - Assign the value stored in `4+` to a temporary variable called `temp`.\n",
    "    - Assign the value stored in `17+` to `4+`.\n",
    "    - Assign the value stored in the temporary variable to `17+`.\n",
    "<br>\n",
    "<br>\n",
    "2. Convert the value stored in `12+` into an integer.\n",
    "<br>\n",
    "<br>\n",
    "3. Print the `content_ratings` dictionary."
   ]
  },
  {
   "cell_type": "code",
   "execution_count": 18,
   "metadata": {},
   "outputs": [
    {
     "name": "stdout",
     "output_type": "stream",
     "text": [
      "{'4+': 4433, '12+': 1155, '9+': 987, '17+': 622}\n"
     ]
    }
   ],
   "source": [
    "content_ratings = {'4+': 622, '12+': '1155', '9+': 987, '17+': 4433}\n",
    "\n",
    "temp = content_ratings['4+']\n",
    "content_ratings['4+'] = content_ratings['17+']\n",
    "content_ratings['17+'] = temp\n",
    "content_ratings['12+'] = int(content_ratings['12+'])\n",
    "\n",
    "print(content_ratings)"
   ]
  },
  {
   "cell_type": "markdown",
   "metadata": {},
   "source": [
    "#### Count the number of times each unique content rating occurs in the dataset.\n",
    "1. Create a dictionary named `content_ratings` where the keys are the unique content ratings and the values are all `0` (the values of `0` are temporary at this point, and they'll be updated).\n",
    "<br>\n",
    "<br>\n",
    "2. Loop through the `apps_data` list of lists and make sure you don't include the header row. For each iteration of the loop, do the following:\n",
    "<br>\n",
    "<br>\n",
    "    - Assign the content rating value to a variable named `c_rating`. The content rating is at index number `10` in each row.\n",
    "    - Check if `c_rating` exists as a key in `content_ratings`. If it exists, then increment the dictionary value at that key by `1` (the key is equivalent to the value stored in `c_rating`).\n",
    "<br>\n",
    "<br>\n",
    "3. Outside the loop, print `content_ratings` to check if the counting worked as expected."
   ]
  },
  {
   "cell_type": "code",
   "execution_count": 14,
   "metadata": {},
   "outputs": [
    {
     "name": "stdout",
     "output_type": "stream",
     "text": [
      "Final dictionary:\n",
      "{'4+': 4433, '9+': 987, '12+': 1155, '17+': 622}\n"
     ]
    }
   ],
   "source": [
    "content_ratings = {'4+': 0, '9+': 0, '12+': 0, '17+': 0}\n",
    "\n",
    "for c_rating in apps_data:\n",
    "    if c_rating[10] in content_ratings:\n",
    "        content_ratings[c_rating[10]] += 1\n",
    "\n",
    "print('Final dictionary:')\n",
    "print(content_ratings)"
   ]
  },
  {
   "cell_type": "markdown",
   "metadata": {},
   "source": [
    "#### Count the number of times each unique content rating occurs in the dataset while finding the unique values automatically.\n",
    "1. Create an empty dictionary named `content_ratings`.\n",
    "2. Loop through the `apps_data` list of lists (don't include the header row). For each iteration of the loop, complete the following:\n",
    "\n",
    "    - Assign the content rating value to a variable named `c_rating`. The content rating is at index number `10`.\n",
    "    - Check if `c_rating` exists as a key in `content_ratings`.\n",
    "        - If it exists, then increment the dictionary value at that key by `1` (the key is equivalent to the value stored in `c_rating`).\n",
    "        - Create a new key-value pair in the dictionary, where the dictionary key is `c_rating` and the dictionary value is `1`.\n",
    "<br>\n",
    "<br>\n",
    "3. Outside the loop, `print content_ratings` to check if the counting worked as expected."
   ]
  },
  {
   "cell_type": "code",
   "execution_count": 117,
   "metadata": {},
   "outputs": [
    {
     "name": "stdout",
     "output_type": "stream",
     "text": [
      "Final dictionary:\n",
      "{'4+': 4433, '12+': 1155, '9+': 987, '17+': 622}\n"
     ]
    }
   ],
   "source": [
    "content_ratings ={}\n",
    "for c_rating in apps_data:\n",
    "    if c_rating[10] in content_ratings:\n",
    "        content_ratings[c_rating[10]] += 1\n",
    "    else:\n",
    "        content_ratings[c_rating[10]] = 1\n",
    "\n",
    "print('Final dictionary:')\n",
    "print(content_ratings)"
   ]
  },
  {
   "cell_type": "markdown",
   "metadata": {},
   "source": [
    "#### Count the number of times each unique genre occurs.\n",
    "1. Create an empty dictionary named `genre_counting`.  \n",
    "\n",
    "2. Loop through the `apps_data` list of lists (don't include the header row). For each iteration of the loop, do the following:  \n",
    "    - Assign the `genre` to a variable named `genre`. The `genre` comes as a string and has the index number `11`.\n",
    "    - Check if `genre` exists as a key in `genre_counting`.\n",
    "        - If it exists, then increment the dictionary value at that key by `1` (the key is equivalent to the value stored in genre).\n",
    "        - Else, create a new key-value pair in the dictionary, where the dictionary key is `genre` and the dictionary value is `1`.\n",
    "<br>\n",
    "<br>\n",
    "3. Outside the loop, print `genre_counting` and try to determine the most common app `genre` in our `dataset`."
   ]
  },
  {
   "cell_type": "code",
   "execution_count": 25,
   "metadata": {},
   "outputs": [
    {
     "name": "stdout",
     "output_type": "stream",
     "text": [
      "{'Social Networking': 167, 'Photo & Video': 349, 'Games': 3862, 'Music': 138, 'Reference': 64, 'Health & Fitness': 180, 'Weather': 72, 'Utilities': 248, 'Travel': 81, 'Shopping': 122, 'News': 75, 'Navigation': 46, 'Lifestyle': 144, 'Entertainment': 535, 'Food & Drink': 63, 'Sports': 114, 'Book': 112, 'Finance': 104, 'Education': 453, 'Productivity': 178, 'Business': 57, 'Catalogs': 10, 'Medical': 23}\n"
     ]
    }
   ],
   "source": [
    "genre_counting = {}\n",
    "\n",
    "for gen in apps_data:\n",
    "    genre = gen[11]\n",
    "    if genre in genre_counting:\n",
    "        genre_counting[genre] += 1\n",
    "    else:\n",
    "        genre_counting[genre] = 1\n",
    "    \n",
    "print(genre_counting)"
   ]
  },
  {
   "cell_type": "markdown",
   "metadata": {},
   "source": [
    "#### Looping over Dictionaries\n",
    "1. Loop over the `content_ratings` dictionary, and transform the frequencies to percentages. For every iteration of the loop, complete the following:\n",
    "<br>\n",
    "<br>\n",
    "    - Transform the dictionary value (the frequency) to a proportion by dividing it by the total number of apps.\n",
    "    - Transform the updated dictionary value (the proportion) to a percentage by multiplying it by 100.  \n",
    "<br>\n",
    "<br>     \n",
    "2. Determine the percentage of apps that have a content rating of `'17+'` and assign your answer to a variable named `percentage_17_plus`.\n",
    "<br>\n",
    "<br>\n",
    "2. Determine the percentage of apps that a 15-year-old can download and assign your answer to a variable named `percentage_15_allowed`."
   ]
  },
  {
   "cell_type": "code",
   "execution_count": 118,
   "metadata": {},
   "outputs": [
    {
     "name": "stdout",
     "output_type": "stream",
     "text": [
      "{'4+': 62.0, '12+': 16.0, '9+': 14.0, '17+': 9.0}\n",
      "9.0\n",
      "92.0\n"
     ]
    }
   ],
   "source": [
    "total_apps = sum(content_ratings.values())\n",
    "for k, v in content_ratings.items():\n",
    "    content_ratings[k] = round((v / total_apps * 100), 0) \n",
    "print(content_ratings)\n",
    "\n",
    "percentage_17_plus = content_ratings['17+']\n",
    "print(percentage_17_plus)\n",
    "\n",
    "percentage_15_allowed = sum(content_ratings.values()) - percentage_17_plus\n",
    "print(percentage_15_allowed)"
   ]
  },
  {
   "cell_type": "code",
   "execution_count": 116,
   "metadata": {},
   "outputs": [
    {
     "name": "stdout",
     "output_type": "stream",
     "text": [
      "8.642489926358204\n",
      "91.35751007364179\n"
     ]
    }
   ],
   "source": [
    "content_ratings = {'4+': 4433, '12+': 1155, '9+': 987, '17+': 622}\n",
    "total_number_of_apps = 7197\n",
    "\n",
    "for rating in content_ratings:\n",
    "    content_ratings[rating] /= total_number_of_apps\n",
    "    content_ratings[rating] *= 100\n",
    "    \n",
    "percentage_17_plus = content_ratings['17+']\n",
    "percentage_15_allowed = content_ratings['4+'] + content_ratings['9+'] + content_ratings['12+']\n",
    "print(percentage_17_plus)\n",
    "print(percentage_15_allowed)"
   ]
  },
  {
   "cell_type": "code",
   "execution_count": 88,
   "metadata": {},
   "outputs": [
    {
     "name": "stdout",
     "output_type": "stream",
     "text": [
      "7197\n",
      "{'4+': 4433, '12+': 1155, '9+': 987, '17+': 622}\n"
     ]
    }
   ],
   "source": [
    "print(sum(content_ratings.values()))\n",
    "print(content_ratings)"
   ]
  },
  {
   "cell_type": "code",
   "execution_count": 105,
   "metadata": {},
   "outputs": [
    {
     "name": "stdout",
     "output_type": "stream",
     "text": [
      "{'4+': 61, '12+': 16, '9+': 13, '17+': 8}\n"
     ]
    }
   ],
   "source": [
    "total_apps = sum(content_ratings.values())\n",
    "for k, v in content_ratings.items():\n",
    "    content_ratings[k] = int((v / total_apps * 100))\n",
    "# percentage_17_plus =     \n",
    "print(content_ratings)"
   ]
  },
  {
   "cell_type": "code",
   "execution_count": 106,
   "metadata": {},
   "outputs": [
    {
     "name": "stdout",
     "output_type": "stream",
     "text": [
      "98\n"
     ]
    }
   ],
   "source": [
    "print(sum(content_ratings.values()))"
   ]
  },
  {
   "cell_type": "code",
   "execution_count": 98,
   "metadata": {},
   "outputs": [
    {
     "name": "stdout",
     "output_type": "stream",
     "text": [
      "{'4+': 61.595109073224954, '12+': 16.04835348061692, '9+': 13.714047519799916, '17+': 8.642489926358204}\n"
     ]
    }
   ],
   "source": [
    "total_apps = sum(content_ratings.values())\n",
    "for k, v in content_ratings.items():\n",
    "    content_ratings[k] = (v / total_apps * 100)\n",
    "# percentage_17_plus =     \n",
    "print(content_ratings)"
   ]
  },
  {
   "cell_type": "code",
   "execution_count": 91,
   "metadata": {},
   "outputs": [],
   "source": [
    "import math\n",
    "def round_half_up(n, decimals=0):\n",
    "    multiplier = 10 ** decimals\n",
    "    return math.ceil(n*multiplier - 0.5) / multiplier"
   ]
  },
  {
   "cell_type": "code",
   "execution_count": 92,
   "metadata": {},
   "outputs": [
    {
     "data": {
      "text/plain": [
       "2.0"
      ]
     },
     "execution_count": 92,
     "metadata": {},
     "output_type": "execute_result"
    }
   ],
   "source": [
    "round_half_up(1.634556, 0)"
   ]
  },
  {
   "cell_type": "code",
   "execution_count": 90,
   "metadata": {},
   "outputs": [
    {
     "name": "stdout",
     "output_type": "stream",
     "text": [
      "0.30000000000000004\n"
     ]
    }
   ],
   "source": [
    "print(0.1 + 0.1 + 0.1)"
   ]
  },
  {
   "cell_type": "markdown",
   "metadata": {},
   "source": [
    "1. Transform the frequencies inside content_ratings to proportions and percentages while creating separate dictionaries for each.\n",
    "\n",
    "    - Assign the dictionary storing proportions to a variable named c_ratings_proportions.\n",
    "    - Assign the dictionary storing percentages to a variable named c_ratings_percentages.\n",
    "<br>\n",
    "<br>\n",
    "2. Optional challenge: try to solve this exercise using a single for loop (solution to this challenge provided)."
   ]
  },
  {
   "cell_type": "code",
   "execution_count": 121,
   "metadata": {},
   "outputs": [
    {
     "name": "stdout",
     "output_type": "stream",
     "text": [
      "{'4+': 61.595109073224954, '12+': 16.04835348061692, '9+': 13.714047519799916, '17+': 8.642489926358204}\n",
      "{'4+': 0.6159510907322495, '12+': 0.16048353480616923, '9+': 0.13714047519799916, '17+': 0.08642489926358204}\n"
     ]
    }
   ],
   "source": [
    "content_ratings = {'4+': 4433, '12+': 1155, '9+': 987, '17+': 622}\n",
    "total_number_of_apps = 7197\n",
    "\n",
    "c_ratings_proportions = {}\n",
    "c_ratings_percentages = {}\n",
    "\n",
    "for k, v in content_ratings.items():\n",
    "    c_ratings_percentages[k] = (v / total_number_of_apps * 100)\n",
    "    c_ratings_proportions[k] = (v / total_number_of_apps)\n",
    "\n",
    "\n",
    "print(c_ratings_percentages)\n",
    "print(c_ratings_proportions)"
   ]
  },
  {
   "cell_type": "markdown",
   "metadata": {},
   "source": [
    "1. Extract the values in the `size_bytes` column in a separate list.\n",
    "\n",
    "    - Create an empty list named `data_sizes`.\n",
    "    - Loop through `apps_data` (don't include the header row) and for every iteration, do the following:\n",
    "<br>\n",
    "<br>\n",
    "        - Store the data size as a `float` in a variable named `size` (the index number for the data size is 2).\n",
    "        - Append `size` to the `data_sizes` list.\n",
    "<br>\n",
    "<br>\n",
    "2. Determine the minimum and the maximum app data size.\n",
    "\n",
    "    - Assign the minimum value to a variable `named min_size`.\n",
    "    - Assign the maximum value to a variable `named max_size`."
   ]
  },
  {
   "cell_type": "code",
   "execution_count": 124,
   "metadata": {},
   "outputs": [
    {
     "name": "stdout",
     "output_type": "stream",
     "text": [
      "589824.0\n",
      "4025969664.0\n"
     ]
    }
   ],
   "source": [
    "data_sizes = []\n",
    "for bytes in apps_data:\n",
    "    data_sizes.append(float(bytes[2]))\n",
    "min_size = min(data_sizes)\n",
    "max_size = max(data_sizes)   \n",
    "print(min_size)\n",
    "print(max_size)"
   ]
  },
  {
   "cell_type": "markdown",
   "metadata": {},
   "source": [
    "1. Find the minimum and maximum value in the `rating_count_tot` column.\n",
    "\n",
    "    - Extract the values in the `rating_count_tot` column (index number 5) in a separate list (convert to integer or float).\n",
    "    - Determine the minimum and maximum value of that list using the `min()` and the `max()` commands.\n",
    "<br>\n",
    "<br>\n",
    "2. Choose a few intervals (try to choose five intervals or fewer), based on the minimum and maximum value you've found.\n",
    "\n",
    "    - We've disabled answer-checking for this exercise to give you the freedom to choose the intervals you find suitable (there's not a fixed solution for this exercise). You can see the intervals we chose in the solution.\n",
    "<br>\n",
    "<br>\n",
    "3. Once you've chosen the intervals, compute the frequency of the apps for each interval. Store the frequency table in a dictionary.\n",
    "\n",
    "    - Create a dictionary with intervals as dictionary keys and zeros as dictionary values.\n",
    "    - Loop through the `apps_data` data set. Count the frequency of each interval using an `if` statement followed by a series of `elif` clauses.\n",
    "<br>\n",
    "<br>\n",
    "4. Inspect the frequency table and analyze the results."
   ]
  },
  {
   "cell_type": "code",
   "execution_count": 161,
   "metadata": {},
   "outputs": [
    {
     "name": "stdout",
     "output_type": "stream",
     "text": [
      "0\n",
      "2974676\n",
      "7197\n"
     ]
    }
   ],
   "source": [
    "rating_counts = []\n",
    "for counts in apps_data:\n",
    "    rating_counts.append(int(counts[5]))\n",
    "min_count = min(rating_counts)\n",
    "max_count = max(rating_counts)\n",
    "print(min_count)\n",
    "print(max_count)\n",
    "print(len(rating_counts))\n",
    "# print(rating_counts)"
   ]
  },
  {
   "cell_type": "code",
   "execution_count": 197,
   "metadata": {},
   "outputs": [
    {
     "name": "stdout",
     "output_type": "stream",
     "text": [
      "{'0 - 100': 2708, '100 - 8000': 3348, '8000 - 125,000': 977, '125,000 - 425,000': 135, '425,000 +': 29}\n",
      "7197\n"
     ]
    }
   ],
   "source": [
    "rating_count_frequency = {'0 - 100' : 0, '100 - 8000' : 0, '8000 - 125,000' : 0, '125,000 - 425,000' : 0, '425,000 +' : 0}\n",
    "for row in apps_data:\n",
    "    freq = int(row[5])\n",
    "    if freq <= 100:\n",
    "        rating_count_frequency['0 - 100'] += 1\n",
    "    elif 100 < freq <= 8000:\n",
    "        rating_count_frequency['100 - 8000'] += 1\n",
    "    elif 8000 < freq <= 125000:\n",
    "        rating_count_frequency['8000 - 125,000'] += 1\n",
    "    elif 125000 < freq <= 425000:\n",
    "        rating_count_frequency['125,000 - 425,000'] += 1\n",
    "    elif freq > 425000:\n",
    "        rating_count_frequency['425,000 +'] += 1\n",
    "print(rating_count_frequency)\n",
    "print(sum(rating_count_frequency.values()))\n",
    "    "
   ]
  },
  {
   "cell_type": "code",
   "execution_count": 198,
   "metadata": {},
   "outputs": [
    {
     "name": "stdout",
     "output_type": "stream",
     "text": [
      "   0 - 100  100 - 8000  8000 - 125,000  125,000 - 425,000  425,000 +\n",
      "0     2708        3348             977                135         29\n"
     ]
    }
   ],
   "source": [
    "import pandas as pd\n",
    "\n",
    "df = pd.DataFrame([rating_count_frequency])\n",
    "print(df)"
   ]
  },
  {
   "cell_type": "code",
   "execution_count": null,
   "metadata": {},
   "outputs": [],
   "source": []
  }
 ],
 "metadata": {
  "kernelspec": {
   "display_name": "Python 3.9.12 ('base')",
   "language": "python",
   "name": "python3"
  },
  "language_info": {
   "codemirror_mode": {
    "name": "ipython",
    "version": 3
   },
   "file_extension": ".py",
   "mimetype": "text/x-python",
   "name": "python",
   "nbconvert_exporter": "python",
   "pygments_lexer": "ipython3",
   "version": "3.9.12"
  },
  "orig_nbformat": 4,
  "vscode": {
   "interpreter": {
    "hash": "25f3487451846e861a280f856ffdd5c623fcab8a2610d2814eeeaeba8b3c73c9"
   }
  }
 },
 "nbformat": 4,
 "nbformat_minor": 2
}
