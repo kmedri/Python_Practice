{
 "cells": [
  {
   "cell_type": "markdown",
   "metadata": {},
   "source": [
    "Given a list of integers, write a Python program that counts how many values in the list are greater than 100."
   ]
  },
  {
   "cell_type": "code",
   "execution_count": 25,
   "metadata": {},
   "outputs": [
    {
     "name": "stdout",
     "output_type": "stream",
     "text": [
      "13\n"
     ]
    }
   ],
   "source": [
    "values = [80, 109, 111, 109, 94, 93, 108, 107, 81, 111, 114, 102, 81, 107, 120, 108, 92, 113, 119, 97]\n",
    "\n",
    "num_bigger = 0\n",
    "\n",
    "for i in values:\n",
    "    if i > 100:\n",
    "        num_bigger += 1\n",
    "    \n",
    "print(num_bigger)"
   ]
  },
  {
   "cell_type": "markdown",
   "metadata": {},
   "source": [
    "Given a list of integers, write a Python program that counts how many even and odd values it contains.\n",
    "\n",
    "A number is even if it is divisible by 2. It is odd otherwise.\n",
    "\n",
    "\n",
    "Write a program to count how many even and odd numbers are in the values list.\n",
    "Assign to a variable named num_even the number of even values.\n",
    "Assign to a variable named num_odd the number of odd values."
   ]
  },
  {
   "cell_type": "code",
   "execution_count": 4,
   "metadata": {},
   "outputs": [
    {
     "name": "stdout",
     "output_type": "stream",
     "text": [
      "8\n",
      "12\n"
     ]
    }
   ],
   "source": [
    "values = [80, 109, 111, 109, 94, 93, 108, 107, 81, 111, 114, 102, 81, 107, 120, 108, 92, 113, 119, 97]\n",
    "\n",
    "num_even = 0\n",
    "num_odd = 0\n",
    "\n",
    "for i in values:\n",
    "    if (i % 2) == 0:\n",
    "        num_even += 1\n",
    "    \n",
    "    if (i % 2) >= 1:\n",
    "        num_odd += 1\n",
    "    \n",
    "print(num_even)\n",
    "print(num_odd)"
   ]
  },
  {
   "cell_type": "code",
   "execution_count": 6,
   "metadata": {},
   "outputs": [
    {
     "name": "stdout",
     "output_type": "stream",
     "text": [
      "8\n",
      "12\n"
     ]
    }
   ],
   "source": [
    "num_even = 0\n",
    "for value in values:\n",
    "    if value % 2 == 0:\n",
    "        num_even += 1\n",
    "num_odd = len(values) - num_even\n",
    "\n",
    "print(num_even)\n",
    "print(num_odd)"
   ]
  },
  {
   "cell_type": "code",
   "execution_count": 8,
   "metadata": {},
   "outputs": [
    {
     "name": "stdout",
     "output_type": "stream",
     "text": [
      "8\n",
      "12\n"
     ]
    }
   ],
   "source": [
    "num_even = 0\n",
    "num_odd = 0\n",
    "for value in values:\n",
    "    if value % 2 == 0:\n",
    "        num_even += 1\n",
    "    else:\n",
    "        num_odd += 1\n",
    "        \n",
    "print(num_even)\n",
    "print(num_odd)"
   ]
  },
  {
   "cell_type": "code",
   "execution_count": 22,
   "metadata": {},
   "outputs": [
    {
     "name": "stdout",
     "output_type": "stream",
     "text": [
      "[80, 109, 111, 109, 94, 93, 108, 107, 81, 111, 110, 114, 102, 81, 107, 120, 108, 92, 113, 119, 97]\n",
      "[80, 109, 111, 109, 94, 93, 108, 107, 81, 111, 101, 114, 102, 81, 107, 120, 108, 92, 113, 119, 97]\n",
      "False\n"
     ]
    }
   ],
   "source": [
    "values1 = [80, 109, 111, 109, 94, 93, 108, 107, 81, 111, 101, 114, 102, 81, 107, 120, 108, 92, 113, 119, 97]\n",
    "values2 = [97, 119, 113, 92, 108, 120, 107, 81, 102, 114, 110, 111, 81, 107, 108, 93, 94, 109, 111, 109, 80]\n",
    "\n",
    "values3 = values2[::-1]\n",
    "is_reversed = True\n",
    "if values1 == values3:\n",
    "    is_reversed = True\n",
    "else:\n",
    "    is_reversed = False\n",
    "    \n",
    "print(is_reversed)"
   ]
  },
  {
   "cell_type": "code",
   "execution_count": 23,
   "metadata": {},
   "outputs": [
    {
     "name": "stdout",
     "output_type": "stream",
     "text": [
      "False\n"
     ]
    }
   ],
   "source": [
    "is_reversed = True\n",
    "for i in range(len(values1)):\n",
    "    if values1[i] != values2[-i - 1]:\n",
    "        is_reversed = False\n",
    "        \n",
    "print(is_reversed)"
   ]
  },
  {
   "cell_type": "code",
   "execution_count": 24,
   "metadata": {},
   "outputs": [
    {
     "name": "stdout",
     "output_type": "stream",
     "text": [
      "False\n"
     ]
    }
   ],
   "source": [
    "is_reverse = True\n",
    "for i in range(len(values1)):\n",
    "    if values1[i] != values2[len(values1) - i - 1]:\n",
    "        is_reverse = False\n",
    "\n",
    "print(is_reversed)"
   ]
  },
  {
   "cell_type": "markdown",
   "metadata": {},
   "source": [
    "Given two strings, create a list that contains the characters that are common to both lists. The list of common characters should not contain duplicates, but it can have any order.\n",
    "\n",
    "For example, if the strings are:\n",
    "```\n",
    "s1 = 'a banana!'\n",
    "s2 = 'a ananas!'\n",
    "```\n",
    "\n",
    "Then both `[' ', 'a', 'n', '!']` and `['!', 'n', ' ', 'a']` are valid answers. However, `['a', ' ', 'n', 'a', 'n', 'a', '!']` is not because it contains duplicates.\n",
    "\n",
    "Instructions\n",
    "\n",
    "Write a program that creates a list named common that contains the characters that are common to both s1 and s2.\n",
    "The list of common characters should not contain duplicates, but it can have any order."
   ]
  },
  {
   "cell_type": "code",
   "execution_count": 26,
   "metadata": {},
   "outputs": [
    {
     "name": "stdout",
     "output_type": "stream",
     "text": [
      "[' ', 'h', 'a', 'v', 'e', 'b', 'n', 'u', 's', 'i', 'r', 't', 'd', 'y', 'o', 'm', 'p', '.']\n"
     ]
    }
   ],
   "source": [
    "s1 = 'I have been busier these days due to having a lot on my plate.'\n",
    "s2 = 'You have been very supportive towards my recent endeavors.'\n",
    "\n",
    "common = []\n",
    "for c in s1:\n",
    "    if c in s2 and c not in common:\n",
    "        common.append(c)\n",
    "        \n",
    "print(common)\n",
    "    "
   ]
  },
  {
   "cell_type": "markdown",
   "metadata": {},
   "source": [
    "Given a list of numbers, calculate the maximum value in that list. The goal is to avoid using the `max()` function.\n",
    "\n",
    "Instructions\n",
    "\n",
    "Write a program that calculates the maximum of the values list without using a built-in function.\n",
    "Assign the maximum value to a variable named maximum."
   ]
  },
  {
   "cell_type": "code",
   "execution_count": 27,
   "metadata": {},
   "outputs": [
    {
     "name": "stdout",
     "output_type": "stream",
     "text": [
      "96\n"
     ]
    }
   ],
   "source": [
    "values = [72, 48, 7, 66, 62, 32, 33, 75, 30, 85, 6, 85, 82, 88, 30, 32, 78, 39, 57, 96, 45, 57, 61, 10, 62, 48, 32, 96, 75, 15]\n",
    "\n",
    "maximum = values[0]\n",
    "for v in values:\n",
    "    if v > maximum:\n",
    "        maximum = v\n",
    "        \n",
    "print(maximum)"
   ]
  },
  {
   "cell_type": "markdown",
   "metadata": {},
   "source": [
    "Now find the minimum"
   ]
  },
  {
   "cell_type": "code",
   "execution_count": 28,
   "metadata": {},
   "outputs": [
    {
     "name": "stdout",
     "output_type": "stream",
     "text": [
      "6\n"
     ]
    }
   ],
   "source": [
    "values = [72, 48, 7, 66, 62, 32, 33, 75, 30, 85, 6, 85, 82, 88, 30, 32, 78, 39, 57, 96, 45, 57, 61, 10, 62, 48, 32, 96, 75, 15]\n",
    "\n",
    "\n",
    "minimum = values[0]\n",
    "for v in values:\n",
    "    if v < minimum:\n",
    "        minimum = v\n",
    "        \n",
    "print(minimum)"
   ]
  },
  {
   "cell_type": "markdown",
   "metadata": {},
   "source": [
    "Given a list of numbers, find a pair of distinct values whose sum is equal to 100.\n",
    "\n",
    "Instructions\n",
    "\n",
    "Find two distinct numbers in values whose sum is equal to 100.\n",
    "Assign one of them to value1 and the other one to value2.\n",
    "If there are several solutions, any one will be marked as correct.\n",
    "\n",
    "Optional step to check your answer:\n",
    "\n",
    "Print the value of value1 and value2."
   ]
  },
  {
   "cell_type": "code",
   "execution_count": 29,
   "metadata": {},
   "outputs": [
    {
     "name": "stdout",
     "output_type": "stream",
     "text": [
      "15\n",
      "85\n"
     ]
    }
   ],
   "source": [
    "values = [72, 50, 48, 50, 7, 66, 62, 32, 33, 75, 30, 85, 6, 85, 82, 88, 30, 32, 78, 39, 57, 96, 45, 57, 61, 10, 62, 48, 32, 96, 75, 15, 50, 50]\n",
    "\n",
    "value1 = 0\n",
    "value2 = 0\n",
    "\n",
    "for x in values:\n",
    "    for y in values:\n",
    "        if x + y == 100 and x != y:\n",
    "            value1 = x\n",
    "            value2 = y\n",
    "        \n",
    "print(value1)\n",
    "print(value2)"
   ]
  },
  {
   "cell_type": "markdown",
   "metadata": {},
   "source": [
    "Given a list of numbers, find the number that appears the most.\n",
    "\n",
    "Instructions\n",
    "\n",
    "Find the most frequent value in values, assign the result to the variable most_frequent and print the result."
   ]
  },
  {
   "cell_type": "code",
   "execution_count": 30,
   "metadata": {},
   "outputs": [
    {
     "name": "stdout",
     "output_type": "stream",
     "text": [
      "32\n"
     ]
    }
   ],
   "source": [
    "values = [72, 50, 48, 50, 7, 66, 62, 32, 33, 75, 30, 85, 6, 85, 82, 88, 30, 32, 78, 39, 57, 96, 45, 57, 61, 32, 10, 62, 48, 32, 96, 75, 15]\n",
    "\n",
    "most_frequent = values[0]\n",
    "for value in values:\n",
    "    if values.count(value) > values.count(most_frequent):\n",
    "        most_frequent = value\n",
    "print(most_frequent)"
   ]
  },
  {
   "cell_type": "markdown",
   "metadata": {},
   "source": [
    "For this practice problem, you'll be working with the data set behind this FiveThirtyEight article on common unisex (gender-neutral) names in the United States.\n",
    "\n",
    "The data is contained the CSV file dq_unisex_names.csv. Here are the first few rows:\n",
    "\n",
    "|name\t|estimated_number|\n",
    "|-------|----------------|\n",
    "|Casey\t|176544.328149|\n",
    "Riley\t|154860.66517300002\n",
    "Jessie\t|136381.830656\n",
    "Jackie\t|132928.78874000002\n",
    "Avery\t|121797.41951600001\n",
    "\n",
    "The first column gives the names and the second column gives the estimated number of people with those names in the United States.\n",
    "\n",
    "In this practice problem, you'll read the CSV file and count how many names have an estimated number greater than or equal to 100,000.\n",
    "\n",
    "Instructions\n",
    "\n",
    "Read the data from dq_unisex_names.csv.\n",
    "Count how many names have an estimated number greater than or equal to 100,000.\n",
    "Assign the result to a variable named count."
   ]
  },
  {
   "cell_type": "code",
   "execution_count": 31,
   "metadata": {},
   "outputs": [
    {
     "name": "stdout",
     "output_type": "stream",
     "text": [
      "6\n"
     ]
    }
   ],
   "source": [
    "import csv\n",
    "file = open('dq_unisex_names.csv')\n",
    "reader = csv.reader(file)\n",
    "rows = list(reader)\n",
    "\n",
    "count = 0\n",
    "for row in rows[1:]:\n",
    "    if float(row[1]) >= 100000:\n",
    "        count += 1\n",
    "\n",
    "print(count)"
   ]
  },
  {
   "cell_type": "markdown",
   "metadata": {},
   "source": [
    "For this practice problem, you'll be working with the data set behind this FiveThirtyEight article on common unisex (gender-neutral) names in the United States.\n",
    "\n",
    "The data is contained the CSV file dq_unisex_names.csv. Here are the first few rows:\n",
    "\n",
    "|name\t|estimated_number|\n",
    "|-------|----------------|\n",
    "|Casey\t|176544.328149|\n",
    "Riley\t|154860.66517300002\n",
    "Jessie\t|136381.830656\n",
    "Jackie\t|132928.78874000002\n",
    "Avery\t|121797.41951600001\n",
    "\n",
    "The first column gives the names and the second column gives the estimated number of people with those names in the United States.\n",
    "\n",
    "In this problem, you'll create a new list containing only the rows where the length of the corresponding name is greater than ten.\n",
    "\n",
    "Instructions\n",
    "\n",
    "Read the data from dq_unisex_names.csv.\n",
    "Create a list named longest_names containing all names with length greater than ten.\n",
    "Optional steps to test your answer:\n",
    "\n",
    "Print the first five names in longest_names."
   ]
  },
  {
   "cell_type": "code",
   "execution_count": 32,
   "metadata": {},
   "outputs": [
    {
     "name": "stdout",
     "output_type": "stream",
     "text": [
      "Oluwadamilola\n",
      "Oluwanifemi\n",
      "Oluwademilade\n",
      "Oluwatomisin\n",
      "Oluwadarasimi\n"
     ]
    }
   ],
   "source": [
    "import csv\n",
    "file = open('dq_unisex_names.csv')\n",
    "reader = csv.reader(file)\n",
    "rows = list(reader)\n",
    "\n",
    "longest_names = []\n",
    "for row in rows[1:]:\n",
    "    if len(row[0]) > 10:\n",
    "        longest_names.append(row[0])\n",
    "\n",
    "for i in range(5):\n",
    "    print(longest_names[i])"
   ]
  },
  {
   "cell_type": "markdown",
   "metadata": {},
   "source": [
    "For this practice problem, you'll be working with the data set behind this FiveThirtyEight article on common unisex (gender-neutral) names in the United States.\n",
    "\n",
    "The data is contained the CSV file dq_unisex_names.csv. Here are the first few rows:\n",
    "\n",
    "|name\t|estimated_number|\n",
    "|-------|----------------|\n",
    "|Casey\t|176544.328149|\n",
    "Riley\t|154860.66517300002\n",
    "Jessie\t|136381.830656\n",
    "Jackie\t|132928.78874000002\n",
    "Avery\t|121797.41951600001\n",
    "\n",
    "The first column gives the names and the second column gives the estimated number of people with those names in the United States.\n",
    "\n",
    "In this practice problem, you'll need to find the most common unisex named. This means finding the name for which the estimated_number is the largest.\n",
    "\n",
    "Instructions\n",
    "\n",
    "Read the data from dq_unisex_names.csv.\n",
    "Find out what is the name with the largest estimated number and print it."
   ]
  },
  {
   "cell_type": "code",
   "execution_count": 33,
   "metadata": {},
   "outputs": [
    {
     "name": "stdout",
     "output_type": "stream",
     "text": [
      "Casey\n"
     ]
    }
   ],
   "source": [
    "import csv\n",
    "file = open('dq_unisex_names.csv')\n",
    "reader = csv.reader(file)\n",
    "rows = list(reader)\n",
    "\n",
    "maximum = None\n",
    "max_name = None\n",
    "for row in rows[1:]:\n",
    "    if maximum == None or float(row[1]) > maximum:\n",
    "        maximum = float(row[1])\n",
    "        max_name = row[0]\n",
    "\n",
    "print(max_name)"
   ]
  },
  {
   "cell_type": "markdown",
   "metadata": {},
   "source": [
    "For this practice problem, you'll be working with the data set behind this FiveThirtyEight article on common unisex (gender-neutral) names in the United States.\n",
    "\n",
    "The data is contained the CSV file dq_unisex_names.csv. Here are the first few rows:\n",
    "\n",
    "|name\t|estimated_number|\n",
    "|-------|----------------|\n",
    "|Casey\t|176544.328149|\n",
    "Riley\t|154860.66517300002\n",
    "Jessie\t|136381.830656\n",
    "Jackie\t|132928.78874000002\n",
    "Avery\t|121797.41951600001\n",
    "\n",
    "The first column gives the names and the seconds the estimated number of people with those names is the United States.\n",
    "\n",
    "Let's calculate all names that have an estimated number of at most 1,000 people (inclusive).\n",
    "\n",
    "Instructions\n",
    "\n",
    "Read the data from dq_unisex_names.csv.\n",
    "Create a list rare_names and add to it all names whose estimated number is at most 1,000.\n",
    "Optional steps to test your answer:\n",
    "\n",
    "Print the first five names in rare_names."
   ]
  },
  {
   "cell_type": "code",
   "execution_count": 34,
   "metadata": {},
   "outputs": [
    {
     "name": "stdout",
     "output_type": "stream",
     "text": [
      "Eliyah\n",
      "Tonnie\n",
      "Teagen\n",
      "Rudi\n",
      "Kamani\n"
     ]
    }
   ],
   "source": [
    "import csv\n",
    "file = open('dq_unisex_names.csv')\n",
    "reader = csv.reader(file)\n",
    "rows = list(reader)\n",
    "\n",
    "rare_names = []\n",
    "for row in rows[1:]:\n",
    "    if float(row[1]) <= 1000:\n",
    "        rare_names.append(row[0])\n",
    "\n",
    "# Testing the solution\n",
    "for i in range(5):\n",
    "    print(rare_names[i])"
   ]
  },
  {
   "cell_type": "code",
   "execution_count": null,
   "metadata": {},
   "outputs": [],
   "source": []
  }
 ],
 "metadata": {
  "kernelspec": {
   "display_name": "Python 3.9.12 ('base')",
   "language": "python",
   "name": "python3"
  },
  "language_info": {
   "codemirror_mode": {
    "name": "ipython",
    "version": 3
   },
   "file_extension": ".py",
   "mimetype": "text/x-python",
   "name": "python",
   "nbconvert_exporter": "python",
   "pygments_lexer": "ipython3",
   "version": "3.9.12"
  },
  "orig_nbformat": 4,
  "vscode": {
   "interpreter": {
    "hash": "25f3487451846e861a280f856ffdd5c623fcab8a2610d2814eeeaeba8b3c73c9"
   }
  }
 },
 "nbformat": 4,
 "nbformat_minor": 2
}
