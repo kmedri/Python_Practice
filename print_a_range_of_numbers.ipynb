{
 "cells": [
  {
   "cell_type": "markdown",
   "metadata": {},
   "source": [
    "In this practice problem, you will have to print all numbers from 0 (inclusive) up to N (inclusive).\n",
    "\n",
    "For this, we recommend that you use the range() built-in function.\n",
    "\n",
    "You can use:\n",
    "```\n",
    " for var_name in range(2, 7): \n",
    "```\n",
    "to iterate a variable named var_name over the numbers from 2 to 6. Note that the end of the range, 7, is exclusive. Therefore the iteration will end at 6.\n",
    "\n",
    "For example:\n",
    "```\n",
    "for i in range(2, 7):\n",
    "    print(i)\n",
    "```\n",
    "Copy\n",
    "2\n",
    "3\n",
    "4\n",
    "5\n",
    "6\n",
    "\n",
    "Copy\n",
    "By default, the start of the range is 0. So if you only give one argument, it will be considered as the end of the range:\n",
    "\n",
    "For example:\n",
    "```\n",
    "for i in range(7):\n",
    "    print(i)\n",
    "```\n",
    "Copy\n",
    "0\n",
    "1\n",
    "2\n",
    "3\n",
    "4\n",
    "5\n",
    "6\n",
    "\n",
    "Copy\n",
    "Instructions\n",
    "\n",
    "We declared a variable N for you.\n",
    "\n",
    "Your task is to print all values from 0 to N (inclusive)."
   ]
  },
  {
   "cell_type": "code",
   "execution_count": 1,
   "metadata": {},
   "outputs": [
    {
     "name": "stdout",
     "output_type": "stream",
     "text": [
      "0\n",
      "1\n",
      "2\n",
      "3\n",
      "4\n",
      "5\n",
      "6\n",
      "7\n",
      "8\n",
      "9\n",
      "10\n",
      "11\n"
     ]
    }
   ],
   "source": [
    "N = 11\n",
    "\n",
    "# Write your answer below\n",
    "\n",
    "for i in range(12):\n",
    "    print(i)"
   ]
  },
  {
   "cell_type": "markdown",
   "metadata": {},
   "source": [
    "Underscore **_** can also be used when not iterating"
   ]
  },
  {
   "cell_type": "code",
   "execution_count": 2,
   "metadata": {},
   "outputs": [
    {
     "name": "stdout",
     "output_type": "stream",
     "text": [
      "42\n",
      "43\n",
      "44\n",
      "45\n",
      "46\n",
      "47\n",
      "48\n",
      "49\n",
      "50\n",
      "51\n",
      "52\n",
      "53\n",
      "54\n",
      "55\n",
      "56\n",
      "57\n",
      "58\n",
      "59\n"
     ]
    }
   ],
   "source": [
    "for _ in range(42, 60):\n",
    "    print(_)"
   ]
  },
  {
   "cell_type": "code",
   "execution_count": null,
   "metadata": {},
   "outputs": [],
   "source": []
  }
 ],
 "metadata": {
  "kernelspec": {
   "display_name": "Python 3.9.12 ('base')",
   "language": "python",
   "name": "python3"
  },
  "language_info": {
   "codemirror_mode": {
    "name": "ipython",
    "version": 3
   },
   "file_extension": ".py",
   "mimetype": "text/x-python",
   "name": "python",
   "nbconvert_exporter": "python",
   "pygments_lexer": "ipython3",
   "version": "3.9.12"
  },
  "orig_nbformat": 4,
  "vscode": {
   "interpreter": {
    "hash": "25f3487451846e861a280f856ffdd5c623fcab8a2610d2814eeeaeba8b3c73c9"
   }
  }
 },
 "nbformat": 4,
 "nbformat_minor": 2
}
