{
 "cells": [
  {
   "cell_type": "markdown",
   "metadata": {},
   "source": [
    "In mathematics, a n by m matrix is a table of numbers with n rows and m columns.\n",
    "\n",
    "Here is an example of a 3 by 4 matrix:\n",
    "\n",
    "![](matrix1.svg)\n",
    "\n",
    "matrix\n",
    "In Python, we can represent a matrix using a list of lists of numbers. For example, the above matrix could be represented by:\n",
    "\n",
    "```\n",
    "matrix = [\n",
    "    [0, 9, 5, 4],\n",
    "    [8, 2, 3, 0],\n",
    "    [1, 5, 3, 2]\n",
    "]\n",
    "```\n",
    "Instructions\n",
    "\n",
    "Write a Python program that calculates the number of rows and columns of the matrix stored in variable matrix.\n",
    "Assign the number of rows to a variable named num_rows and the number of columns to a variable named num_cols."
   ]
  },
  {
   "cell_type": "code",
   "execution_count": 1,
   "metadata": {},
   "outputs": [
    {
     "name": "stdout",
     "output_type": "stream",
     "text": [
      "5\n",
      "9\n"
     ]
    }
   ],
   "source": [
    "matrix = [\n",
    "    [0, 9, 5, 4, 5, 3, 1, 5, 7],\n",
    "    [8, 2, 1, 7, 3, 1, 5, 7, 0],\n",
    "    [1, 5, 3, 2, 7, 1, 4, 4, 8],\n",
    "    [2, 5, 6, 2, 0, 4, 1, 9, 3],\n",
    "    [7, 4, 2, 9, 7, 0, 7, 4, 4],\n",
    "]\n",
    "\n",
    "# Write your code below\n",
    "\n",
    "num_rows = (len(matrix))\n",
    "num_cols = (len(matrix[0]))\n",
    "\n",
    "print(num_rows)\n",
    "print(num_cols)"
   ]
  },
  {
   "cell_type": "markdown",
   "metadata": {},
   "source": [
    "In mathematics, a n by m matrix is a table of numbers with n rows and m columns.\n",
    "\n",
    "Here is an example of a 3 by 4 matrix:\n",
    "\n",
    "![](matrix1.svg)\n",
    "\n",
    "matrix\n",
    "In Python, we can represent a matrix using a list of lists of numbers. For example, the above matrix could be represented by:\n",
    "\n",
    "matrix = [\n",
    "    [0, 9, 5, 4],\n",
    "    [8, 2, 3, 0],\n",
    "    [1, 5, 3, 2]\n",
    "]\n",
    "matrix = [\n",
    "    [0, 9, 5, 4],\n",
    "    [8, 2, 3, 0],\n",
    "    [1, 5, 3, 2]\n",
    "]\n",
    "\n",
    "Copy\n",
    "To access the value at row 1 and column 3, we can do (remember that indexes start at 0):\n",
    "\n",
    "print(matrix[1][3])\n",
    "\n",
    "Copy\n",
    "0\n",
    "\n",
    "Copy\n",
    "Instructions\n",
    "\n",
    "Write a Python program that sums all values in the matrix stored in variable matrix. Assign the result to a variable named total."
   ]
  },
  {
   "cell_type": "code",
   "execution_count": 2,
   "metadata": {},
   "outputs": [
    {
     "name": "stdout",
     "output_type": "stream",
     "text": [
      "42\n"
     ]
    }
   ],
   "source": [
    "matrix = [\n",
    "    [0, 9, 5, 4],\n",
    "    [8, 2, 3, 0],\n",
    "    [1, 5, 3, 2]\n",
    "]\n",
    "\n",
    "# Write your code below\n",
    "\n",
    "total = sum([sum(listElement) for listElement in matrix])\n",
    "print(total)"
   ]
  },
  {
   "cell_type": "markdown",
   "metadata": {},
   "source": [
    "Write a Python program that calculates the average of the values list. Assign the result to a variable named average"
   ]
  },
  {
   "cell_type": "code",
   "execution_count": 3,
   "metadata": {},
   "outputs": [
    {
     "name": "stdout",
     "output_type": "stream",
     "text": [
      "48.0\n"
     ]
    }
   ],
   "source": [
    "values = [61, 20, 45, 63, 96, 71, 6, 8, 72, 22, 97, 7, 46, 11, 15, 74, 81, 69, 70, 26]\n",
    "\n",
    "average = sum(values) / len(values)\n",
    "print(average)"
   ]
  },
  {
   "cell_type": "markdown",
   "metadata": {},
   "source": [
    "Create a list named word_len whose elements are the lengths of the words in words. The first element should be the length of the first word; the second element is the length of the second word, and so on."
   ]
  },
  {
   "cell_type": "code",
   "execution_count": 4,
   "metadata": {},
   "outputs": [
    {
     "name": "stdout",
     "output_type": "stream",
     "text": [
      "[6, 10, 5, 10, 7, 4, 11, 8, 11, 12, 4, 3, 4, 5, 5, 10, 7, 8, 6, 4]\n"
     ]
    }
   ],
   "source": [
    "words = ['tissue', 'psychology', 'blind', 'assessment', 'dynamic', 'hero', 'circulation', 'merchant', 'publication', 'interference', 'show', 'joy', 'sour', 'aloof', 'grass', 'distortion', 'exclude', 'pressure', 'bullet', 'calf']\n",
    "\n",
    "word_len = [len(listElement) for listElement in words]\n",
    "\n",
    "print(word_len)"
   ]
  },
  {
   "cell_type": "code",
   "execution_count": null,
   "metadata": {},
   "outputs": [],
   "source": []
  }
 ],
 "metadata": {
  "kernelspec": {
   "display_name": "Python 3.9.12 ('base')",
   "language": "python",
   "name": "python3"
  },
  "language_info": {
   "codemirror_mode": {
    "name": "ipython",
    "version": 3
   },
   "file_extension": ".py",
   "mimetype": "text/x-python",
   "name": "python",
   "nbconvert_exporter": "python",
   "pygments_lexer": "ipython3",
   "version": "3.9.12"
  },
  "orig_nbformat": 4,
  "vscode": {
   "interpreter": {
    "hash": "25f3487451846e861a280f856ffdd5c623fcab8a2610d2814eeeaeba8b3c73c9"
   }
  }
 },
 "nbformat": 4,
 "nbformat_minor": 2
}
