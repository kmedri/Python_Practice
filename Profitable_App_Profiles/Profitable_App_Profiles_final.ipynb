{
 "cells": [
  {
   "cell_type": "markdown",
   "metadata": {},
   "source": [
    "# Maximise in App Add Revenue\n",
    "Company A builds free to download apps for the IOS and Google Play platforms. \n",
    " \n",
    "It relies on in app adds for its revenue and requires large numbers of users.  \n",
    "We are working as Data Analysts to try and uncover what apps may attract the most users.  \n",
    "\n",
    "By exploring some of the data from the Apple Store and Google Play Store we will look to see what apps are likely to attract more customers."
   ]
  },
  {
   "cell_type": "markdown",
   "metadata": {},
   "source": [
    "## Imports"
   ]
  },
  {
   "cell_type": "code",
   "execution_count": 2,
   "metadata": {},
   "outputs": [],
   "source": [
    "from csv import reader\n",
    "import emoji as em\n",
    "from operator import itemgetter"
   ]
  },
  {
   "cell_type": "markdown",
   "metadata": {},
   "source": [
    "## Functions\n",
    "\n",
    "Lets use the following functions to make our lives a bit easier. The first function opens and reads the data and the secound will return a slice of the data as well as the number of rows and columns."
   ]
  },
  {
   "cell_type": "code",
   "execution_count": 3,
   "metadata": {},
   "outputs": [],
   "source": [
    "def open_dataset(file_name, header=True):\n",
    "    '''\n",
    "    Opens a .csv file.\n",
    "\n",
    "    Args:\n",
    "        file_name (str): Name of .csv file to open.\n",
    "        header (bool, optional): Has a header or not. Defaults to True.\n",
    "\n",
    "    Returns:\n",
    "        Lists: Opens the .csv file and converts to a list or list of lists\n",
    "    '''          \n",
    "    opened_file = open(file_name, encoding=\"utf8\")\n",
    "    read_file = reader(opened_file)\n",
    "    data = list(read_file)\n",
    "    # Left this in to create two datasets if header is True.\n",
    "    if header:\n",
    "        return data[1:], data[0]\n",
    "    else:\n",
    "        return data\n",
    "  \n",
    "def explore_data(dataset, start, end, rows_and_columns=False):\n",
    "    '''\n",
    "    Explores a data set and returns a slice of the data. If rows and columns is set to True will return the number of rows and columns.\n",
    "\n",
    "    Args:\n",
    "        dataset (variable): Name of variable holding the data.\n",
    "        start (int): Index of first row to slice.\n",
    "        end (int): Index of last row to slice.\n",
    "        rows_and_columns (bool, optional): Set to True if the data has a header. Defaults to False.\n",
    "    '''\n",
    "    dataset_slice = dataset[start:end]    \n",
    "    for row in dataset_slice:\n",
    "        print(row)\n",
    "        print('\\n') # adds a new (empty) line after each row\n",
    "\n",
    "    if rows_and_columns:\n",
    "        print('Number of rows:', len(dataset))\n",
    "        print('Number of columns:', len(dataset[0]))"
   ]
  },
  {
   "cell_type": "markdown",
   "metadata": {},
   "source": [
    "## The Raw Data\n",
    "Lets explore the two datasets from Kaggle to get a grasp of the data and to investigate the header names to determine which columns will be of best use for our research."
   ]
  },
  {
   "cell_type": "markdown",
   "metadata": {},
   "source": [
    "### Google Data"
   ]
  },
  {
   "cell_type": "code",
   "execution_count": 4,
   "metadata": {},
   "outputs": [
    {
     "name": "stdout",
     "output_type": "stream",
     "text": [
      "['App', 'Category', 'Rating', 'Reviews', 'Size', 'Installs', 'Type', 'Price', 'Content Rating', 'Genres', 'Last Updated', 'Current Ver', 'Android Ver']\n",
      "\n",
      "\n",
      "['Photo Editor & Candy Camera & Grid & ScrapBook', 'ART_AND_DESIGN', '4.1', '159', '19M', '10,000+', 'Free', '0', 'Everyone', 'Art & Design', 'January 7, 2018', '1.0.0', '4.0.3 and up']\n",
      "\n",
      "\n",
      "['Coloring book moana', 'ART_AND_DESIGN', '3.9', '967', '14M', '500,000+', 'Free', '0', 'Everyone', 'Art & Design;Pretend Play', 'January 15, 2018', '2.0.0', '4.0.3 and up']\n",
      "\n",
      "\n",
      "['U Launcher Lite – FREE Live Cool Themes, Hide Apps', 'ART_AND_DESIGN', '4.7', '87510', '8.7M', '5,000,000+', 'Free', '0', 'Everyone', 'Art & Design', 'August 1, 2018', '1.2.4', '4.0.3 and up']\n",
      "\n",
      "\n",
      "['Sketch - Draw & Paint', 'ART_AND_DESIGN', '4.5', '215644', '25M', '50,000,000+', 'Free', '0', 'Teen', 'Art & Design', 'June 8, 2018', 'Varies with device', '4.2 and up']\n",
      "\n",
      "\n",
      "Number of rows: 10841\n",
      "Number of columns: 13\n",
      "None\n"
     ]
    }
   ],
   "source": [
    "google_data, google_data_header = open_dataset('googleplaystore.csv')\n",
    "print(google_data_header)\n",
    "print('\\n')\n",
    "print(explore_data(google_data, 0, 4, rows_and_columns=True))"
   ]
  },
  {
   "cell_type": "markdown",
   "metadata": {},
   "source": [
    "### Column Headers\n",
    "From the headers we can see these column names to be useful to us:  \n",
    "`'App'`, `'Category'`, `'Reviews'`, `'Installs'`, `'Type'`, and `'Genres'`"
   ]
  },
  {
   "cell_type": "markdown",
   "metadata": {},
   "source": [
    "### Apple Data"
   ]
  },
  {
   "cell_type": "code",
   "execution_count": 5,
   "metadata": {},
   "outputs": [
    {
     "name": "stdout",
     "output_type": "stream",
     "text": [
      "['id', 'track_name', 'size_bytes', 'currency', 'price', 'rating_count_tot', 'rating_count_ver', 'user_rating', 'user_rating_ver', 'ver', 'cont_rating', 'prime_genre', 'sup_devices.num', 'ipadSc_urls.num', 'lang.num', 'vpp_lic']\n",
      "\n",
      "\n",
      "['284882215', 'Facebook', '389879808', 'USD', '0.0', '2974676', '212', '3.5', '3.5', '95.0', '4+', 'Social Networking', '37', '1', '29', '1']\n",
      "\n",
      "\n",
      "['389801252', 'Instagram', '113954816', 'USD', '0.0', '2161558', '1289', '4.5', '4.0', '10.23', '12+', 'Photo & Video', '37', '0', '29', '1']\n",
      "\n",
      "\n",
      "['529479190', 'Clash of Clans', '116476928', 'USD', '0.0', '2130805', '579', '4.5', '4.5', '9.24.12', '9+', 'Games', '38', '5', '18', '1']\n",
      "\n",
      "\n",
      "['420009108', 'Temple Run', '65921024', 'USD', '0.0', '1724546', '3842', '4.5', '4.0', '1.6.2', '9+', 'Games', '40', '5', '1', '1']\n",
      "\n",
      "\n",
      "Number of rows: 7197\n",
      "Number of columns: 16\n",
      "None\n"
     ]
    }
   ],
   "source": [
    "apple_data, apple_data_header = open_dataset('AppleStore.csv')\n",
    "print(apple_data_header)\n",
    "print('\\n')\n",
    "print(explore_data(apple_data, 0, 4, rows_and_columns=True))"
   ]
  },
  {
   "cell_type": "markdown",
   "metadata": {},
   "source": [
    "### Column Headers\n",
    "From the headers we can see these column names to be useful to us:  \n",
    "`'track_name'`, `'currency'`, `'price'`, `'rating_count_total'`, and `'prime_genre'`"
   ]
  },
  {
   "cell_type": "markdown",
   "metadata": {},
   "source": [
    "## Data Cleaning\n",
    "Remove errored row in the android data set as documented on Kaggle by @Giovanni Chrysostomo.  \n",
    "First we identify the errored row."
   ]
  },
  {
   "cell_type": "code",
   "execution_count": 6,
   "metadata": {},
   "outputs": [
    {
     "name": "stdout",
     "output_type": "stream",
     "text": [
      "['Life Made WI-Fi Touchscreen Photo Frame', '1.9', '19', '3.0M', '1,000+', 'Free', '0', 'Everyone', '', 'February 11, 2018', '1.0.19', '4.0 and up']\n",
      "\n",
      "\n",
      "['App', 'Category', 'Rating', 'Reviews', 'Size', 'Installs', 'Type', 'Price', 'Content Rating', 'Genres', 'Last Updated', 'Current Ver', 'Android Ver']\n",
      "10841\n"
     ]
    }
   ],
   "source": [
    "print(google_data[10472])\n",
    "print('\\n')\n",
    "print(google_data_header)\n",
    "print(len(google_data))"
   ]
  },
  {
   "cell_type": "markdown",
   "metadata": {},
   "source": [
    "We then remove the errored row using an `if` statement, to avoid incorrect deletion if the code runs again. We then get a row count to confirm deletion."
   ]
  },
  {
   "cell_type": "code",
   "execution_count": 7,
   "metadata": {},
   "outputs": [
    {
     "name": "stdout",
     "output_type": "stream",
     "text": [
      "10841\n",
      "10840\n"
     ]
    }
   ],
   "source": [
    "print(len(google_data))\n",
    "if google_data[10472][0] == 'Life Made WI-Fi Touchscreen Photo Frame':\n",
    "    del(google_data[10472])\n",
    "print(len(google_data))"
   ]
  },
  {
   "cell_type": "markdown",
   "metadata": {},
   "source": [
    "On quick inspection there appears to be duplicate data for Instagram in the android data set. A `for loop` uncovers 4 occurrence's of Instagram."
   ]
  },
  {
   "cell_type": "code",
   "execution_count": 8,
   "metadata": {},
   "outputs": [
    {
     "name": "stdout",
     "output_type": "stream",
     "text": [
      "['App', 'Category', 'Rating', 'Reviews']\n",
      "[['Instagram', 'SOCIAL', '4.5', '66577313'], ['Instagram', 'SOCIAL', '4.5', '66577446'], ['Instagram', 'SOCIAL', '4.5', '66577313'], ['Instagram', 'SOCIAL', '4.5', '66509917']]\n"
     ]
    }
   ],
   "source": [
    "instagram_duplicates = []\n",
    "for name in google_data:\n",
    "    if 'Instagram' == name[0]:\n",
    "        instagram_duplicates.append(name[0:4])\n",
    "print(google_data_header[0:4])\n",
    "print(instagram_duplicates)"
   ]
  },
  {
   "cell_type": "markdown",
   "metadata": {},
   "source": [
    "On closer inspection we can see that there are differences in the `values` in the `Reviews` column (`index [3]`).  \n",
    "\n",
    "Having duplicate data can corrupt our results. As we need `Reviews` to back up our results we will only remove the duplicates with the lowest number of `Reviews`.  \n",
    "\n",
    "We will now determine if the data has any more duplicates."
   ]
  },
  {
   "cell_type": "code",
   "execution_count": 9,
   "metadata": {},
   "outputs": [
    {
     "name": "stdout",
     "output_type": "stream",
     "text": [
      "Number of unique apps: 9659\n",
      "Number of duplicate apps: 1181\n",
      "Example of duplicate apps: \n",
      " \n",
      " ['AdWords Express', 'Asana: organize team projects', 'Box', 'Box', 'Crew - Free Messaging and Scheduling', 'FreshBooks Classic', 'Google Ads', 'Google Analytics', 'Google My Business', 'Google My Business', 'HipChat - Chat Built for Teams', 'Insightly CRM', 'MailChimp - Email, Marketing Automation', 'Quick PDF Scanner + OCR FREE', 'QuickBooks Accounting: Invoicing & Expenses', 'Slack', 'Xero Accounting Software', 'ZOOM Cloud Meetings', 'Zenefits', 'join.me - Simple Meetings']\n"
     ]
    }
   ],
   "source": [
    "duplicate_apps = []\n",
    "unique_apps = []\n",
    "\n",
    "for name in google_data:\n",
    "    name = name[0]\n",
    "    if name in unique_apps:\n",
    "        duplicate_apps.append(name)\n",
    "    else:\n",
    "        unique_apps.append(name)\n",
    "print('Number of unique apps:', len(unique_apps))\n",
    "print('Number of duplicate apps:', len(duplicate_apps))\n",
    "print('Example of duplicate apps:', '\\n', '\\n', sorted(duplicate_apps[:20]))"
   ]
  },
  {
   "cell_type": "markdown",
   "metadata": {},
   "source": [
    "We have 1181 occurrence's of duplicate apps.  \n",
    "  \n",
    "We will have to clean these up.  \n",
    "  \n",
    "To do this we will create a dictionary by looping over our data and checking to see that only the duplicate apps with the highest reviews are added."
   ]
  },
  {
   "cell_type": "code",
   "execution_count": 10,
   "metadata": {},
   "outputs": [],
   "source": [
    "max_reviews = {}\n",
    "for app in google_data:\n",
    "    name = app[0]\n",
    "    num_reviews = float(app[3])\n",
    "    if name in max_reviews and max_reviews[name] > num_reviews: # Ensures that the higher rated app is copied to the dictionary\n",
    "        max_reviews[name] = num_reviews\n",
    "    elif name not in max_reviews:\n",
    "        max_reviews[name] = num_reviews"
   ]
  },
  {
   "cell_type": "markdown",
   "metadata": {},
   "source": [
    "In an earlier section we determined there where 9659 unique apps. Lets confirm our dictionary has the correct amount of entries. "
   ]
  },
  {
   "cell_type": "code",
   "execution_count": 11,
   "metadata": {},
   "outputs": [
    {
     "name": "stdout",
     "output_type": "stream",
     "text": [
      "Expected length: 9659 \n",
      "Actual length: 9659\n"
     ]
    }
   ],
   "source": [
    "print('Expected length:', len(unique_apps), '\\nActual length:', len(max_reviews))"
   ]
  },
  {
   "cell_type": "markdown",
   "metadata": {},
   "source": [
    "Now we have all the unique data in our dictionary we can clean them from the data."
   ]
  },
  {
   "cell_type": "code",
   "execution_count": 12,
   "metadata": {},
   "outputs": [],
   "source": [
    "android_clean = []\n",
    "already_added = []\n",
    "\n",
    "for app in google_data:\n",
    "    name = app[0]\n",
    "    num_reviews = float(app[3])\n",
    "    \n",
    "    if (max_reviews[name] == num_reviews) and (name not in already_added):\n",
    "        android_clean.append(app)\n",
    "        already_added.append(name)"
   ]
  },
  {
   "cell_type": "code",
   "execution_count": 13,
   "metadata": {},
   "outputs": [
    {
     "name": "stdout",
     "output_type": "stream",
     "text": [
      "['Photo Editor & Candy Camera & Grid & ScrapBook', 'ART_AND_DESIGN', '4.1', '159', '19M', '10,000+', 'Free', '0', 'Everyone', 'Art & Design', 'January 7, 2018', '1.0.0', '4.0.3 and up']\n",
      "\n",
      "\n",
      "['Coloring book moana', 'ART_AND_DESIGN', '3.9', '967', '14M', '500,000+', 'Free', '0', 'Everyone', 'Art & Design;Pretend Play', 'January 15, 2018', '2.0.0', '4.0.3 and up']\n",
      "\n",
      "\n",
      "Number of rows: 9659\n",
      "Number of columns: 13\n"
     ]
    }
   ],
   "source": [
    "explore_data(android_clean, 0, 2, True)"
   ]
  },
  {
   "cell_type": "markdown",
   "metadata": {},
   "source": [
    "We will now check the apple data set."
   ]
  },
  {
   "cell_type": "code",
   "execution_count": 14,
   "metadata": {},
   "outputs": [
    {
     "name": "stdout",
     "output_type": "stream",
     "text": [
      "['id', 'track_name', 'size_bytes', 'currency', 'price', 'rating_count_tot', 'rating_count_ver', 'user_rating', 'user_rating_ver', 'ver', 'cont_rating', 'prime_genre', 'sup_devices.num', 'ipadSc_urls.num', 'lang.num', 'vpp_lic']\n",
      "['389801252', 'Instagram', '113954816', 'USD', '0.0', '2161558', '1289', '4.5', '4.0', '10.23', '12+', 'Photo & Video', '37', '0', '29', '1']\n"
     ]
    }
   ],
   "source": [
    "print(apple_data_header)\n",
    "print(apple_data[1])"
   ]
  },
  {
   "cell_type": "markdown",
   "metadata": {},
   "source": [
    "It appears we have two duplicates."
   ]
  },
  {
   "cell_type": "code",
   "execution_count": 15,
   "metadata": {},
   "outputs": [
    {
     "name": "stdout",
     "output_type": "stream",
     "text": [
      "Number of unique apps: 7195\n",
      "Number of duplicate apps: 2\n",
      "Example of duplicate apps: \n",
      " \n",
      " ['Mannequin Challenge', 'VR Roller Coaster']\n"
     ]
    }
   ],
   "source": [
    "duplicate_apps_apple = []\n",
    "unique_apps_apple = []\n",
    "\n",
    "for name in apple_data:\n",
    "    name = name[1]\n",
    "    if name in unique_apps_apple:\n",
    "        duplicate_apps_apple.append(name)\n",
    "    else:\n",
    "        unique_apps_apple.append(name)\n",
    "print('Number of unique apps:', len(unique_apps_apple))\n",
    "print('Number of duplicate apps:', len(duplicate_apps_apple))\n",
    "print('Example of duplicate apps:', '\\n', '\\n', sorted(duplicate_apps_apple))"
   ]
  },
  {
   "cell_type": "markdown",
   "metadata": {},
   "source": [
    "Lets identify the duplicate data."
   ]
  },
  {
   "cell_type": "code",
   "execution_count": 16,
   "metadata": {},
   "outputs": [
    {
     "name": "stdout",
     "output_type": "stream",
     "text": [
      "[(2948, 1), (4463, 1)]\n",
      "[(4442, 1), (4831, 1)]\n"
     ]
    }
   ],
   "source": [
    "def deep_index(lst, w):\n",
    "    return [(i, sub.index(w)) for (i, sub) in enumerate(lst) if w in sub]\n",
    "print(deep_index(apple_data, 'Mannequin Challenge'))\n",
    "print(deep_index(apple_data, 'VR Roller Coaster'))"
   ]
  },
  {
   "cell_type": "markdown",
   "metadata": {},
   "source": [
    "As there are only two duplicates lets examine them."
   ]
  },
  {
   "cell_type": "code",
   "execution_count": 17,
   "metadata": {},
   "outputs": [
    {
     "name": "stdout",
     "output_type": "stream",
     "text": [
      "['1173990889', 'Mannequin Challenge', '109705216', 'USD', '0.0', '668', '87', '3.0', '3.0', '1.4', '9+', 'Games', '37', '4', '1', '1']\n",
      "['1178454060', 'Mannequin Challenge', '59572224', 'USD', '0.0', '105', '58', '4.0', '4.5', '1.0.1', '4+', 'Games', '38', '5', '1', '1']\n",
      "['952877179', 'VR Roller Coaster', '169523200', 'USD', '0.0', '107', '102', '3.5', '3.5', '2.0.0', '4+', 'Games', '37', '5', '1', '1']\n",
      "['1089824278', 'VR Roller Coaster', '240964608', 'USD', '0.0', '67', '44', '3.5', '4.0', '0.81', '4+', 'Games', '38', '0', '1', '1']\n"
     ]
    }
   ],
   "source": [
    "print(apple_data[2948])\n",
    "print(apple_data[4463])\n",
    "print(apple_data[4442])\n",
    "print(apple_data[4831])"
   ]
  },
  {
   "cell_type": "markdown",
   "metadata": {},
   "source": [
    "Lets delete the duplicates with the least reviews."
   ]
  },
  {
   "cell_type": "code",
   "execution_count": 18,
   "metadata": {},
   "outputs": [
    {
     "name": "stdout",
     "output_type": "stream",
     "text": [
      "7197\n",
      "7196\n"
     ]
    }
   ],
   "source": [
    "print(len(apple_data))\n",
    "if apple_data[4463][1] == 'Mannequin Challenge' and apple_data[4463][2] == '59572224':\n",
    "    del(apple_data[4463])\n",
    "print(len(apple_data))"
   ]
  },
  {
   "cell_type": "code",
   "execution_count": 19,
   "metadata": {},
   "outputs": [
    {
     "name": "stdout",
     "output_type": "stream",
     "text": [
      "7196\n",
      "7195\n"
     ]
    }
   ],
   "source": [
    "print(len(apple_data))\n",
    "if apple_data[4830][1] == 'VR Roller Coaster' and apple_data[4830][2] == '240964608':\n",
    "    del(apple_data[4830])\n",
    "print(len(apple_data))"
   ]
  },
  {
   "cell_type": "markdown",
   "metadata": {},
   "source": [
    "#### Removing Non-English Apps"
   ]
  },
  {
   "cell_type": "markdown",
   "metadata": {},
   "source": [
    "In an attempt to achieve a more accurate language check to detect the non english apps we will remove the emoji's first using the `emoji` library."
   ]
  },
  {
   "cell_type": "code",
   "execution_count": 20,
   "metadata": {},
   "outputs": [
    {
     "name": "stdout",
     "output_type": "stream",
     "text": [
      "9659\n",
      "['Wattpad  Free Books', 'BOOKS_AND_REFERENCE', '4.6', '2914724', 'Varies with device', '100,000,000+', 'Free', '0', 'Teen', 'Books & Reference', 'August 1, 2018', 'Varies with device', 'Varies with device']\n",
      "\n",
      "\n",
      "Number of rows: 9659\n",
      "Number of columns: 13\n",
      "7195\n",
      "['552039496', 'The Room', '338273280', 'USD', '0.99', '143908', '1056', '5.0', '5.0', '1.0.4', '9+', 'Games', '24', '5', '1', '1']\n",
      "\n",
      "\n",
      "Number of rows: 7195\n",
      "Number of columns: 16\n"
     ]
    }
   ],
   "source": [
    "android_demoji = []\n",
    "apple_demoji = []\n",
    "\n",
    "for app in android_clean:\n",
    "    app[0] = em.replace_emoji(app[0]).strip()\n",
    "    android_demoji.append(app)\n",
    "print(len(android_demoji))\n",
    "explore_data(android_demoji, 139, 140, True)\n",
    "\n",
    "for app in apple_data:\n",
    "    app[0] = em.replace_emoji(app[0]).strip()\n",
    "    apple_demoji.append(app)\n",
    "print(len(apple_demoji))\n",
    "explore_data(apple_demoji, 139, 140, True)"
   ]
  },
  {
   "cell_type": "markdown",
   "metadata": {},
   "source": [
    "By removing the emoji's we were able to reduce the non ascii characters to two, allowing a more accurate filter."
   ]
  },
  {
   "cell_type": "code",
   "execution_count": 21,
   "metadata": {},
   "outputs": [],
   "source": [
    "def is_english(string):\n",
    "    '''\n",
    "    Checks for ascii characters above 127 in a string, if there are more than 2 characters it flags False.  \n",
    "\n",
    "    Args:\n",
    "        string (Variable):  Column containing strings to check.\n",
    "\n",
    "    Returns:\n",
    "        Bool: True if =< 127 or False if > 127.\n",
    "    '''\n",
    "    non_ascii = 0\n",
    "\n",
    "    for character in string:\n",
    "        if ord(character) > 127:\n",
    "            non_ascii += 1\n",
    "\n",
    "    if non_ascii > 2: # reduced the number for a more accurate result\n",
    "        return False\n",
    "    else:\n",
    "        return True"
   ]
  },
  {
   "cell_type": "markdown",
   "metadata": {},
   "source": [
    "We can now separate the english and non english apps from the android data."
   ]
  },
  {
   "cell_type": "code",
   "execution_count": 22,
   "metadata": {},
   "outputs": [
    {
     "name": "stdout",
     "output_type": "stream",
     "text": [
      "['Photo Editor & Candy Camera & Grid & ScrapBook', 'ART_AND_DESIGN', '4.1', '159', '19M', '10,000+', 'Free', '0', 'Everyone', 'Art & Design', 'January 7, 2018', '1.0.0', '4.0.3 and up']\n",
      "\n",
      "\n",
      "['Coloring book moana', 'ART_AND_DESIGN', '3.9', '967', '14M', '500,000+', 'Free', '0', 'Everyone', 'Art & Design;Pretend Play', 'January 15, 2018', '2.0.0', '4.0.3 and up']\n",
      "\n",
      "\n",
      "['U Launcher Lite – FREE Live Cool Themes, Hide Apps', 'ART_AND_DESIGN', '4.7', '87510', '8.7M', '5,000,000+', 'Free', '0', 'Everyone', 'Art & Design', 'August 1, 2018', '1.2.4', '4.0.3 and up']\n",
      "\n",
      "\n",
      "Number of rows: 9601\n",
      "Number of columns: 13\n",
      "['Truyện Vui Tý Quậy', 'COMICS', '4.5', '144', '4.7M', '10,000+', 'Free', '0', 'Everyone', 'Comics', 'July 19, 2018', '3.0', '4.0.3 and up']\n",
      "\n",
      "\n",
      "['Flame - درب عقلك يوميا', 'EDUCATION', '4.6', '56065', '37M', '1,000,000+', 'Free', '0', 'Everyone', 'Education', 'July 26, 2018', '3.3', '4.1 and up']\n",
      "\n",
      "\n",
      "['At home - rental · real estate · room finding application such as apartment · apartment', 'HOUSE_AND_HOME', '3.8', '2496', 'Varies with device', '500,000+', 'Free', '0', 'Everyone', 'House & Home', 'July 5, 2018', 'Varies with device', 'Varies with device']\n",
      "\n",
      "\n",
      "Number of rows: 58\n",
      "Number of columns: 13\n"
     ]
    }
   ],
   "source": [
    "android_english = []\n",
    "android_foreign = []\n",
    "for i in android_demoji:\n",
    "    name = i[0]\n",
    "    if is_english(name):\n",
    "        android_english.append(i)\n",
    "    else:\n",
    "        android_foreign.append(i)\n",
    "     \n",
    "explore_data(android_english, 0, 3, True)\n",
    "explore_data(android_foreign, 0, 3, True)"
   ]
  },
  {
   "cell_type": "markdown",
   "metadata": {},
   "source": [
    "We can now separate the english and non english apps from the apple data."
   ]
  },
  {
   "cell_type": "code",
   "execution_count": 23,
   "metadata": {},
   "outputs": [
    {
     "name": "stdout",
     "output_type": "stream",
     "text": [
      "['284882215', 'Facebook', '389879808', 'USD', '0.0', '2974676', '212', '3.5', '3.5', '95.0', '4+', 'Social Networking', '37', '1', '29', '1']\n",
      "\n",
      "\n",
      "['389801252', 'Instagram', '113954816', 'USD', '0.0', '2161558', '1289', '4.5', '4.0', '10.23', '12+', 'Photo & Video', '37', '0', '29', '1']\n",
      "\n",
      "\n",
      "['529479190', 'Clash of Clans', '116476928', 'USD', '0.0', '2130805', '579', '4.5', '4.5', '9.24.12', '9+', 'Games', '38', '5', '18', '1']\n",
      "\n",
      "\n",
      "Number of rows: 6153\n",
      "Number of columns: 16\n",
      "['445375097', '爱奇艺PPS -《欢乐颂2》电视剧热播', '224617472', 'USD', '0.0', '14844', '0', '4.0', '0.0', '6.3.3', '17+', 'Entertainment', '38', '5', '3', '1']\n",
      "\n",
      "\n",
      "['405667771', '聚力视频HD-人民的名义,跨界歌王全网热播', '90725376', 'USD', '0.0', '7446', '8', '4.0', '4.5', '5.0.8', '12+', 'Entertainment', '24', '4', '1', '1']\n",
      "\n",
      "\n",
      "['336141475', '优酷视频', '204959744', 'USD', '0.0', '4885', '0', '3.5', '0.0', '6.7.0', '12+', 'Entertainment', '38', '0', '2', '1']\n",
      "\n",
      "\n",
      "['425349261', '网易新闻 - 精选好内容，算出你的兴趣', '133134336', 'USD', '0.0', '4263', '6', '4.5', '1.0', '23.2', '17+', 'News', '37', '4', '2', '1']\n",
      "\n",
      "\n",
      "Number of rows: 1042\n",
      "Number of columns: 16\n"
     ]
    }
   ],
   "source": [
    "ios_english = []\n",
    "ios_foreign = []\n",
    "\n",
    "for app in apple_data:\n",
    "    name = app[1]\n",
    "    if is_english(name):\n",
    "        ios_english.append(app)\n",
    "    else:\n",
    "        ios_foreign.append(app)    \n",
    "explore_data(ios_english, 0, 3, True)\n",
    "explore_data(ios_foreign, 0, 4, True)"
   ]
  },
  {
   "cell_type": "markdown",
   "metadata": {},
   "source": [
    "### Isolating the Free Apps and final clean\n",
    "\n",
    "Create a new list with only the free apps. Remove everything except digits in `Installs` column and convert `Installs` and `Reviews` to `int` and `Rating` to `float` so we can use them as numbers later on."
   ]
  },
  {
   "cell_type": "code",
   "execution_count": 24,
   "metadata": {},
   "outputs": [
    {
     "name": "stdout",
     "output_type": "stream",
     "text": [
      "8850\n",
      "3201\n"
     ]
    }
   ],
   "source": [
    "android_final = []\n",
    "ios_final = []\n",
    "\n",
    "for app in android_english:\n",
    "    if type(app[5]) == str:\n",
    "        # Remove everything except digits and convert to 'int'\n",
    "        app[5] = int(''.join(c for c in app[5] if c.isdigit()))\n",
    "    if type(app[2]) == str:\n",
    "        # Replace 'NaN'\n",
    "        app[2] = app[2].replace('NaN', '0')\n",
    "    if type(app[2]) == str:\n",
    "        app[2] = float(app[2])  # Convert to 'float'\n",
    "    if type(app[3]) == str:\n",
    "        app[3] = int(app[3]) # Convert to 'int'\n",
    "    price = app[7]\n",
    "    if price == '0':\n",
    "        android_final.append(app)\n",
    "        \n",
    "for app in ios_english:\n",
    "    price = app[4]\n",
    "    app[7] = float(app[7])\n",
    "    if price == '0.0':\n",
    "        ios_final.append(app)\n",
    "\n",
    "print(len(android_final))\n",
    "print(len(ios_final))"
   ]
  },
  {
   "cell_type": "markdown",
   "metadata": {},
   "source": [
    "Check the `type` of values of the new datasets, using a `list comprehension`."
   ]
  },
  {
   "cell_type": "code",
   "execution_count": 25,
   "metadata": {},
   "outputs": [
    {
     "name": "stdout",
     "output_type": "stream",
     "text": [
      "[<class 'str'>, <class 'str'>, <class 'float'>, <class 'int'>, <class 'str'>, <class 'int'>, <class 'str'>, <class 'str'>, <class 'str'>, <class 'str'>, <class 'str'>, <class 'str'>, <class 'str'>]\n",
      "[<class 'str'>, <class 'str'>, <class 'str'>, <class 'str'>, <class 'str'>, <class 'str'>, <class 'str'>, <class 'float'>, <class 'str'>, <class 'str'>, <class 'str'>, <class 'str'>, <class 'str'>, <class 'str'>, <class 'str'>, <class 'str'>]\n"
     ]
    }
   ],
   "source": [
    "aft = [type(item) for item in android_final[1]]\n",
    "print(aft)\n",
    "ift = [type(item) for item in ios_final[1]]\n",
    "print(ift)"
   ]
  },
  {
   "cell_type": "markdown",
   "metadata": {},
   "source": [
    "Lets remind ourselves of the column header names."
   ]
  },
  {
   "cell_type": "code",
   "execution_count": 26,
   "metadata": {},
   "outputs": [
    {
     "name": "stdout",
     "output_type": "stream",
     "text": [
      "['id', 'track_name', 'size_bytes', 'currency', 'price', 'rating_count_tot', 'rating_count_ver', 'user_rating', 'user_rating_ver', 'ver', 'cont_rating', 'prime_genre', 'sup_devices.num', 'ipadSc_urls.num', 'lang.num', 'vpp_lic']\n",
      "\n",
      "\n",
      "['App', 'Category', 'Rating', 'Reviews', 'Size', 'Installs', 'Type', 'Price', 'Content Rating', 'Genres', 'Last Updated', 'Current Ver', 'Android Ver']\n"
     ]
    }
   ],
   "source": [
    "print(apple_data_header)\n",
    "print('\\n')\n",
    "print(google_data_header)"
   ]
  },
  {
   "cell_type": "markdown",
   "metadata": {},
   "source": [
    "#### Category investigation\n",
    "Now we have a clean dataset we can investigate the categories to begin to isolate the important data.  \n",
    "  \n",
    "To do this we need to check the categories to see which ones have the most reviews.  \n",
    "   \n",
    "We will create a function to do this for us. (Copied from Dataquest with some small mods)."
   ]
  },
  {
   "cell_type": "code",
   "execution_count": 27,
   "metadata": {},
   "outputs": [],
   "source": [
    "def freq_table(dataset, index):\n",
    "    '''\n",
    "    Iterates through a data set and counts the number of occurrences and returns the result \n",
    "    as a dictionary key pair with the value as a percentage.\n",
    "\n",
    "    Args:\n",
    "        dataset (variable): object containing a data set\n",
    "        index (int): column index number\n",
    "\n",
    "    Returns:\n",
    "        dict: key pair with the value as a percentage\n",
    "    '''\n",
    "    table = {}\n",
    "    total = 0\n",
    "    \n",
    "    for row in dataset:\n",
    "        total += 1\n",
    "        value = row[index]\n",
    "        if value in table:\n",
    "            table[value] += 1\n",
    "        else:\n",
    "            table[value] = 1\n",
    "    \n",
    "    table_percentages = {}\n",
    "    for key in table:\n",
    "        percentage = round((table[key] / total) * 100, 2)\n",
    "        table_percentages[key] = percentage \n",
    "    \n",
    "    return table_percentages"
   ]
  },
  {
   "cell_type": "code",
   "execution_count": 28,
   "metadata": {},
   "outputs": [],
   "source": [
    "def display_table(dataset, index):\n",
    "    '''\n",
    "    Converts the dictionary created by the function 'freq_table' into a sorted list\n",
    "\n",
    "    Args:\n",
    "        dataset (variable): object containing a data set\n",
    "        index (int): column index number\n",
    "    '''\n",
    "    table = freq_table(dataset, index)\n",
    "    table_display = []\n",
    "    for key in table:\n",
    "        key_val_as_tuple = (table[key], key)\n",
    "        table_display.append(key_val_as_tuple)\n",
    "        \n",
    "    table_sorted = sorted(table_display, reverse = True)\n",
    "    for entry in table_sorted:\n",
    "        print(entry[1], ':', entry[0], '%')"
   ]
  },
  {
   "cell_type": "markdown",
   "metadata": {},
   "source": [
    "We can see from the Apple Store data that Games are nearly 60% of all the apps.  \n",
    "  \n",
    "The remaining 40% are made up of several other apps all below 8% with more than half of these being below 2%."
   ]
  },
  {
   "cell_type": "code",
   "execution_count": 29,
   "metadata": {},
   "outputs": [
    {
     "name": "stdout",
     "output_type": "stream",
     "text": [
      "Games : 58.23 %\n",
      "Entertainment : 7.84 %\n",
      "Photo & Video : 5.0 %\n",
      "Education : 3.69 %\n",
      "Social Networking : 3.31 %\n",
      "Shopping : 2.59 %\n",
      "Utilities : 2.47 %\n",
      "Sports : 2.16 %\n",
      "Music : 2.06 %\n",
      "Health & Fitness : 2.03 %\n",
      "Productivity : 1.75 %\n",
      "Lifestyle : 1.56 %\n",
      "News : 1.34 %\n",
      "Travel : 1.25 %\n",
      "Finance : 1.09 %\n",
      "Weather : 0.87 %\n",
      "Food & Drink : 0.81 %\n",
      "Reference : 0.53 %\n",
      "Business : 0.53 %\n",
      "Book : 0.37 %\n",
      "Navigation : 0.19 %\n",
      "Medical : 0.19 %\n",
      "Catalogs : 0.12 %\n"
     ]
    }
   ],
   "source": [
    "display_table(ios_final, -5)"
   ]
  },
  {
   "cell_type": "markdown",
   "metadata": {},
   "source": [
    "We can see from Google Playstore that the spread of apps is very thin. The categories FAMILY, GAME and TOOLS are the highest."
   ]
  },
  {
   "cell_type": "code",
   "execution_count": 30,
   "metadata": {},
   "outputs": [
    {
     "name": "stdout",
     "output_type": "stream",
     "text": [
      "FAMILY : 18.82 %\n",
      "GAME : 9.63 %\n",
      "TOOLS : 8.44 %\n",
      "BUSINESS : 4.59 %\n",
      "PRODUCTIVITY : 3.9 %\n",
      "LIFESTYLE : 3.89 %\n",
      "FINANCE : 3.71 %\n",
      "MEDICAL : 3.54 %\n",
      "SPORTS : 3.41 %\n",
      "PERSONALIZATION : 3.32 %\n",
      "COMMUNICATION : 3.24 %\n",
      "HEALTH_AND_FITNESS : 3.07 %\n",
      "PHOTOGRAPHY : 2.95 %\n",
      "NEWS_AND_MAGAZINES : 2.8 %\n",
      "SOCIAL : 2.67 %\n",
      "TRAVEL_AND_LOCAL : 2.34 %\n",
      "SHOPPING : 2.25 %\n",
      "BOOKS_AND_REFERENCE : 2.14 %\n",
      "DATING : 1.86 %\n",
      "VIDEO_PLAYERS : 1.79 %\n",
      "MAPS_AND_NAVIGATION : 1.39 %\n",
      "EDUCATION : 1.25 %\n",
      "FOOD_AND_DRINK : 1.24 %\n",
      "ENTERTAINMENT : 1.04 %\n",
      "LIBRARIES_AND_DEMO : 0.94 %\n",
      "AUTO_AND_VEHICLES : 0.93 %\n",
      "HOUSE_AND_HOME : 0.81 %\n",
      "WEATHER : 0.79 %\n",
      "EVENTS : 0.71 %\n",
      "ART_AND_DESIGN : 0.68 %\n",
      "PARENTING : 0.66 %\n",
      "COMICS : 0.61 %\n",
      "BEAUTY : 0.6 %\n"
     ]
    }
   ],
   "source": [
    "display_table(android_final, 1)"
   ]
  },
  {
   "cell_type": "markdown",
   "metadata": {},
   "source": [
    "Lets concentrate our efforts on apps with 5000 reviews or more."
   ]
  },
  {
   "cell_type": "code",
   "execution_count": 31,
   "metadata": {},
   "outputs": [
    {
     "name": "stdout",
     "output_type": "stream",
     "text": [
      "40.96\n"
     ]
    }
   ],
   "source": [
    "higher_rev = []\n",
    "for apps in android_final:\n",
    "    hr = apps[3]\n",
    "    if hr >= 5000:\n",
    "        higher_rev.append(apps)\n",
    "        \n",
    "print(round(len(higher_rev) / len(android_final) * 100, 2))"
   ]
  },
  {
   "cell_type": "markdown",
   "metadata": {},
   "source": [
    "The categories FAMILY, GAME and TOOLS are still the highest."
   ]
  },
  {
   "cell_type": "code",
   "execution_count": 32,
   "metadata": {},
   "outputs": [
    {
     "name": "stdout",
     "output_type": "stream",
     "text": [
      "FAMILY : 16.69 %\n",
      "GAME : 15.89 %\n",
      "TOOLS : 7.31 %\n",
      "PHOTOGRAPHY : 4.61 %\n",
      "PRODUCTIVITY : 4.28 %\n",
      "COMMUNICATION : 4.0 %\n",
      "SPORTS : 3.72 %\n",
      "HEALTH_AND_FITNESS : 3.59 %\n",
      "SHOPPING : 3.26 %\n",
      "PERSONALIZATION : 3.2 %\n",
      "SOCIAL : 3.09 %\n",
      "FINANCE : 3.09 %\n",
      "TRAVEL_AND_LOCAL : 2.62 %\n",
      "LIFESTYLE : 2.46 %\n",
      "NEWS_AND_MAGAZINES : 2.34 %\n",
      "ENTERTAINMENT : 2.21 %\n",
      "VIDEO_PLAYERS : 2.15 %\n",
      "BUSINESS : 1.96 %\n",
      "EDUCATION : 1.93 %\n",
      "BOOKS_AND_REFERENCE : 1.74 %\n",
      "MAPS_AND_NAVIGATION : 1.46 %\n",
      "FOOD_AND_DRINK : 1.46 %\n",
      "DATING : 1.3 %\n",
      "WEATHER : 1.27 %\n",
      "MEDICAL : 0.83 %\n",
      "HOUSE_AND_HOME : 0.8 %\n",
      "COMICS : 0.55 %\n",
      "AUTO_AND_VEHICLES : 0.55 %\n",
      "ART_AND_DESIGN : 0.47 %\n",
      "LIBRARIES_AND_DEMO : 0.36 %\n",
      "PARENTING : 0.33 %\n",
      "BEAUTY : 0.28 %\n",
      "EVENTS : 0.22 %\n"
     ]
    }
   ],
   "source": [
    "display_table(higher_rev, 1)"
   ]
  },
  {
   "cell_type": "markdown",
   "metadata": {},
   "source": [
    "In order to better understand the sorts of apps in the categories lets list the Genres and their size as a percentage of the category.  \n",
    "To do this we will create a function so we can investigate the categories of most interest."
   ]
  },
  {
   "cell_type": "code",
   "execution_count": 33,
   "metadata": {},
   "outputs": [],
   "source": [
    "def freq_table_sub(dataset, index1, index2, string):\n",
    "    '''\n",
    "    Iterates through the data set and counts the number of 'Genres' per 'Category' \n",
    "    and returns the result as a dictionary key pair. We then create a list of tuples\n",
    "    and print these with the value as a percentage.\n",
    "    \n",
    "    Args:\n",
    "        dataset (variable): object containing the data\n",
    "        index1 (int): column index number\n",
    "        index2 (int): column index number\n",
    "        string (str): category name\n",
    "    '''\n",
    "    cat = {}\n",
    "    count = 0\n",
    "    for i in dataset:\n",
    "        count += 1\n",
    "        col1 = i[index1]\n",
    "        col2 = i[index2]\n",
    "        if string in col1 and col2 in cat:\n",
    "            cat[col2] += 1\n",
    "        elif string in col1:\n",
    "            cat[col2] = 1\n",
    "            \n",
    "    table_display = []\n",
    "    for key in cat:\n",
    "        key_val_as_tuple = (cat[key], key)\n",
    "        table_display.append(key_val_as_tuple)\n",
    "        \n",
    "    table_sorted = sorted(table_display, reverse = True)\n",
    "    for entry in table_sorted:\n",
    "        print(entry[1], ':', round(entry[0] / (sum(list(cat.values()))) * 100, 2), '%')"
   ]
  },
  {
   "cell_type": "code",
   "execution_count": 34,
   "metadata": {},
   "outputs": [
    {
     "name": "stdout",
     "output_type": "stream",
     "text": [
      "Simulation : 15.7 %\n",
      "Entertainment : 15.54 %\n",
      "Casual : 11.24 %\n",
      "Strategy : 8.43 %\n",
      "Role Playing : 8.1 %\n",
      "Puzzle : 6.28 %\n",
      "Education : 4.13 %\n",
      "Casual;Pretend Play : 3.14 %\n",
      "Educational;Education : 2.64 %\n",
      "Casual;Action & Adventure : 1.98 %\n",
      "Racing;Action & Adventure : 1.65 %\n",
      "Puzzle;Brain Games : 1.65 %\n",
      "Arcade;Action & Adventure : 1.49 %\n",
      "Entertainment;Music & Video : 1.32 %\n",
      "Educational;Pretend Play : 1.32 %\n",
      "Educational : 1.16 %\n",
      "Simulation;Action & Adventure : 0.99 %\n",
      "Education;Education : 0.99 %\n",
      "Casual;Brain Games : 0.99 %\n",
      "Action;Action & Adventure : 0.99 %\n",
      "Casual;Creativity : 0.83 %\n",
      "Educational;Brain Games : 0.66 %\n",
      "Education;Pretend Play : 0.66 %\n",
      "Role Playing;Pretend Play : 0.5 %\n",
      "Role Playing;Action & Adventure : 0.5 %\n",
      "Entertainment;Brain Games : 0.5 %\n",
      "Educational;Creativity : 0.5 %\n",
      "Adventure;Action & Adventure : 0.5 %\n",
      "Video Players & Editors;Music & Video : 0.33 %\n",
      "Simulation;Pretend Play : 0.33 %\n",
      "Puzzle;Creativity : 0.33 %\n",
      "Puzzle;Action & Adventure : 0.33 %\n",
      "Entertainment;Pretend Play : 0.33 %\n",
      "Entertainment;Creativity : 0.33 %\n",
      "Entertainment;Action & Adventure : 0.33 %\n",
      "Casual;Education : 0.33 %\n",
      "Board;Action & Adventure : 0.33 %\n",
      "Strategy;Creativity : 0.17 %\n",
      "Strategy;Action & Adventure : 0.17 %\n",
      "Sports;Action & Adventure : 0.17 %\n",
      "Role Playing;Brain Games : 0.17 %\n",
      "Music;Music & Video : 0.17 %\n",
      "Health & Fitness;Education : 0.17 %\n",
      "Health & Fitness;Action & Adventure : 0.17 %\n",
      "Entertainment;Education : 0.17 %\n",
      "Educational;Action & Adventure : 0.17 %\n",
      "Education;Music & Video : 0.17 %\n",
      "Education;Action & Adventure : 0.17 %\n",
      "Casual;Music & Video : 0.17 %\n",
      "Card;Action & Adventure : 0.17 %\n",
      "Board;Brain Games : 0.17 %\n",
      "Arcade;Pretend Play : 0.17 %\n",
      "Adventure;Education : 0.17 %\n"
     ]
    }
   ],
   "source": [
    "freq_table_sub(higher_rev, 1, -4, 'FAMILY')"
   ]
  },
  {
   "cell_type": "code",
   "execution_count": 35,
   "metadata": {},
   "outputs": [
    {
     "name": "stdout",
     "output_type": "stream",
     "text": [
      "Entertainment : 27.37 %\n",
      "Education : 22.69 %\n",
      "Simulation : 10.56 %\n",
      "Casual : 8.28 %\n",
      "Puzzle : 4.86 %\n",
      "Strategy : 4.14 %\n",
      "Role Playing : 4.14 %\n",
      "Educational;Education : 2.1 %\n",
      "Educational : 1.98 %\n",
      "Education;Education : 1.44 %\n",
      "Casual;Pretend Play : 1.2 %\n",
      "Racing;Action & Adventure : 0.9 %\n",
      "Puzzle;Brain Games : 0.9 %\n",
      "Casual;Action & Adventure : 0.72 %\n",
      "Casual;Brain Games : 0.66 %\n",
      "Arcade;Action & Adventure : 0.66 %\n",
      "Entertainment;Music & Video : 0.54 %\n",
      "Educational;Pretend Play : 0.48 %\n",
      "Board;Brain Games : 0.48 %\n",
      "Simulation;Action & Adventure : 0.36 %\n",
      "Educational;Brain Games : 0.36 %\n",
      "Action;Action & Adventure : 0.36 %\n",
      "Entertainment;Brain Games : 0.3 %\n",
      "Casual;Creativity : 0.3 %\n",
      "Role Playing;Pretend Play : 0.24 %\n",
      "Education;Pretend Play : 0.24 %\n",
      "Role Playing;Action & Adventure : 0.18 %\n",
      "Puzzle;Action & Adventure : 0.18 %\n",
      "Entertainment;Action & Adventure : 0.18 %\n",
      "Educational;Creativity : 0.18 %\n",
      "Educational;Action & Adventure : 0.18 %\n",
      "Adventure;Action & Adventure : 0.18 %\n",
      "Video Players & Editors;Music & Video : 0.12 %\n",
      "Sports;Action & Adventure : 0.12 %\n",
      "Simulation;Pretend Play : 0.12 %\n",
      "Puzzle;Creativity : 0.12 %\n",
      "Music;Music & Video : 0.12 %\n",
      "Entertainment;Pretend Play : 0.12 %\n",
      "Entertainment;Creativity : 0.12 %\n",
      "Education;Music & Video : 0.12 %\n",
      "Education;Action & Adventure : 0.12 %\n",
      "Casual;Education : 0.12 %\n",
      "Board;Action & Adventure : 0.12 %\n",
      "Trivia;Education : 0.06 %\n",
      "Strategy;Education : 0.06 %\n",
      "Strategy;Creativity : 0.06 %\n",
      "Strategy;Action & Adventure : 0.06 %\n",
      "Simulation;Education : 0.06 %\n",
      "Role Playing;Brain Games : 0.06 %\n",
      "Racing;Pretend Play : 0.06 %\n",
      "Puzzle;Education : 0.06 %\n",
      "Music & Audio;Music & Video : 0.06 %\n",
      "Lifestyle;Education : 0.06 %\n",
      "Health & Fitness;Education : 0.06 %\n",
      "Health & Fitness;Action & Adventure : 0.06 %\n",
      "Entertainment;Education : 0.06 %\n",
      "Education;Creativity : 0.06 %\n",
      "Communication;Creativity : 0.06 %\n",
      "Casual;Music & Video : 0.06 %\n",
      "Card;Brain Games : 0.06 %\n",
      "Card;Action & Adventure : 0.06 %\n",
      "Books & Reference;Education : 0.06 %\n",
      "Art & Design;Creativity : 0.06 %\n",
      "Arcade;Pretend Play : 0.06 %\n",
      "Adventure;Education : 0.06 %\n"
     ]
    }
   ],
   "source": [
    "freq_table_sub(android_final, 1, -4, 'FAMILY')"
   ]
  },
  {
   "cell_type": "code",
   "execution_count": 36,
   "metadata": {},
   "outputs": [
    {
     "name": "stdout",
     "output_type": "stream",
     "text": [
      "Tools : 99.87 %\n",
      "Tools;Education : 0.13 %\n"
     ]
    }
   ],
   "source": [
    "freq_table_sub(android_final, 1, -4, 'TOOLS')"
   ]
  },
  {
   "cell_type": "code",
   "execution_count": 37,
   "metadata": {},
   "outputs": [
    {
     "name": "stdout",
     "output_type": "stream",
     "text": [
      "Action : 32.28 %\n",
      "Arcade : 19.25 %\n",
      "Racing : 10.33 %\n",
      "Adventure : 7.04 %\n",
      "Card : 4.58 %\n",
      "Trivia : 4.34 %\n",
      "Casino : 4.34 %\n",
      "Board : 3.87 %\n",
      "Word : 2.7 %\n",
      "Puzzle : 2.23 %\n",
      "Music : 2.11 %\n",
      "Casual : 2.0 %\n",
      "Role Playing : 1.64 %\n",
      "Strategy : 1.41 %\n",
      "Simulation : 0.59 %\n",
      "Sports : 0.47 %\n",
      "Action;Action & Adventure : 0.35 %\n",
      "Simulation;Action & Adventure : 0.12 %\n",
      "Casual;Pretend Play : 0.12 %\n",
      "Casual;Creativity : 0.12 %\n",
      "Casual;Brain Games : 0.12 %\n"
     ]
    }
   ],
   "source": [
    "freq_table_sub(android_final, 1, -4, 'GAME')"
   ]
  },
  {
   "cell_type": "code",
   "execution_count": 38,
   "metadata": {},
   "outputs": [
    {
     "name": "stdout",
     "output_type": "stream",
     "text": [
      "['App', 'Category', 'Rating', 'Reviews', 'Size', 'Installs', 'Type', 'Price', 'Content Rating', 'Genres', 'Last Updated', 'Current Ver', 'Android Ver']\n",
      "['Photo Editor & Candy Camera & Grid & ScrapBook', 'ART_AND_DESIGN', 4.1, 159, '19M', 10000, 'Free', '0', 'Everyone', 'Art & Design', 'January 7, 2018', '1.0.0', '4.0.3 and up']\n",
      "\n",
      "\n",
      "Number of rows: 10840\n",
      "Number of columns: 13\n",
      "None\n"
     ]
    }
   ],
   "source": [
    "print(google_data_header)\n",
    "print(explore_data(google_data, 0, 1, rows_and_columns=True))"
   ]
  },
  {
   "cell_type": "code",
   "execution_count": 39,
   "metadata": {},
   "outputs": [],
   "source": [
    "def top_genres(cat, genre, count):  \n",
    "    num_installs = []\n",
    "    num_cats = []\n",
    "    for apps in android_final:\n",
    "        top_app = apps[3]\n",
    "        top_cat = apps[1]\n",
    "        top_genre = apps[9]\n",
    "        if cat in top_cat and genre in apps[9] and top_app >= count:\n",
    "            num_installs.append(apps[0])\n",
    "        elif cat in top_cat and top_app >= count:\n",
    "            num_cats.append(apps[1])\n",
    "    print(cat, '+', genre, ':', 'There are',len(num_installs), \n",
    "          'apps or', round(len(num_installs) / len(num_cats) * 100, 2), '% who have', count, 'reviews or more')"
   ]
  },
  {
   "cell_type": "code",
   "execution_count": 40,
   "metadata": {},
   "outputs": [
    {
     "name": "stdout",
     "output_type": "stream",
     "text": [
      "FAMILY + Education : There are 81 apps or 15.46 % who have 5000 reviews or more\n",
      "FAMILY + Action : There are 61 apps or 11.21 % who have 5000 reviews or more\n",
      "GAME + Action : There are 196 apps or 51.58 % who have 5000 reviews or more\n"
     ]
    }
   ],
   "source": [
    "top_genres('FAMILY', 'Education', 5000)\n",
    "top_genres('FAMILY', 'Action', 5000)\n",
    "top_genres('GAME', 'Action', 5000)"
   ]
  },
  {
   "cell_type": "code",
   "execution_count": 41,
   "metadata": {},
   "outputs": [
    {
     "name": "stdout",
     "output_type": "stream",
     "text": [
      "['App', 'Category', 'Rating', 'Reviews', 'Size', 'Installs', 'Type', 'Price', 'Content Rating', 'Genres', 'Last Updated', 'Current Ver', 'Android Ver']\n"
     ]
    }
   ],
   "source": [
    "print(google_data_header)"
   ]
  },
  {
   "cell_type": "code",
   "execution_count": 42,
   "metadata": {},
   "outputs": [
    {
     "name": "stdout",
     "output_type": "stream",
     "text": [
      "COMICS has 5.21 reviews per one hundred downloads, with an average rating of 4.0 \n",
      "\n",
      "SPORTS has 4.57 reviews per one hundred downloads, with an average rating of 3.3 \n",
      "\n",
      "FAMILY has 4.22 reviews per one hundred downloads, with an average rating of 3.7 \n",
      "\n",
      "SOCIAL has 4.15 reviews per one hundred downloads, with an average rating of 3.6 \n",
      "\n",
      "GAME has 3.97 reviews per one hundred downloads, with an average rating of 4.0 \n",
      "\n",
      "EDUCATION has 3.85 reviews per one hundred downloads, with an average rating of 4.3 \n",
      "\n",
      "MEDICAL has 3.67 reviews per one hundred downloads, with an average rating of 3.0 \n",
      "\n",
      "MAPS_AND_NAVIGATION has 3.54 reviews per one hundred downloads, with an average rating of 3.6 \n",
      "\n",
      "PERSONALIZATION has 3.48 reviews per one hundred downloads, with an average rating of 3.4 \n",
      "\n",
      "WEATHER has 3.38 reviews per one hundred downloads, with an average rating of 3.9 \n",
      "\n",
      "SHOPPING has 3.18 reviews per one hundred downloads, with an average rating of 3.8 \n",
      "\n",
      "PARENTING has 3.02 reviews per one hundred downloads, with an average rating of 3.6 \n",
      "\n",
      "FOOD_AND_DRINK has 2.99 reviews per one hundred downloads, with an average rating of 3.5 \n",
      "\n",
      "TOOLS has 2.86 reviews per one hundred downloads, with an average rating of 3.5 \n",
      "\n",
      "FINANCE has 2.78 reviews per one hundred downloads, with an average rating of 3.6 \n",
      "\n",
      "COMMUNICATION has 2.59 reviews per one hundred downloads, with an average rating of 3.4 \n",
      "\n",
      "DATING has 2.57 reviews per one hundred downloads, with an average rating of 3.2 \n",
      "\n",
      "LIFESTYLE has 2.36 reviews per one hundred downloads, with an average rating of 3.3 \n",
      "\n",
      "PHOTOGRAPHY has 2.26 reviews per one hundred downloads, with an average rating of 4.0 \n",
      "\n",
      "AUTO_AND_VEHICLES has 2.18 reviews per one hundred downloads, with an average rating of 3.7 \n",
      "\n",
      "HOUSE_AND_HOME has 1.99 reviews per one hundred downloads, with an average rating of 3.5 \n",
      "\n",
      "HEALTH_AND_FITNESS has 1.85 reviews per one hundred downloads, with an average rating of 3.6 \n",
      "\n",
      "VIDEO_PLAYERS has 1.72 reviews per one hundred downloads, with an average rating of 3.7 \n",
      "\n",
      "LIBRARIES_AND_DEMO has 1.71 reviews per one hundred downloads, with an average rating of 3.2 \n",
      "\n",
      "BEAUTY has 1.46 reviews per one hundred downloads, with an average rating of 3.4 \n",
      "\n",
      "BUSINESS has 1.4 reviews per one hundred downloads, with an average rating of 2.5 \n",
      "\n",
      "ENTERTAINMENT has 1.31 reviews per one hundred downloads, with an average rating of 4.1 \n",
      "\n",
      "ART_AND_DESIGN has 1.24 reviews per one hundred downloads, with an average rating of 4.1 \n",
      "\n",
      "EVENTS has 1.01 reviews per one hundred downloads, with an average rating of 3.2 \n",
      "\n",
      "BOOKS_AND_REFERENCE has 1.0 reviews per one hundred downloads, with an average rating of 3.7 \n",
      "\n",
      "NEWS_AND_MAGAZINES has 0.97 reviews per one hundred downloads, with an average rating of 3.3 \n",
      "\n",
      "PRODUCTIVITY has 0.96 reviews per one hundred downloads, with an average rating of 3.4 \n",
      "\n",
      "TRAVEL_AND_LOCAL has 0.93 reviews per one hundred downloads, with an average rating of 3.5 \n",
      "\n"
     ]
    }
   ],
   "source": [
    "total_reviews = {}\n",
    "total_downloads = {}\n",
    "av_rating = {}\n",
    "av_ratings = {}\n",
    "count1 = 0\n",
    "count2 = 0\n",
    "count3 = 0\n",
    "count4 = 0\n",
    "for row in android_final:\n",
    "    value = row[1]\n",
    "    downloads = row[5]\n",
    "    reviews = row[3]\n",
    "    rats = row[2]\n",
    "    count1 += reviews\n",
    "    count2 += downloads\n",
    "    count3 += 1\n",
    "    count4 += rats\n",
    "    if value in total_reviews:\n",
    "        total_reviews[value] += reviews\n",
    "    if value in total_downloads:\n",
    "        total_downloads[value] += downloads\n",
    "    if value in av_rating:\n",
    "        av_rating[value] += 1\n",
    "    if value in av_ratings:\n",
    "        av_ratings[value] += rats\n",
    "    else:\n",
    "        total_reviews[value] = reviews\n",
    "        total_downloads[value] = downloads\n",
    "        av_rating[value] = 1\n",
    "        av_ratings[value] = rats\n",
    "\n",
    "tot_rev = {k: round(total_reviews[k] / total_downloads[k] * 100, 2) for k in total_downloads.keys() & total_reviews}\n",
    "tot_rev_list = list(map(list, tot_rev.items()))\n",
    "\n",
    "avg_rev = {k: round(av_ratings[k] / av_rating[k], 1) for k in av_rating.keys() & av_ratings}\n",
    "avg_rev_list = list(map(list, avg_rev.items()))\n",
    "\n",
    "tot_avg = [a + [b[1]] for (a, b) in zip(tot_rev_list, avg_rev_list)]\n",
    "\n",
    "sort_tot = sorted(tot_avg, key=itemgetter(1), reverse=True)\n",
    "\n",
    "for i in sort_tot:\n",
    "    a = i[0]\n",
    "    b = i[1]\n",
    "    c = i[2]\n",
    "    if b >= 0.5:\n",
    "        print(a, 'has', b, 'reviews per one hundred downloads, with an average rating of', c, '\\n')\n"
   ]
  },
  {
   "cell_type": "code",
   "execution_count": 43,
   "metadata": {},
   "outputs": [
    {
     "name": "stdout",
     "output_type": "stream",
     "text": [
      "[['EDUCATION', 3.85, 4.3], ['ENTERTAINMENT', 1.31, 4.1], ['ART_AND_DESIGN', 1.24, 4.1], ['GAME', 3.97, 4.0], ['PHOTOGRAPHY', 2.26, 4.0], ['COMICS', 5.21, 4.0], ['WEATHER', 3.38, 3.9], ['SHOPPING', 3.18, 3.8], ['AUTO_AND_VEHICLES', 2.18, 3.7], ['VIDEO_PLAYERS', 1.72, 3.7], ['BOOKS_AND_REFERENCE', 1.0, 3.7], ['FAMILY', 4.22, 3.7], ['HEALTH_AND_FITNESS', 1.85, 3.6], ['SOCIAL', 4.15, 3.6], ['PARENTING', 3.02, 3.6], ['MAPS_AND_NAVIGATION', 3.54, 3.6], ['FINANCE', 2.78, 3.6], ['HOUSE_AND_HOME', 1.99, 3.5], ['TOOLS', 2.86, 3.5], ['TRAVEL_AND_LOCAL', 0.93, 3.5], ['FOOD_AND_DRINK', 2.99, 3.5], ['BEAUTY', 1.46, 3.4], ['COMMUNICATION', 2.59, 3.4], ['PRODUCTIVITY', 0.96, 3.4], ['PERSONALIZATION', 3.48, 3.4], ['NEWS_AND_MAGAZINES', 0.97, 3.3], ['LIFESTYLE', 2.36, 3.3], ['SPORTS', 4.57, 3.3], ['EVENTS', 1.01, 3.2], ['LIBRARIES_AND_DEMO', 1.71, 3.2], ['DATING', 2.57, 3.2], ['MEDICAL', 3.67, 3.0], ['BUSINESS', 1.4, 2.5]]\n"
     ]
    }
   ],
   "source": [
    "from operator import itemgetter\n",
    "sort_tot = sorted(tot_avg, key=itemgetter(2), reverse=True)\n",
    "print(sort_tot)"
   ]
  },
  {
   "cell_type": "code",
   "execution_count": 44,
   "metadata": {},
   "outputs": [
    {
     "name": "stdout",
     "output_type": "stream",
     "text": [
      "8.0\n"
     ]
    }
   ],
   "source": [
    "che = []\n",
    "for i in android_final:\n",
    "    a = i[1]\n",
    "    b = i[2]\n",
    "    if a == 'EDUCATION':\n",
    "        che.append(float(b))\n",
    "        \n",
    "print(round(sum(che) / 60, 1))"
   ]
  },
  {
   "cell_type": "code",
   "execution_count": 45,
   "metadata": {},
   "outputs": [
    {
     "ename": "NameError",
     "evalue": "name 'table2' is not defined",
     "output_type": "error",
     "traceback": [
      "\u001b[1;31m---------------------------------------------------------------------------\u001b[0m",
      "\u001b[1;31mNameError\u001b[0m                                 Traceback (most recent call last)",
      "\u001b[1;32mc:\\Users\\kmedr\\OneDrive - RightTech\\DataAnalysis\\Python_Practice\\Profitable_App_Profiles\\Profitable_App_Profiles_final.ipynb Cell 78\u001b[0m in \u001b[0;36m<cell line: 1>\u001b[1;34m()\u001b[0m\n\u001b[1;32m----> <a href='vscode-notebook-cell:/c%3A/Users/kmedr/OneDrive%20-%20RightTech/DataAnalysis/Python_Practice/Profitable_App_Profiles/Profitable_App_Profiles_final.ipynb#Y144sZmlsZQ%3D%3D?line=0'>1</a>\u001b[0m dict3 \u001b[39m=\u001b[39m {k: table1[k] \u001b[39m/\u001b[39m table2[k] \u001b[39mfor\u001b[39;00m k \u001b[39min\u001b[39;00m table2\u001b[39m.\u001b[39mkeys() \u001b[39m&\u001b[39m table1}\n\u001b[0;32m      <a href='vscode-notebook-cell:/c%3A/Users/kmedr/OneDrive%20-%20RightTech/DataAnalysis/Python_Practice/Profitable_App_Profiles/Profitable_App_Profiles_final.ipynb#Y144sZmlsZQ%3D%3D?line=2'>3</a>\u001b[0m list10 \u001b[39m=\u001b[39m \u001b[39mlist\u001b[39m(\u001b[39mmap\u001b[39m(\u001b[39mlist\u001b[39m, dict3\u001b[39m.\u001b[39mitems()))\n\u001b[0;32m      <a href='vscode-notebook-cell:/c%3A/Users/kmedr/OneDrive%20-%20RightTech/DataAnalysis/Python_Practice/Profitable_App_Profiles/Profitable_App_Profiles_final.ipynb#Y144sZmlsZQ%3D%3D?line=3'>4</a>\u001b[0m \u001b[39mprint\u001b[39m(list10)\n",
      "\u001b[1;31mNameError\u001b[0m: name 'table2' is not defined"
     ]
    }
   ],
   "source": [
    "dict3 = {k: table1[k] / table2[k] for k in table2.keys() & table1}\n",
    "\n",
    "list10 = list(map(list, dict3.items()))\n",
    "print(list10)"
   ]
  },
  {
   "cell_type": "code",
   "execution_count": null,
   "metadata": {},
   "outputs": [
    {
     "name": "stdout",
     "output_type": "stream",
     "text": [
      "['ART_AND_DESIGN', 'AUTO_AND_VEHICLES', 'BEAUTY', 'BOOKS_AND_REFERENCE', 'BUSINESS', 'COMICS', 'COMMUNICATION', 'DATING', 'EDUCATION', 'ENTERTAINMENT', 'EVENTS', 'FAMILY', 'FINANCE', 'FOOD_AND_DRINK', 'GAME', 'HEALTH_AND_FITNESS', 'HOUSE_AND_HOME', 'LIBRARIES_AND_DEMO', 'LIFESTYLE', 'MAPS_AND_NAVIGATION', 'MEDICAL', 'NEWS_AND_MAGAZINES', 'PARENTING', 'PERSONALIZATION', 'PHOTOGRAPHY', 'PRODUCTIVITY', 'SHOPPING', 'SOCIAL', 'SPORTS', 'TOOLS', 'TRAVEL_AND_LOCAL', 'VIDEO_PLAYERS', 'WEATHER']\n"
     ]
    }
   ],
   "source": [
    "cats1 = []\n",
    "cats2 = []\n",
    "for row in android_final:\n",
    "    cats1.append(row[1])\n",
    "    if row[1] in cats1:\n",
    "        cats2.append(row[1])\n",
    "        \n",
    "cats3 = sorted((set(cats2)))\n",
    "print(cats3)"
   ]
  },
  {
   "cell_type": "code",
   "execution_count": null,
   "metadata": {},
   "outputs": [],
   "source": [
    "def high_rated(string):\n",
    "    beau = []\n",
    "    downs =[]\n",
    "    rating = []\n",
    "    for row in android_final:\n",
    "        rev = row[3]\n",
    "        down = row[5]\n",
    "        rat = float(row[2])\n",
    "        if row[1] == string:\n",
    "            beau.append(rev)\n",
    "            downs.append(down)\n",
    "            rating.append(rat)\n",
    "        rating = [0 if x == 'NaN' else x for x in rating]\n",
    "    print(string, 'has a total of', sum(beau), 'reviews.')\n",
    "    print(string, 'has a total of', sum(downs), 'downloads.')\n",
    "    print(string, 'has', round(sum(beau) / sum(downs) * 100, 2), 'reviews per 100 downloads')\n",
    "    print(string, 'has an average', round(sum(rating) / len(rating), 2), 'rating')"
   ]
  },
  {
   "cell_type": "code",
   "execution_count": null,
   "metadata": {},
   "outputs": [
    {
     "name": "stdout",
     "output_type": "stream",
     "text": [
      "GAME has a total of 440604975 reviews.\n",
      "GAME has a total of 11107764450 downloads.\n",
      "GAME has 3.97 reviews per 100 downloads\n",
      "GAME has an average 4.03 rating\n",
      "SHOPPING has a total of 44523992 reviews.\n",
      "SHOPPING has a total of 1400338585 downloads.\n",
      "SHOPPING has 3.18 reviews per 100 downloads\n",
      "SHOPPING has an average 3.78 rating\n",
      "DATING has a total of 3621934 reviews.\n",
      "DATING has a total of 140914757 downloads.\n",
      "DATING has 2.57 reviews per 100 downloads\n",
      "DATING has an average 3.16 rating\n"
     ]
    }
   ],
   "source": [
    "high_rated('GAME')\n",
    "high_rated('SHOPPING')\n",
    "high_rated('DATING')"
   ]
  },
  {
   "cell_type": "code",
   "execution_count": null,
   "metadata": {},
   "outputs": [
    {
     "name": "stdout",
     "output_type": "stream",
     "text": [
      "2083613379\n",
      "8850\n",
      "75002705825\n",
      "8850\n",
      "2.78\n",
      "8850\n"
     ]
    }
   ],
   "source": [
    "beau = []\n",
    "downs =[]\n",
    "for row in android_final:\n",
    "    beau.append(row[3])\n",
    "    downs.append(row[5])\n",
    "        \n",
    "print(sum(beau))\n",
    "print(len(beau))\n",
    "print(sum(downs))\n",
    "print(len(downs))\n",
    "print(round(sum(beau) / sum(downs) * 100, 2))\n",
    "print(len(android_final))"
   ]
  },
  {
   "cell_type": "code",
   "execution_count": null,
   "metadata": {},
   "outputs": [
    {
     "name": "stdout",
     "output_type": "stream",
     "text": [
      "Total numbe of reviews for all apps: 2083613379\n",
      "Total number of downloads for all apps: 75002705825\n",
      "2.78\n",
      "8850\n"
     ]
    }
   ],
   "source": [
    "total_reviews = []\n",
    "total_downloads = []\n",
    "for apps in android_final:\n",
    "    total_reviews.append(apps[3])\n",
    "    total_downloads.append(apps[5])\n",
    "    \n",
    "print('Total numbe of reviews for all apps:', sum(total_reviews))\n",
    "print('Total number of downloads for all apps:', sum(total_downloads))\n",
    "\n",
    "print(round(sum(total_reviews) / sum(total_downloads) * 100, 2))\n",
    "print(len(android_final))"
   ]
  },
  {
   "cell_type": "code",
   "execution_count": null,
   "metadata": {},
   "outputs": [],
   "source": [
    "per_rev = []\n",
    "for apps in android_final:\n",
    "    if apps[5] > 0:\n",
    "        downloads = apps[5]\n",
    "    if apps[3] > 0:\n",
    "        reviews = apps[3]\n",
    "    total = round((reviews / downloads) * 100, 2)\n",
    "    per_rev.append(total)\n",
    "\n",
    "if i in per_rev:\n",
    "    print(i)"
   ]
  },
  {
   "cell_type": "code",
   "execution_count": null,
   "metadata": {},
   "outputs": [
    {
     "name": "stdout",
     "output_type": "stream",
     "text": [
      "['Instagram', '爱奇艺PPS -《欢乐颂2》电视剧热播', 'Docs To Go Free Office Suite', 'Instachat', 'Wattpad  Free Books']\n"
     ]
    }
   ],
   "source": [
    "import emoji as em\n",
    "\n",
    "foreign_strings = ['Instagram', '爱奇艺PPS -《欢乐颂2》电视剧热播', 'Docs To Go™ Free Office Suite', 'Instachat 😜', 'Wattpad 📖 Free Books']\n",
    "english_strings = []\n",
    "    \n",
    "for i in foreign_strings:\n",
    "    i = em.replace_emoji(i).strip()\n",
    "    # if i.isascii():\n",
    "    english_strings.append(i)\n",
    "print(english_strings)\n"
   ]
  },
  {
   "cell_type": "code",
   "execution_count": null,
   "metadata": {},
   "outputs": [
    {
     "data": {
      "text/plain": [
       "['In',\n",
       " 'Out',\n",
       " '_',\n",
       " '_423',\n",
       " '_433',\n",
       " '_435',\n",
       " '_436',\n",
       " '_456',\n",
       " '_VSCode_defaultMatplotlib_Params',\n",
       " '__',\n",
       " '___',\n",
       " '__builtin__',\n",
       " '__builtins__',\n",
       " '__doc__',\n",
       " '__loader__',\n",
       " '__name__',\n",
       " '__package__',\n",
       " '__spec__',\n",
       " '__vsc_ipynb_file__',\n",
       " '_dh',\n",
       " '_i',\n",
       " '_i1',\n",
       " '_i10',\n",
       " '_i100',\n",
       " '_i101',\n",
       " '_i102',\n",
       " '_i103',\n",
       " '_i104',\n",
       " '_i105',\n",
       " '_i106',\n",
       " '_i107',\n",
       " '_i108',\n",
       " '_i109',\n",
       " '_i11',\n",
       " '_i110',\n",
       " '_i111',\n",
       " '_i112',\n",
       " '_i113',\n",
       " '_i114',\n",
       " '_i115',\n",
       " '_i116',\n",
       " '_i117',\n",
       " '_i118',\n",
       " '_i119',\n",
       " '_i12',\n",
       " '_i120',\n",
       " '_i121',\n",
       " '_i122',\n",
       " '_i123',\n",
       " '_i124',\n",
       " '_i125',\n",
       " '_i126',\n",
       " '_i127',\n",
       " '_i128',\n",
       " '_i129',\n",
       " '_i13',\n",
       " '_i130',\n",
       " '_i131',\n",
       " '_i132',\n",
       " '_i133',\n",
       " '_i134',\n",
       " '_i135',\n",
       " '_i136',\n",
       " '_i137',\n",
       " '_i138',\n",
       " '_i139',\n",
       " '_i14',\n",
       " '_i140',\n",
       " '_i141',\n",
       " '_i142',\n",
       " '_i143',\n",
       " '_i144',\n",
       " '_i145',\n",
       " '_i146',\n",
       " '_i147',\n",
       " '_i148',\n",
       " '_i149',\n",
       " '_i15',\n",
       " '_i150',\n",
       " '_i151',\n",
       " '_i152',\n",
       " '_i153',\n",
       " '_i154',\n",
       " '_i155',\n",
       " '_i156',\n",
       " '_i157',\n",
       " '_i158',\n",
       " '_i159',\n",
       " '_i16',\n",
       " '_i160',\n",
       " '_i161',\n",
       " '_i162',\n",
       " '_i163',\n",
       " '_i164',\n",
       " '_i165',\n",
       " '_i166',\n",
       " '_i167',\n",
       " '_i168',\n",
       " '_i169',\n",
       " '_i17',\n",
       " '_i170',\n",
       " '_i171',\n",
       " '_i172',\n",
       " '_i173',\n",
       " '_i174',\n",
       " '_i175',\n",
       " '_i176',\n",
       " '_i177',\n",
       " '_i178',\n",
       " '_i179',\n",
       " '_i18',\n",
       " '_i180',\n",
       " '_i181',\n",
       " '_i182',\n",
       " '_i183',\n",
       " '_i184',\n",
       " '_i185',\n",
       " '_i186',\n",
       " '_i187',\n",
       " '_i188',\n",
       " '_i189',\n",
       " '_i19',\n",
       " '_i190',\n",
       " '_i191',\n",
       " '_i192',\n",
       " '_i193',\n",
       " '_i194',\n",
       " '_i195',\n",
       " '_i196',\n",
       " '_i197',\n",
       " '_i198',\n",
       " '_i199',\n",
       " '_i2',\n",
       " '_i20',\n",
       " '_i200',\n",
       " '_i201',\n",
       " '_i202',\n",
       " '_i203',\n",
       " '_i204',\n",
       " '_i205',\n",
       " '_i206',\n",
       " '_i207',\n",
       " '_i208',\n",
       " '_i209',\n",
       " '_i21',\n",
       " '_i210',\n",
       " '_i211',\n",
       " '_i212',\n",
       " '_i213',\n",
       " '_i214',\n",
       " '_i215',\n",
       " '_i216',\n",
       " '_i217',\n",
       " '_i218',\n",
       " '_i219',\n",
       " '_i22',\n",
       " '_i220',\n",
       " '_i221',\n",
       " '_i222',\n",
       " '_i223',\n",
       " '_i224',\n",
       " '_i225',\n",
       " '_i226',\n",
       " '_i227',\n",
       " '_i228',\n",
       " '_i229',\n",
       " '_i23',\n",
       " '_i230',\n",
       " '_i231',\n",
       " '_i232',\n",
       " '_i233',\n",
       " '_i234',\n",
       " '_i235',\n",
       " '_i236',\n",
       " '_i237',\n",
       " '_i238',\n",
       " '_i239',\n",
       " '_i24',\n",
       " '_i240',\n",
       " '_i241',\n",
       " '_i242',\n",
       " '_i243',\n",
       " '_i244',\n",
       " '_i245',\n",
       " '_i246',\n",
       " '_i247',\n",
       " '_i248',\n",
       " '_i249',\n",
       " '_i25',\n",
       " '_i250',\n",
       " '_i251',\n",
       " '_i252',\n",
       " '_i253',\n",
       " '_i254',\n",
       " '_i255',\n",
       " '_i256',\n",
       " '_i257',\n",
       " '_i258',\n",
       " '_i259',\n",
       " '_i26',\n",
       " '_i260',\n",
       " '_i261',\n",
       " '_i262',\n",
       " '_i263',\n",
       " '_i264',\n",
       " '_i265',\n",
       " '_i266',\n",
       " '_i267',\n",
       " '_i268',\n",
       " '_i269',\n",
       " '_i27',\n",
       " '_i270',\n",
       " '_i271',\n",
       " '_i272',\n",
       " '_i273',\n",
       " '_i274',\n",
       " '_i275',\n",
       " '_i276',\n",
       " '_i277',\n",
       " '_i278',\n",
       " '_i279',\n",
       " '_i28',\n",
       " '_i280',\n",
       " '_i281',\n",
       " '_i282',\n",
       " '_i283',\n",
       " '_i284',\n",
       " '_i285',\n",
       " '_i286',\n",
       " '_i287',\n",
       " '_i288',\n",
       " '_i289',\n",
       " '_i29',\n",
       " '_i290',\n",
       " '_i291',\n",
       " '_i292',\n",
       " '_i293',\n",
       " '_i294',\n",
       " '_i295',\n",
       " '_i296',\n",
       " '_i297',\n",
       " '_i298',\n",
       " '_i299',\n",
       " '_i3',\n",
       " '_i30',\n",
       " '_i300',\n",
       " '_i301',\n",
       " '_i302',\n",
       " '_i303',\n",
       " '_i304',\n",
       " '_i305',\n",
       " '_i306',\n",
       " '_i307',\n",
       " '_i308',\n",
       " '_i309',\n",
       " '_i31',\n",
       " '_i310',\n",
       " '_i311',\n",
       " '_i312',\n",
       " '_i313',\n",
       " '_i314',\n",
       " '_i315',\n",
       " '_i316',\n",
       " '_i317',\n",
       " '_i318',\n",
       " '_i319',\n",
       " '_i32',\n",
       " '_i320',\n",
       " '_i321',\n",
       " '_i322',\n",
       " '_i323',\n",
       " '_i324',\n",
       " '_i325',\n",
       " '_i326',\n",
       " '_i327',\n",
       " '_i328',\n",
       " '_i329',\n",
       " '_i33',\n",
       " '_i330',\n",
       " '_i331',\n",
       " '_i332',\n",
       " '_i333',\n",
       " '_i334',\n",
       " '_i335',\n",
       " '_i336',\n",
       " '_i337',\n",
       " '_i338',\n",
       " '_i339',\n",
       " '_i34',\n",
       " '_i340',\n",
       " '_i341',\n",
       " '_i342',\n",
       " '_i343',\n",
       " '_i344',\n",
       " '_i345',\n",
       " '_i346',\n",
       " '_i347',\n",
       " '_i348',\n",
       " '_i349',\n",
       " '_i35',\n",
       " '_i350',\n",
       " '_i351',\n",
       " '_i352',\n",
       " '_i353',\n",
       " '_i354',\n",
       " '_i355',\n",
       " '_i356',\n",
       " '_i357',\n",
       " '_i358',\n",
       " '_i359',\n",
       " '_i36',\n",
       " '_i360',\n",
       " '_i361',\n",
       " '_i362',\n",
       " '_i363',\n",
       " '_i364',\n",
       " '_i365',\n",
       " '_i366',\n",
       " '_i367',\n",
       " '_i368',\n",
       " '_i369',\n",
       " '_i37',\n",
       " '_i370',\n",
       " '_i371',\n",
       " '_i372',\n",
       " '_i373',\n",
       " '_i374',\n",
       " '_i375',\n",
       " '_i376',\n",
       " '_i377',\n",
       " '_i378',\n",
       " '_i379',\n",
       " '_i38',\n",
       " '_i380',\n",
       " '_i381',\n",
       " '_i382',\n",
       " '_i383',\n",
       " '_i384',\n",
       " '_i385',\n",
       " '_i386',\n",
       " '_i387',\n",
       " '_i388',\n",
       " '_i389',\n",
       " '_i39',\n",
       " '_i390',\n",
       " '_i391',\n",
       " '_i392',\n",
       " '_i393',\n",
       " '_i394',\n",
       " '_i395',\n",
       " '_i396',\n",
       " '_i397',\n",
       " '_i398',\n",
       " '_i399',\n",
       " '_i4',\n",
       " '_i40',\n",
       " '_i400',\n",
       " '_i401',\n",
       " '_i402',\n",
       " '_i403',\n",
       " '_i404',\n",
       " '_i405',\n",
       " '_i406',\n",
       " '_i407',\n",
       " '_i408',\n",
       " '_i409',\n",
       " '_i41',\n",
       " '_i410',\n",
       " '_i411',\n",
       " '_i412',\n",
       " '_i413',\n",
       " '_i414',\n",
       " '_i415',\n",
       " '_i416',\n",
       " '_i417',\n",
       " '_i418',\n",
       " '_i419',\n",
       " '_i42',\n",
       " '_i420',\n",
       " '_i421',\n",
       " '_i422',\n",
       " '_i423',\n",
       " '_i424',\n",
       " '_i425',\n",
       " '_i426',\n",
       " '_i427',\n",
       " '_i428',\n",
       " '_i429',\n",
       " '_i43',\n",
       " '_i430',\n",
       " '_i431',\n",
       " '_i432',\n",
       " '_i433',\n",
       " '_i434',\n",
       " '_i435',\n",
       " '_i436',\n",
       " '_i437',\n",
       " '_i438',\n",
       " '_i439',\n",
       " '_i44',\n",
       " '_i440',\n",
       " '_i441',\n",
       " '_i442',\n",
       " '_i443',\n",
       " '_i444',\n",
       " '_i445',\n",
       " '_i446',\n",
       " '_i447',\n",
       " '_i448',\n",
       " '_i449',\n",
       " '_i45',\n",
       " '_i450',\n",
       " '_i451',\n",
       " '_i452',\n",
       " '_i453',\n",
       " '_i454',\n",
       " '_i455',\n",
       " '_i456',\n",
       " '_i457',\n",
       " '_i458',\n",
       " '_i46',\n",
       " '_i47',\n",
       " '_i48',\n",
       " '_i49',\n",
       " '_i5',\n",
       " '_i50',\n",
       " '_i51',\n",
       " '_i52',\n",
       " '_i53',\n",
       " '_i54',\n",
       " '_i55',\n",
       " '_i56',\n",
       " '_i57',\n",
       " '_i58',\n",
       " '_i59',\n",
       " '_i6',\n",
       " '_i60',\n",
       " '_i61',\n",
       " '_i62',\n",
       " '_i63',\n",
       " '_i64',\n",
       " '_i65',\n",
       " '_i66',\n",
       " '_i67',\n",
       " '_i68',\n",
       " '_i69',\n",
       " '_i7',\n",
       " '_i70',\n",
       " '_i71',\n",
       " '_i72',\n",
       " '_i73',\n",
       " '_i74',\n",
       " '_i75',\n",
       " '_i76',\n",
       " '_i77',\n",
       " '_i78',\n",
       " '_i79',\n",
       " '_i8',\n",
       " '_i80',\n",
       " '_i81',\n",
       " '_i82',\n",
       " '_i83',\n",
       " '_i84',\n",
       " '_i85',\n",
       " '_i86',\n",
       " '_i87',\n",
       " '_i88',\n",
       " '_i89',\n",
       " '_i9',\n",
       " '_i90',\n",
       " '_i91',\n",
       " '_i92',\n",
       " '_i93',\n",
       " '_i94',\n",
       " '_i95',\n",
       " '_i96',\n",
       " '_i97',\n",
       " '_i98',\n",
       " '_i99',\n",
       " '_ih',\n",
       " '_ii',\n",
       " '_iii',\n",
       " '_oh',\n",
       " 'a',\n",
       " 'already_added',\n",
       " 'android_clean',\n",
       " 'android_demoji',\n",
       " 'android_english',\n",
       " 'android_final',\n",
       " 'android_foreign',\n",
       " 'app',\n",
       " 'apple_data',\n",
       " 'apple_data_header',\n",
       " 'apple_demoji',\n",
       " 'apps',\n",
       " 'av_ratings',\n",
       " 'b',\n",
       " 'beau',\n",
       " 'cats1',\n",
       " 'cats2',\n",
       " 'cats3',\n",
       " 'count1',\n",
       " 'count2',\n",
       " 'd1',\n",
       " 'd2',\n",
       " 'd3',\n",
       " 'deep_index',\n",
       " 'dict3',\n",
       " 'display_table',\n",
       " 'downloads',\n",
       " 'downs',\n",
       " 'duplicate_apps',\n",
       " 'duplicate_apps_apple',\n",
       " 'em',\n",
       " 'english_strings',\n",
       " 'exit',\n",
       " 'explore_data',\n",
       " 'foreign_strings',\n",
       " 'freq_table',\n",
       " 'freq_table_sub',\n",
       " 'get_ipython',\n",
       " 'google_data',\n",
       " 'google_data_header',\n",
       " 'high_per',\n",
       " 'high_prob',\n",
       " 'high_rated',\n",
       " 'higher_rev',\n",
       " 'hr',\n",
       " 'i',\n",
       " 'instagram_duplicates',\n",
       " 'install_ranges',\n",
       " 'installs',\n",
       " 'ios_english',\n",
       " 'ios_final',\n",
       " 'ios_foreign',\n",
       " 'is_english',\n",
       " 'list10',\n",
       " 'low_per',\n",
       " 'low_prob',\n",
       " 'lts',\n",
       " 'matplotlib',\n",
       " 'max_dict',\n",
       " 'max_installs',\n",
       " 'max_reviews',\n",
       " 'mylist',\n",
       " 'name',\n",
       " 'num_inst',\n",
       " 'num_reviews',\n",
       " 'num_revs',\n",
       " 'open_dataset',\n",
       " 'os',\n",
       " 'per_rev',\n",
       " 'price',\n",
       " 'quit',\n",
       " 'rats',\n",
       " 'rats2',\n",
       " 'reviews',\n",
       " 'row',\n",
       " 'sys',\n",
       " 't',\n",
       " 'table1',\n",
       " 'table2',\n",
       " 'tool',\n",
       " 'tools',\n",
       " 'top_app',\n",
       " 'top_cat',\n",
       " 'top_genre',\n",
       " 'top_genres',\n",
       " 'tot1',\n",
       " 'tot2',\n",
       " 'tot_per_cat',\n",
       " 'tot_per_cat_list',\n",
       " 'total',\n",
       " 'total_downloads',\n",
       " 'total_reviews',\n",
       " 'unique_apps',\n",
       " 'unique_apps_apple',\n",
       " 'value',\n",
       " 'zero']"
      ]
     },
     "execution_count": 458,
     "metadata": {},
     "output_type": "execute_result"
    }
   ],
   "source": [
    "dir()"
   ]
  }
 ],
 "metadata": {
  "kernelspec": {
   "display_name": "Python 3.9.12 ('pipmyforg')",
   "language": "python",
   "name": "python3"
  },
  "language_info": {
   "codemirror_mode": {
    "name": "ipython",
    "version": 3
   },
   "file_extension": ".py",
   "mimetype": "text/x-python",
   "name": "python",
   "nbconvert_exporter": "python",
   "pygments_lexer": "ipython3",
   "version": "3.9.12"
  },
  "orig_nbformat": 4,
  "vscode": {
   "interpreter": {
    "hash": "8723c4edb82f36c0cc187262d9aa97078d6f5605d5bd934fce270facc4b86a5b"
   }
  }
 },
 "nbformat": 4,
 "nbformat_minor": 2
}
