{
 "cells": [
  {
   "cell_type": "markdown",
   "metadata": {},
   "source": [
    "1. Compute the sum of a_list (already defined in the code editor) without using sum().\n",
    "\n",
    "    - Initialize a variable named sum_manual with a value of 0.\n",
    "    - Loop through a_list, and for each iteration add the current number to sum_manual.\n",
    "<br/>\n",
    "<br/>\n",
    "2. Print sum_manual and sum(a_list) to see if the values are the same."
   ]
  },
  {
   "cell_type": "code",
   "execution_count": 1,
   "metadata": {},
   "outputs": [
    {
     "name": "stdout",
     "output_type": "stream",
     "text": [
      "103945\n",
      "103945\n"
     ]
    }
   ],
   "source": [
    "a_list = [4444, 8897, 6340, 9896, 4835, 4324, 10, 6445,\n",
    "          661, 1246, 1000, 7429, 1376, 8121, 647, 1280,\n",
    "          3993, 4881, 9500, 6701, 1199, 6251, 4432, 37]\n",
    "\n",
    "sum_manual = 0\n",
    "for i in a_list:\n",
    "    sum_manual += i\n",
    "    \n",
    "print(sum_manual)\n",
    "print(sum(a_list))"
   ]
  },
  {
   "cell_type": "code",
   "execution_count": 5,
   "metadata": {},
   "outputs": [
    {
     "name": "stdout",
     "output_type": "stream",
     "text": [
      "{'4+': 3, '9+': 1, '12+': 2, '17+': 2}\n"
     ]
    }
   ],
   "source": [
    "ratings = ['4+', '4+', '4+', '9+', '12+', '12+', '17+', '17+']\n",
    "\n",
    "content_ratings = {}\n",
    "\n",
    "for i in ratings:\n",
    "    if i in content_ratings:\n",
    "        content_ratings[i] += 1\n",
    "    else:\n",
    "        content_ratings[i] = 1\n",
    "print(content_ratings)\n",
    "    "
   ]
  },
  {
   "cell_type": "markdown",
   "metadata": {},
   "source": [
    "1. Recreate the `square()` function above and compute the square for numbers 10 and 16.\n",
    "<br/>\n",
    "<br/>\n",
    "    - Assign the square of 10 to a variable named `squared_10`.\n",
    "    - Assign the square of 16 to a variable named `squared_16`."
   ]
  },
  {
   "cell_type": "code",
   "execution_count": 6,
   "metadata": {},
   "outputs": [
    {
     "name": "stdout",
     "output_type": "stream",
     "text": [
      "100\n",
      "256\n"
     ]
    }
   ],
   "source": [
    "def square(a_number):\n",
    "    squared_number = (a_number * a_number)\n",
    "    return squared_number\n",
    "\n",
    "squared_10 = square(10)\n",
    "squared_16 = square(16)\n",
    "print(squared_10)\n",
    "print(squared_16)"
   ]
  },
  {
   "cell_type": "code",
   "execution_count": 8,
   "metadata": {},
   "outputs": [
    {
     "name": "stdout",
     "output_type": "stream",
     "text": [
      "40\n",
      "100\n"
     ]
    }
   ],
   "source": [
    "def add_10(add_number):\n",
    "    added_number = add_number + 10\n",
    "    return added_number\n",
    "\n",
    "add_30 = add_10(30)\n",
    "add_90 = add_10(90)\n",
    "\n",
    "print(add_30)\n",
    "print(add_90)\n",
    "    "
   ]
  },
  {
   "cell_type": "code",
   "execution_count": 7,
   "metadata": {},
   "outputs": [
    {
     "name": "stdout",
     "output_type": "stream",
     "text": [
      "July 15, 2006\n",
      "February 4, 2004\n",
      "June 9, 1949\n"
     ]
    }
   ],
   "source": [
    "def date(month, day, year):\n",
    "    return month + \" \" + str(day) + \", \" + str(year)\n",
    "\n",
    "print(date('July', 15, 2006))\n",
    "print(date('February', 4, 2004))\n",
    "print(date('June', 9, 1949))"
   ]
  },
  {
   "cell_type": "code",
   "execution_count": 10,
   "metadata": {},
   "outputs": [
    {
     "name": "stdout",
     "output_type": "stream",
     "text": [
      "36\n",
      "121\n"
     ]
    }
   ],
   "source": [
    "a"
   ]
  },
  {
   "cell_type": "code",
   "execution_count": 54,
   "metadata": {},
   "outputs": [
    {
     "name": "stdout",
     "output_type": "stream",
     "text": [
      "['id', 'track_name', 'size_bytes', 'currency', 'price', 'rating_count_tot', 'rating_count_ver', 'user_rating', 'user_rating_ver', 'ver', 'cont_rating', 'prime_genre', 'sup_devices.num', 'ipadSc_urls.num', 'lang.num', 'vpp_lic']\n",
      "['284882215', 'Facebook', '389879808', 'USD', '0.0', '2974676', '212', '3.5', '3.5', '95.0', '4+', 'Social Networking', '37', '1', '29', '1']\n",
      "['389801252', 'Instagram', '113954816', 'USD', '0.0', '2161558', '1289', '4.5', '4.0', '10.23', '12+', 'Photo & Video', '37', '0', '29', '1']\n",
      "['529479190', 'Clash of Clans', '116476928', 'USD', '0.0', '2130805', '579', '4.5', '4.5', '9.24.12', '9+', 'Games', '38', '5', '18', '1']\n"
     ]
    }
   ],
   "source": [
    "from csv import reader\n",
    "opened_file = open('AppleStore.csv', encoding=\"utf8\")\n",
    "read_file = reader(opened_file)\n",
    "apps_data = list(read_file)\n",
    "for _ in range(4):\n",
    "    print(apps_data[_])"
   ]
  },
  {
   "cell_type": "markdown",
   "metadata": {},
   "source": [
    "1. Write a function named `extract()` that can extract any column you want from the `apps_data` dataset.\n",
    "\n",
    "    - The function should take in the index number of a column as input (name the parameter whatever you want)\n",
    "<br/>\n",
    "<br/>\n",
    "2. Inside the function's definition, complete the following:\n",
    "\n",
    "    - Create an empty list\n",
    "    - Loop through the `apps_data` dataset (excluding the header).\n",
    "    - Extract only the value you want by using the parameter (which will be an index number)\n",
    "    - Append that value to the empty list\n",
    "    - Return the list containing the values of the column\n",
    "<br/>\n",
    "<br/>\n",
    "3. Use the `extract()` function to extract the values in the `prime_genre` column and store them in a variable named `genres`. The index number of this column is `11`."
   ]
  },
  {
   "cell_type": "code",
   "execution_count": 26,
   "metadata": {},
   "outputs": [
    {
     "name": "stdout",
     "output_type": "stream",
     "text": [
      "['Social Networking', 'Photo & Video', 'Games', 'Games', 'Music', 'Social Networking', 'Reference', 'Games', 'Music', 'Games', 'Games', 'Games', 'Games', 'Games', 'Games', 'Games', 'Games', 'Games', 'Games', 'Games', 'Health & Fitness', 'Games', 'Weather', 'Games', 'Utilities', 'Games', 'Games', 'Travel', 'Games', 'Games', 'Shopping', 'Games', 'Games', 'Games', 'Games', 'Music', 'Games', 'Games', 'Games', 'Games', 'Games', 'Games', 'Health & Fitness', 'Social Networking', 'Games', 'Games', 'Games', 'News', 'Social Networking', 'Navigation', 'Lifestyle', 'Social Networking', 'Games', 'Games', 'Photo & Video', 'Entertainment', 'Food & Drink', 'Games', 'Games', 'Games', 'Music', 'Entertainment', 'Sports', 'Social Networking', 'Games', 'Photo & Video', 'Games', 'Games', 'Games', 'Games', 'Games', 'Shopping', 'Social Networking', 'Food & Drink', 'Games', 'Games', 'Games', 'Book', 'Entertainment', 'Games', 'Games', 'Finance', 'Finance', 'Games', 'Travel', 'Games', 'Games', 'Games', 'Games', 'Weather', 'Reference', 'Games', 'Games', 'Games', 'Sports', 'Weather', 'Games', 'Games', 'Games', 'Entertainment', 'Games', 'Games', 'Games', 'Games', 'Entertainment', 'Games', 'Games', 'Games', 'Games', 'Games', 'Games', 'Social Networking', 'Games', 'Games', 'Entertainment', 'Games', 'Games', 'Social Networking', 'Games', 'Games', 'Social Networking', 'Games', 'Education', 'Productivity', 'Games', 'Sports', 'Games', 'Games', 'Games', 'Games', 'Navigation', 'Games', 'Games', 'Weather', 'Games', 'Sports', 'Travel', 'Games', 'Weather', 'Games', 'Games', 'Lifestyle', 'Shopping', 'Games', 'Games', 'Games', 'Games', 'Sports', 'Games', 'Health & Fitness', 'Productivity', 'Music', 'Games', 'Games', 'News', 'Music', 'Games', 'Shopping', 'Games', 'Utilities', 'Games', 'Utilities', 'Shopping', 'Games', 'Games', 'Games', 'Photo & Video', 'Photo & Video', 'Productivity', 'Education', 'Games', 'Games', 'Games', 'Games', 'Finance', 'Finance', 'Music', 'Entertainment', 'Games', 'Games', 'Games', 'Games', 'Games', 'Games', 'Games', 'Food & Drink', 'Productivity', 'News', 'Social Networking', 'Weather', 'Games', 'Music', 'Games', 'Entertainment', 'Food & Drink', 'Games', 'Utilities', 'Games', 'Shopping', 'Games', 'Games', 'Games', 'Games', 'Games', 'Games', 'Music', 'Games', 'Photo & Video', 'Book', 'Health & Fitness', 'Games', 'Games', 'Shopping', 'Finance', 'Games', 'Entertainment', 'Lifestyle', 'Games', 'Utilities', 'Games', 'Games', 'Entertainment', 'Entertainment', 'Games', 'Entertainment', 'Games', 'Social Networking', 'Education', 'Games', 'Photo & Video', 'Games', 'Health & Fitness', 'Social Networking', 'Photo & Video', 'Games', 'Shopping', 'Photo & Video', 'Entertainment', 'Games', 'Games', 'Games', 'Social Networking', 'Games', 'Games', 'Book', 'Games', 'Music', 'Games', 'Games', 'Entertainment', 'Games', 'Shopping', 'Games', 'Games', 'Photo & Video', 'Games', 'Games', 'Games', 'Entertainment', 'Games', 'Games', 'Games', 'Games', 'Games', 'Games', 'Games', 'Games', 'Social Networking', 'Games', 'Games', 'Entertainment', 'Social Networking', 'Music', 'Games', 'Shopping', 'Games', 'Games', 'Games', 'Games', 'Games', 'Games', 'News', 'Games', 'Games', 'Games', 'Book', 'Games', 'Games', 'Utilities', 'Sports', 'Games', 'Productivity', 'Games', 'Games', 'Games', 'Games', 'News', 'Social Networking', 'Games', 'Lifestyle', 'Games', 'Games', 'Games', 'Entertainment', 'Social Networking', 'Sports', 'Productivity', 'Games', 'Games', 'Games', 'Games', 'Education', 'Photo & Video', 'Sports', 'Shopping', 'Games', 'Entertainment', 'Travel', 'Entertainment', 'Finance', 'Games', 'Entertainment', 'Games', 'Utilities', 'Games', 'Entertainment', 'Shopping', 'Games', 'Games', 'Shopping', 'Games', 'Utilities', 'Games', 'Photo & Video', 'Sports', 'Reference', 'Games', 'Games', 'Health & Fitness', 'Games', 'Games', 'Games', 'Games', 'Games', 'Games', 'Social Networking', 'Photo & Video', 'Photo & Video', 'Games', 'Games', 'Lifestyle', 'Games', 'Productivity', 'Social Networking', 'Travel', 'Weather', 'Music', 'Finance', 'Games', 'News', 'Games', 'Productivity', 'Games', 'Games', 'Book', 'Utilities', 'Entertainment', 'Games', 'Sports', 'Travel', 'Games', 'Games', 'Games', 'Education', 'Weather', 'Games', 'Games', 'Photo & Video', 'Games', 'Games', 'Games', 'Games', 'Shopping', 'Games', 'Social Networking', 'Games', 'Sports', 'Entertainment', 'Games', 'Finance', 'Games', 'Games', 'Games', 'Games', 'Games', 'Games', 'Games', 'Games', 'Games', 'Games', 'Games', 'Games', 'Games', 'Games', 'Games', 'Photo & Video', 'Games', 'Games', 'Social Networking', 'Photo & Video', 'Games', 'Sports', 'Productivity', 'Games', 'Photo & Video', 'Photo & Video', 'Entertainment', 'Entertainment', 'Games', 'Business', 'Games', 'Photo & Video', 'Shopping', 'Games', 'Games', 'Utilities', 'Games', 'Games', 'Sports', 'Games', 'Games', 'Utilities', 'Games', 'Games', 'Social Networking', 'Games', 'Games', 'Shopping', 'Games', 'Utilities', 'Games', 'Games', 'Games', 'Weather', 'Games', 'Games', 'Education', 'Games', 'Games', 'Games', 'Games', 'Music', 'Games', 'Games', 'Games', 'Social Networking', 'Photo & Video', 'Social Networking', 'Shopping', 'Social Networking', 'Finance', 'Games', 'Games', 'Health & Fitness', 'Photo & Video', 'Games', 'Games', 'Games', 'Games', 'Games', 'Health & Fitness', 'Games', 'Games', 'Games', 'News', 'Productivity', 'Entertainment', 'Music', 'Photo & Video', 'Games', 'Games', 'Productivity', 'Games', 'Games', 'Travel', 'Photo & Video', 'Games', 'Games', 'Games', 'Business', 'Games', 'Games', 'Games', 'Travel', 'Games', 'Entertainment', 'Entertainment', 'Games', 'Music', 'Games', 'Games', 'Games', 'Travel', 'Shopping', 'Games', 'Games', 'Games', 'Games', 'Photo & Video', 'Games', 'Games', 'Entertainment', 'Games', 'Business', 'Productivity', 'News', 'Games', 'Photo & Video', 'Games', 'Games', 'Games', 'Games', 'Photo & Video', 'Social Networking', 'Music', 'Entertainment', 'Games', 'Weather', 'Health & Fitness', 'Business', 'Games', 'Games', 'Social Networking', 'Games', 'Photo & Video', 'Games', 'Games', 'Weather', 'Utilities', 'Utilities', 'Games', 'Entertainment', 'Social Networking', 'Games', 'Games', 'Health & Fitness', 'Games', 'Sports', 'Games', 'Games', 'Games', 'Reference', 'Games', 'Utilities', 'Games', 'Games', 'Games', 'Games', 'Shopping', 'Entertainment', 'Music', 'Entertainment', 'Games', 'Music', 'Photo & Video', 'Food & Drink', 'Games', 'Games', 'Games', 'Games', 'Games', 'Photo & Video', 'Games', 'Utilities', 'Music', 'Music', 'Games', 'Games', 'Games', 'Games', 'Games', 'Games', 'Games', 'Games', 'Business', 'Productivity', 'News', 'Games', 'Photo & Video', 'Games', 'Productivity', 'Games', 'Games', 'Entertainment', 'Shopping', 'Games', 'Games', 'Entertainment', 'Social Networking', 'Games', 'Games', 'Games', 'Games', 'Games', 'Finance', 'Games', 'Games', 'Games', 'Games', 'Social Networking', 'Education', 'Games', 'Social Networking', 'Games', 'Games', 'Utilities', 'Games', 'Games', 'Games', 'Weather', 'Shopping', 'Games', 'Games', 'Games', 'Games', 'Games', 'Games', 'Travel', 'Games', 'Games', 'Games', 'Reference', 'Games', 'Games', 'Games', 'Games', 'Finance', 'Sports', 'Entertainment', 'Games', 'Games', 'Games', 'Entertainment', 'Games', 'Productivity', 'Games', 'Games', 'Games', 'Games', 'Games', 'Games', 'Games', 'Games', 'Finance', 'Entertainment', 'Games', 'Games', 'Entertainment', 'Entertainment', 'Games', 'Sports', 'Utilities', 'Entertainment', 'Games', 'Games', 'Games', 'Games', 'Games', 'Social Networking', 'Games', 'Lifestyle', 'Games', 'Education', 'Games', 'Education', 'Games', 'Sports', 'Entertainment', 'Photo & Video', 'Games', 'Games', 'Games', 'Business', 'Entertainment', 'Games', 'Education', 'Productivity', 'Finance', 'Games', 'Games', 'Games', 'Lifestyle', 'Games', 'Games', 'Games', 'Games', 'Games', 'Games', 'Games', 'Games', 'Games', 'Games', 'Entertainment', 'Social Networking', 'Games', 'Games', 'Games', 'Education', 'Games', 'Games', 'News', 'Shopping', 'Games', 'Entertainment', 'Social Networking', 'Reference', 'Games', 'Games', 'Photo & Video', 'Games', 'Games', 'Productivity', 'Music', 'Games', 'Games', 'Games', 'Games', 'Shopping', 'Games', 'Shopping', 'Games', 'Games', 'Food & Drink', 'Games', 'Games', 'Social Networking', 'Health & Fitness', 'Productivity', 'Reference', 'Finance', 'Lifestyle', 'Entertainment', 'Games', 'Games', 'Games', 'Games', 'Games', 'Games', 'Games', 'Games', 'Sports', 'Games', 'Games', 'Entertainment', 'Games', 'Entertainment', 'Games', 'Reference', 'Health & Fitness', 'Games', 'Social Networking', 'Photo & Video', 'Sports', 'Education', 'Games', 'Games', 'Productivity', 'Education', 'Games', 'Games', 'Health & Fitness', 'Sports', 'Games', 'Games', 'Games', 'Photo & Video', 'Photo & Video', 'Games', 'Shopping', 'Entertainment', 'Productivity', 'Entertainment', 'Games', 'Games', 'Weather', 'Education', 'Entertainment', 'Photo & Video', 'Games', 'Photo & Video', 'Shopping', 'Sports', 'Games', 'Games', 'Games', 'Games', 'Games', 'Games', 'Productivity', 'Health & Fitness', 'Social Networking', 'Games', 'Games', 'Health & Fitness', 'Photo & Video', 'Games', 'Music', 'Games', 'Games', 'Utilities', 'Navigation', 'Games', 'Games', 'Entertainment', 'Photo & Video', 'Social Networking', 'Games', 'Shopping', 'Games', 'Games', 'Games', 'Games', 'Games', 'Games', 'Games', 'Games', 'Productivity', 'Games', 'Games', 'Social Networking', 'Games', 'Games', 'News', 'Music', 'Games', 'Games', 'Games', 'Games', 'Entertainment', 'Photo & Video', 'Games', 'Games', 'Photo & Video', 'Weather', 'Social Networking', 'Sports', 'Games', 'Games', 'Games', 'Entertainment', 'Productivity', 'Games', 'Games', 'Music', 'Sports', 'Education', 'Games', 'Games', 'Education', 'Music', 'Health & Fitness', 'Health & Fitness', 'Catalogs', 'Games', 'Games', 'Games', 'Entertainment', 'Games', 'Games', 'Entertainment', 'Games', 'Games', 'Games', 'Games', 'Music', 'Photo & Video', 'Photo & Video', 'Games', 'Games', 'Education', 'Health & Fitness', 'Navigation', 'Games', 'Productivity', 'Entertainment', 'Photo & Video', 'Games', 'Productivity', 'Games', 'Utilities', 'Games', 'Shopping', 'Shopping', 'Photo & Video', 'Utilities', 'Shopping', 'Games', 'Photo & Video', 'Lifestyle', 'Games', 'Shopping', 'Games', 'Games', 'Games', 'Games', 'Photo & Video', 'Shopping', 'Games', 'Games', 'Entertainment', 'Games', 'Games', 'Games', 'Reference', 'Games', 'Social Networking', 'Games', 'Games', 'News', 'Productivity', 'Games', 'Entertainment', 'Photo & Video', 'Social Networking', 'Photo & Video', 'Games', 'Games', 'Games', 'Games', 'Health & Fitness', 'Entertainment', 'Games', 'Productivity', 'Games', 'Business', 'News', 'Games', 'Utilities', 'Entertainment', 'Games', 'Games', 'Reference', 'Games', 'Productivity', 'Games', 'Games', 'Social Networking', 'Finance', 'Games', 'Games', 'Productivity', 'Games', 'Games', 'Games', 'Games', 'Photo & Video', 'Productivity', 'Games', 'Games', 'Social Networking', 'Games', 'Games', 'Entertainment', 'Games', 'Games', 'Productivity', 'Games', 'Photo & Video', 'Shopping', 'Games', 'Productivity', 'Games', 'Games', 'Games', 'Games', 'Productivity', 'Games', 'Photo & Video', 'Games', 'Games', 'Games', 'Games', 'Shopping', 'Games', 'Photo & Video', 'Games', 'Games', 'Education', 'Games', 'Photo & Video', 'Games', 'Games', 'Sports', 'Games', 'Photo & Video', 'Health & Fitness', 'Games', 'Games', 'Health & Fitness', 'Games', 'Health & Fitness', 'Games', 'Travel', 'Games', 'Games', 'Games', 'Games', 'Health & Fitness', 'Games', 'Games', 'Music', 'Lifestyle', 'Games', 'Health & Fitness', 'Entertainment', 'Weather', 'Music', 'Games', 'Games', 'Productivity', 'Productivity', 'Games', 'Sports', 'Games', 'Games', 'Games', 'Games', 'Productivity', 'Games', 'Education', 'Games', 'Games', 'Games', 'Games', 'Games', 'Photo & Video', 'Shopping', 'Games', 'Games', 'Education', 'Finance', 'Games', 'Food & Drink', 'Games', 'Entertainment', 'Games', 'Games', 'Games', 'Games', 'Games', 'Games', 'Entertainment', 'Games', 'Games', 'Games', 'Games', 'Utilities', 'Games', 'Social Networking', 'Health & Fitness', 'Games', 'Games', 'Photo & Video', 'Games', 'Social Networking', 'Games', 'Games', 'Photo & Video', 'Food & Drink', 'Entertainment', 'Games', 'Photo & Video', 'Entertainment', 'Entertainment', 'Shopping', 'Games', 'Games', 'Entertainment', 'Music', 'Lifestyle', 'Education', 'Games', 'Games', 'Games', 'Utilities', 'Games', 'Games', 'Games', 'Games', 'Health & Fitness', 'Games', 'Photo & Video', 'Business', 'Games', 'Games', 'Entertainment', 'Education', 'Games', 'Business', 'Games', 'Games', 'Games', 'Games', 'Shopping', 'Games', 'Photo & Video', 'Reference', 'Photo & Video', 'Games', 'Games', 'Photo & Video', 'Games', 'Games', 'Games', 'Games', 'Games', 'Games', 'Health & Fitness', 'Music', 'Business', 'Entertainment', 'Games', 'Games', 'Games', 'Games', 'Sports', 'Games', 'Shopping', 'News', 'Games', 'Games', 'Shopping', 'Games', 'Travel', 'Entertainment', 'Education', 'Games', 'Education', 'Games', 'Sports', 'Games', 'Games', 'News', 'Games', 'Utilities', 'Games', 'Games', 'Games', 'Games', 'Business', 'Games', 'Games', 'Games', 'Utilities', 'Productivity', 'Games', 'Games', 'Games', 'Games', 'Health & Fitness', 'Games', 'Games', 'Games', 'Games', 'Games', 'Entertainment', 'Games', 'Games', 'Productivity', 'Games', 'Photo & Video', 'Games', 'Games', 'Games', 'Photo & Video', 'Social Networking', 'Health & Fitness', 'Finance', 'Utilities', 'Productivity', 'Entertainment', 'Sports', 'Games', 'Productivity', 'Games', 'Games', 'Photo & Video', 'Health & Fitness', 'Games', 'Games', 'Entertainment', 'Health & Fitness', 'Productivity', 'Entertainment', 'Games', 'Lifestyle', 'Games', 'Reference', 'Music', 'Games', 'Games', 'Utilities', 'Games', 'Games', 'Reference', 'Productivity', 'Games', 'Social Networking', 'Entertainment', 'Utilities', 'Entertainment', 'Games', 'Education', 'Games', 'Shopping', 'Games', 'Music', 'Games', 'Games', 'Games', 'Games', 'Games', 'Business', 'Productivity', 'Games', 'Games', 'Games', 'Games', 'Games', 'Games', 'Travel', 'Games', 'Games', 'Games', 'Games', 'Games', 'Entertainment', 'Games', 'Games', 'Health & Fitness', 'Games', 'Games', 'Games', 'Games', 'Games', 'Photo & Video', 'Lifestyle', 'Games', 'Education', 'Shopping', 'Education', 'Lifestyle', 'Utilities', 'Games', 'Games', 'Games', 'Games', 'Photo & Video', 'Games', 'Games', 'Games', 'Education', 'Entertainment', 'Productivity', 'Games', 'Photo & Video', 'Games', 'Games', 'Games', 'Lifestyle', 'Book', 'Games', 'Shopping', 'Health & Fitness', 'Games', 'Lifestyle', 'Games', 'Photo & Video', 'Games', 'Games', 'Games', 'Productivity', 'Games', 'Games', 'Games', 'Games', 'Business', 'Productivity', 'Games', 'Games', 'Entertainment', 'Games', 'Productivity', 'Games', 'Games', 'Games', 'Entertainment', 'Games', 'Games', 'Games', 'Entertainment', 'Entertainment', 'Weather', 'Games', 'Education', 'Social Networking', 'Games', 'Games', 'Games', 'Games', 'Games', 'Entertainment', 'Productivity', 'Entertainment', 'Utilities', 'Games', 'Games', 'Education', 'Productivity', 'Games', 'Games', 'Games', 'Games', 'Games', 'Health & Fitness', 'Education', 'Games', 'Entertainment', 'Photo & Video', 'Games', 'Games', 'Travel', 'Games', 'Entertainment', 'Games', 'Entertainment', 'Lifestyle', 'Entertainment', 'Photo & Video', 'Food & Drink', 'Games', 'Games', 'Games', 'Business', 'Games', 'Games', 'Games', 'Utilities', 'Games', 'Entertainment', 'Games', 'Games', 'Entertainment', 'Games', 'Productivity', 'Games', 'Games', 'Shopping', 'Education', 'Games', 'Shopping', 'Games', 'Entertainment', 'Games', 'Productivity', 'Games', 'Games', 'Games', 'Entertainment', 'Games', 'Entertainment', 'Health & Fitness', 'Photo & Video', 'Games', 'Games', 'News', 'Games', 'Entertainment', 'Games', 'Games', 'Music', 'Games', 'Games', 'Games', 'Reference', 'Games', 'Photo & Video', 'Games', 'Games', 'Games', 'Games', 'Music', 'Games', 'Games', 'Games', 'Photo & Video', 'Games', 'Education', 'Games', 'Education', 'Games', 'Social Networking', 'Games', 'Games', 'Social Networking', 'Games', 'Shopping', 'Music', 'Games', 'Health & Fitness', 'Games', 'Games', 'Games', 'Productivity', 'Utilities', 'Games', 'Games', 'Reference', 'Games', 'Photo & Video', 'Games', 'Weather', 'Games', 'Photo & Video', 'Education', 'Games', 'Entertainment', 'Entertainment', 'Shopping', 'Games', 'Shopping', 'Health & Fitness', 'Games', 'Photo & Video', 'Games', 'Games', 'Productivity', 'Games', 'Music', 'Utilities', 'Music', 'Productivity', 'Games', 'Photo & Video', 'Games', 'Productivity', 'Games', 'Lifestyle', 'Health & Fitness', 'Games', 'Photo & Video', 'Reference', 'Utilities', 'Games', 'Music', 'Utilities', 'Games', 'Health & Fitness', 'Games', 'Entertainment', 'News', 'Utilities', 'Games', 'Games', 'Games', 'Games', 'Games', 'Games', 'Games', 'Entertainment', 'Games', 'Education', 'Games', 'Games', 'Games', 'Games', 'Games', 'Music', 'Photo & Video', 'Games', 'Games', 'Entertainment', 'Games', 'Health & Fitness', 'Games', 'Games', 'Games', 'Games', 'Entertainment', 'Games', 'Games', 'Games', 'Games', 'Education', 'Entertainment', 'Games', 'Games', 'Games', 'Games', 'Games', 'Photo & Video', 'Entertainment', 'Reference', 'Entertainment', 'Games', 'Games', 'Games', 'Games', 'Productivity', 'Games', 'Photo & Video', 'Health & Fitness', 'Games', 'Photo & Video', 'Games', 'Games', 'Games', 'Photo & Video', 'News', 'Finance', 'Games', 'Reference', 'Social Networking', 'Photo & Video', 'Utilities', 'Entertainment', 'Games', 'Games', 'Education', 'Shopping', 'Games', 'Utilities', 'Games', 'Social Networking', 'Games', 'Photo & Video', 'Health & Fitness', 'Photo & Video', 'Games', 'Entertainment', 'Games', 'Games', 'Games', 'Games', 'Games', 'Games', 'Entertainment', 'Education', 'Education', 'Entertainment', 'Entertainment', 'Food & Drink', 'Games', 'Games', 'Utilities', 'Photo & Video', 'Music', 'Games', 'Games', 'Photo & Video', 'Social Networking', 'Photo & Video', 'Games', 'Games', 'Photo & Video', 'Games', 'Games', 'Games', 'Games', 'Weather', 'Games', 'Games', 'Games', 'Utilities', 'Games', 'Games', 'Music', 'Photo & Video', 'Games', 'Photo & Video', 'Entertainment', 'Games', 'Games', 'Games', 'Games', 'Productivity', 'Productivity', 'Games', 'Entertainment', 'Education', 'Health & Fitness', 'Sports', 'Games', 'Lifestyle', 'Games', 'Shopping', 'Health & Fitness', 'Health & Fitness', 'Games', 'Health & Fitness', 'Sports', 'Games', 'Games', 'Entertainment', 'Games', 'Photo & Video', 'Games', 'Entertainment', 'Education', 'Games', 'Games', 'Games', 'Games', 'Games', 'Photo & Video', 'Games', 'Photo & Video', 'Games', 'Photo & Video', 'News', 'Music', 'Games', 'Education', 'Health & Fitness', 'Photo & Video', 'Entertainment', 'Games', 'Games', 'Games', 'Games', 'Photo & Video', 'Photo & Video', 'Games', 'Navigation', 'Education', 'Education', 'Games', 'Games', 'Games', 'Games', 'Games', 'Entertainment', 'Games', 'Games', 'Photo & Video', 'Games', 'Medical', 'Games', 'Games', 'Games', 'Games', 'Weather', 'Health & Fitness', 'Games', 'Music', 'Games', 'Games', 'Education', 'Games', 'Games', 'Games', 'Games', 'Games', 'Entertainment', 'Games', 'Games', 'Games', 'Games', 'Entertainment', 'Lifestyle', 'Games', 'Games', 'Entertainment', 'Health & Fitness', 'Games', 'Games', 'Weather', 'Games', 'Education', 'Business', 'Business', 'Entertainment', 'Games', 'Games', 'Games', 'Games', 'Weather', 'Games', 'Music', 'Social Networking', 'Utilities', 'Games', 'Games', 'Games', 'Games', 'Productivity', 'Utilities', 'Lifestyle', 'Games', 'Games', 'Reference', 'Sports', 'Games', 'Games', 'Games', 'Education', 'Shopping', 'Games', 'Games', 'Business', 'Games', 'Games', 'Entertainment', 'Games', 'Games', 'Games', 'Entertainment', 'Games', 'Games', 'Games', 'Shopping', 'Health & Fitness', 'Entertainment', 'Education', 'Entertainment', 'Productivity', 'Games', 'Games', 'Games', 'Games', 'Games', 'Games', 'Games', 'Games', 'Social Networking', 'Education', 'Games', 'Games', 'Finance', 'Photo & Video', 'Games', 'Games', 'Games', 'Utilities', 'Music', 'Games', 'Games', 'Games', 'Games', 'Games', 'Games', 'Games', 'Photo & Video', 'Photo & Video', 'Games', 'Games', 'Utilities', 'Business', 'Health & Fitness', 'Entertainment', 'Games', 'Games', 'Reference', 'Education', 'Business', 'Games', 'Games', 'Health & Fitness', 'Games', 'Games', 'Games', 'Games', 'Health & Fitness', 'Sports', 'Games', 'Games', 'Education', 'Games', 'Games', 'Games', 'Games', 'Games', 'Social Networking', 'Games', 'Games', 'Games', 'Reference', 'Utilities', 'Photo & Video', 'Games', 'Games', 'Games', 'Games', 'Games', 'Music', 'Productivity', 'Weather', 'Games', 'Games', 'Productivity', 'Games', 'Travel', 'Games', 'Games', 'Games', 'Games', 'Games', 'Games', 'Games', 'Games', 'Games', 'Medical', 'Games', 'Games', 'Games', 'Games', 'Games', 'Shopping', 'Games', 'Shopping', 'Entertainment', 'Entertainment', 'Games', 'Sports', 'Utilities', 'Games', 'Games', 'Sports', 'Games', 'Games', 'Games', 'Games', 'Sports', 'Utilities', 'Health & Fitness', 'Games', 'Games', 'Photo & Video', 'Games', 'Games', 'Games', 'Photo & Video', 'Games', 'Games', 'Music', 'Games', 'Utilities', 'Games', 'Games', 'Games', 'Games', 'Games', 'Food & Drink', 'Productivity', 'Games', 'Games', 'Games', 'Education', 'Games', 'Games', 'Games', 'Games', 'Games', 'Social Networking', 'Games', 'Games', 'Productivity', 'Games', 'Games', 'Photo & Video', 'Weather', 'Games', 'Games', 'Photo & Video', 'Games', 'Games', 'Music', 'Health & Fitness', 'Games', 'Games', 'Health & Fitness', 'Music', 'Photo & Video', 'Games', 'Shopping', 'Shopping', 'Lifestyle', 'Lifestyle', 'Games', 'Health & Fitness', 'Photo & Video', 'Utilities', 'Photo & Video', 'News', 'Productivity', 'Photo & Video', 'Games', 'Sports', 'Navigation', 'Entertainment', 'Health & Fitness', 'News', 'Music', 'Games', 'Games', 'Entertainment', 'Games', 'Photo & Video', 'Games', 'Games', 'Photo & Video', 'Entertainment', 'Entertainment', 'Games', 'Entertainment', 'Games', 'Entertainment', 'Health & Fitness', 'Weather', 'Games', 'Health & Fitness', 'Games', 'Games', 'Games', 'Photo & Video', 'Photo & Video', 'Productivity', 'Games', 'Games', 'Weather', 'Games', 'Games', 'Games', 'Entertainment', 'Education', 'Entertainment', 'Games', 'Productivity', 'Games', 'Photo & Video', 'Games', 'Utilities', 'Entertainment', 'News', 'Games', 'Games', 'Games', 'Shopping', 'Photo & Video', 'Games', 'Utilities', 'Utilities', 'Photo & Video', 'Games', 'Games', 'Social Networking', 'News', 'Games', 'Lifestyle', 'Games', 'Entertainment', 'Social Networking', 'Music', 'Finance', 'Games', 'Games', 'Games', 'Education', 'Games', 'Games', 'Games', 'Photo & Video', 'Games', 'Utilities', 'Games', 'Photo & Video', 'Entertainment', 'Business', 'Reference', 'Games', 'Photo & Video', 'Games', 'Games', 'Games', 'Games', 'Social Networking', 'Entertainment', 'Games', 'Games', 'Entertainment', 'Games', 'Games', 'Games', 'Games', 'Games', 'Games', 'Book', 'Weather', 'Games', 'Games', 'Photo & Video', 'Games', 'Photo & Video', 'Games', 'Games', 'Games', 'Games', 'Photo & Video', 'Photo & Video', 'Games', 'Sports', 'Games', 'Photo & Video', 'Education', 'Education', 'Entertainment', 'Games', 'Games', 'Entertainment', 'Games', 'Games', 'Entertainment', 'Games', 'Games', 'Games', 'Games', 'Games', 'Games', 'Catalogs', 'Games', 'Games', 'Entertainment', 'Games', 'Games', 'Utilities', 'Games', 'Games', 'Social Networking', 'Health & Fitness', 'Games', 'Photo & Video', 'Games', 'Games', 'Lifestyle', 'Photo & Video', 'Photo & Video', 'Games', 'Games', 'Utilities', 'Entertainment', 'Entertainment', 'Social Networking', 'Games', 'Games', 'Games', 'Business', 'Games', 'Games', 'Photo & Video', 'Games', 'Photo & Video', 'Games', 'Games', 'Games', 'Games', 'Games', 'Entertainment', 'Games', 'Games', 'Lifestyle', 'Education', 'Social Networking', 'Games', 'Games', 'News', 'Games', 'Games', 'Games', 'Games', 'Games', 'Games', 'Games', 'Lifestyle', 'Games', 'Utilities', 'Games', 'Utilities', 'Games', 'Health & Fitness', 'Photo & Video', 'Games', 'Productivity', 'Games', 'Games', 'Games', 'Social Networking', 'Education', 'Lifestyle', 'Education', 'Travel', 'Games', 'Lifestyle', 'Productivity', 'Travel', 'Games', 'Games', 'Games', 'Entertainment', 'Photo & Video', 'Entertainment', 'Games', 'Games', 'Games', 'Games', 'Photo & Video', 'Productivity', 'Games', 'Social Networking', 'Entertainment', 'Entertainment', 'Photo & Video', 'Travel', 'Games', 'Games', 'Games', 'Games', 'Travel', 'Games', 'Education', 'Games', 'Games', 'Games', 'Games', 'Games', 'Games', 'Games', 'Games', 'News', 'Games', 'Productivity', 'Photo & Video', 'Health & Fitness', 'Games', 'Business', 'Food & Drink', 'Photo & Video', 'Games', 'Games', 'Utilities', 'Games', 'Games', 'Education', 'Finance', 'Games', 'Games', 'Games', 'Entertainment', 'Shopping', 'Games', 'Education', 'Lifestyle', 'Games', 'Travel', 'Photo & Video', 'Games', 'Games', 'Games', 'Health & Fitness', 'Games', 'Health & Fitness', 'Photo & Video', 'Education', 'Games', 'Games', 'Food & Drink', 'Utilities', 'Productivity', 'Games', 'Games', 'Games', 'Games', 'Games', 'Games', 'Health & Fitness', 'Games', 'Entertainment', 'Book', 'Health & Fitness', 'Games', 'Games', 'Entertainment', 'Games', 'Games', 'Games', 'Shopping', 'Games', 'Games', 'Finance', 'Entertainment', 'Utilities', 'Entertainment', 'Social Networking', 'Games', 'Book', 'Games', 'Photo & Video', 'Utilities', 'Food & Drink', 'Games', 'Games', 'Music', 'Utilities', 'Games', 'Games', 'Games', 'Games', 'Sports', 'Games', 'Food & Drink', 'Games', 'Games', 'Games', 'Education', 'Games', 'Games', 'Education', 'Social Networking', 'Games', 'Games', 'Health & Fitness', 'Games', 'Education', 'Games', 'Entertainment', 'Games', 'Games', 'Entertainment', 'Lifestyle', 'Entertainment', 'Games', 'Games', 'Music', 'Games', 'Productivity', 'Weather', 'Photo & Video', 'Education', 'Games', 'Utilities', 'Games', 'Utilities', 'Games', 'Games', 'Games', 'Games', 'Education', 'Social Networking', 'Education', 'Lifestyle', 'Utilities', 'Education', 'Games', 'Utilities', 'Photo & Video', 'Utilities', 'Games', 'Games', 'Games', 'Health & Fitness', 'Games', 'Games', 'Finance', 'Games', 'Games', 'Games', 'Food & Drink', 'Games', 'Games', 'Productivity', 'Games', 'Reference', 'Games', 'Photo & Video', 'Entertainment', 'Lifestyle', 'Games', 'Photo & Video', 'Games', 'Travel', 'Photo & Video', 'Photo & Video', 'Games', 'Games', 'Utilities', 'Utilities', 'Games', 'Games', 'Games', 'Entertainment', 'Games', 'Games', 'Games', 'Games', 'Games', 'Games', 'Entertainment', 'Games', 'Games', 'Utilities', 'Travel', 'Games', 'Games', 'Games', 'Games', 'Productivity', 'Navigation', 'Games', 'Lifestyle', 'Games', 'Games', 'Games', 'Games', 'Education', 'Games', 'Photo & Video', 'Games', 'Games', 'Games', 'Games', 'Games', 'Games', 'Games', 'Games', 'Games', 'Utilities', 'Business', 'Education', 'Photo & Video', 'Education', 'Games', 'Games', 'Games', 'Games', 'Music', 'Games', 'Education', 'Games', 'Games', 'Games', 'Games', 'Utilities', 'Music', 'Photo & Video', 'Games', 'Photo & Video', 'Games', 'Games', 'Games', 'Games', 'Games', 'Weather', 'Food & Drink', 'Games', 'Entertainment', 'Games', 'Games', 'Education', 'Games', 'Education', 'Utilities', 'Medical', 'Lifestyle', 'Entertainment', 'Games', 'Games', 'Photo & Video', 'Games', 'Photo & Video', 'Games', 'Games', 'Games', 'Games', 'Finance', 'Games', 'Games', 'Social Networking', 'Games', 'Catalogs', 'Medical', 'Music', 'Games', 'Games', 'Productivity', 'Education', 'Business', 'Travel', 'Games', 'Entertainment', 'Entertainment', 'Entertainment', 'Games', 'Games', 'Finance', 'Photo & Video', 'Finance', 'Games', 'News', 'Games', 'Entertainment', 'Games', 'Games', 'Games', 'Lifestyle', 'Games', 'Games', 'Productivity', 'Games', 'Games', 'Games', 'Photo & Video', 'Games', 'Games', 'Music', 'Health & Fitness', 'Games', 'Education', 'Games', 'Games', 'Games', 'Games', 'Games', 'Games', 'Games', 'Music', 'Games', 'Navigation', 'Sports', 'Games', 'Music', 'Entertainment', 'Games', 'Games', 'Education', 'Education', 'Games', 'Entertainment', 'Games', 'Games', 'Games', 'Games', 'Entertainment', 'Medical', 'Games', 'Entertainment', 'Games', 'Games', 'Games', 'Entertainment', 'Games', 'Social Networking', 'Games', 'Games', 'Photo & Video', 'Games', 'Health & Fitness', 'Games', 'Food & Drink', 'Health & Fitness', 'Games', 'Games', 'Games', 'Photo & Video', 'Games', 'Games', 'Games', 'Games', 'Games', 'Reference', 'Games', 'Business', 'Weather', 'Book', 'Games', 'Games', 'Travel', 'Productivity', 'Entertainment', 'Business', 'Photo & Video', 'Games', 'Games', 'Games', 'Education', 'Games', 'Games', 'Games', 'Games', 'Games', 'Games', 'Education', 'Lifestyle', 'Games', 'Games', 'Games', 'Games', 'Education', 'Utilities', 'Photo & Video', 'Games', 'Games', 'Productivity', 'Games', 'Reference', 'Lifestyle', 'Sports', 'Utilities', 'Games', 'Games', 'Games', 'Medical', 'Travel', 'Shopping', 'Games', 'Games', 'Games', 'Games', 'Games', 'Travel', 'Games', 'Games', 'Games', 'Games', 'Games', 'Games', 'Productivity', 'Entertainment', 'Lifestyle', 'Games', 'Entertainment', 'Education', 'Games', 'Health & Fitness', 'Entertainment', 'Games', 'Games', 'Games', 'Games', 'Games', 'Games', 'Games', 'Games', 'Games', 'Education', 'Games', 'Games', 'Entertainment', 'Games', 'Music', 'Games', 'Games', 'Entertainment', 'Games', 'Weather', 'Navigation', 'Business', 'Social Networking', 'Photo & Video', 'Games', 'Photo & Video', 'Finance', 'Shopping', 'Social Networking', 'Games', 'Utilities', 'Utilities', 'Utilities', 'Entertainment', 'Games', 'Photo & Video', 'Shopping', 'Games', 'Utilities', 'Games', 'Education', 'Entertainment', 'Finance', 'Games', 'Games', 'Games', 'Utilities', 'Games', 'Health & Fitness', 'Navigation', 'Education', 'Games', 'Photo & Video', 'Games', 'Education', 'Games', 'Games', 'Education', 'Games', 'Games', 'Reference', 'Games', 'Games', 'Games', 'Entertainment', 'Games', 'Games', 'Games', 'Games', 'Games', 'Games', 'Education', 'Entertainment', 'Entertainment', 'Games', 'Health & Fitness', 'Games', 'Games', 'Education', 'Games', 'Games', 'Games', 'Games', 'Photo & Video', 'Games', 'Entertainment', 'Games', 'Health & Fitness', 'Lifestyle', 'Games', 'Games', 'Health & Fitness', 'Games', 'Games', 'Games', 'Entertainment', 'Entertainment', 'Games', 'Games', 'Games', 'Utilities', 'Games', 'Games', 'Games', 'Games', 'Utilities', 'Entertainment', 'Education', 'Games', 'Photo & Video', 'Entertainment', 'Photo & Video', 'Utilities', 'Music', 'Education', 'Music', 'Navigation', 'Games', 'Games', 'Games', 'Games', 'Entertainment', 'Games', 'Business', 'Music', 'Entertainment', 'Games', 'Games', 'Games', 'Games', 'Travel', 'Music', 'Games', 'Entertainment', 'Games', 'Games', 'Games', 'Productivity', 'Games', 'Games', 'Games', 'Games', 'Business', 'Education', 'Shopping', 'Entertainment', 'Games', 'Entertainment', 'Games', 'Photo & Video', 'Productivity', 'Utilities', 'Photo & Video', 'Games', 'Social Networking', 'Music', 'Games', 'Games', 'Business', 'Business', 'Games', 'Book', 'Music', 'Games', 'Games', 'Games', 'Games', 'Business', 'Games', 'Utilities', 'Utilities', 'Games', 'Games', 'Games', 'Games', 'Productivity', 'Navigation', 'Games', 'Entertainment', 'Travel', 'Games', 'Social Networking', 'Entertainment', 'Health & Fitness', 'Games', 'Utilities', 'Games', 'Entertainment', 'Entertainment', 'Games', 'Games', 'Games', 'Entertainment', 'Games', 'Education', 'Games', 'Games', 'Games', 'Games', 'Photo & Video', 'Games', 'Education', 'Lifestyle', 'Games', 'Sports', 'Games', 'Games', 'Games', 'Games', 'Games', 'Games', 'Food & Drink', 'Games', 'Games', 'Education', 'Games', 'Games', 'Games', 'Photo & Video', 'Games', 'Navigation', 'Productivity', 'Games', 'Reference', 'Business', 'Games', 'Entertainment', 'Games', 'Games', 'Utilities', 'Utilities', 'Games', 'Games', 'Games', 'Music', 'Photo & Video', 'Games', 'Games', 'Entertainment', 'Games', 'Games', 'Lifestyle', 'Productivity', 'Productivity', 'Games', 'Lifestyle', 'Sports', 'Entertainment', 'Entertainment', 'Photo & Video', 'Games', 'Games', 'Games', 'Games', 'Food & Drink', 'Games', 'Health & Fitness', 'Games', 'Games', 'Games', 'Games', 'Lifestyle', 'Entertainment', 'Games', 'Entertainment', 'Health & Fitness', 'News', 'Games', 'Health & Fitness', 'Games', 'Sports', 'Finance', 'Games', 'Entertainment', 'Entertainment', 'Games', 'Education', 'Music', 'Games', 'Photo & Video', 'Games', 'Games', 'Games', 'Productivity', 'Entertainment', 'Education', 'Navigation', 'Education', 'Productivity', 'Games', 'Education', 'Games', 'Shopping', 'Education', 'Finance', 'Games', 'Games', 'Food & Drink', 'Games', 'Education', 'Games', 'Reference', 'Games', 'Utilities', 'Food & Drink', 'Navigation', 'Games', 'Finance', 'Games', 'Utilities', 'Education', 'Games', 'Games', 'Food & Drink', 'Navigation', 'Games', 'Utilities', 'Social Networking', 'Music', 'Weather', 'Entertainment', 'Shopping', 'Games', 'Games', 'Games', 'Games', 'Games', 'Finance', 'Games', 'Games', 'Games', 'Games', 'Education', 'Games', 'Entertainment', 'Games', 'Entertainment', 'Social Networking', 'Games', 'Weather', 'Games', 'Games', 'Games', 'Games', 'Games', 'Games', 'Games', 'Social Networking', 'Games', 'Games', 'News', 'Productivity', 'Reference', 'Utilities', 'Games', 'Lifestyle', 'Games', 'Photo & Video', 'Games', 'Education', 'Games', 'Games', 'Games', 'Lifestyle', 'Games', 'Entertainment', 'Games', 'Games', 'Games', 'Utilities', 'Games', 'Games', 'Games', 'Games', 'Social Networking', 'Games', 'Games', 'News', 'Education', 'Games', 'Games', 'Utilities', 'Games', 'Education', 'Games', 'Games', 'Entertainment', 'Photo & Video', 'Social Networking', 'Shopping', 'Games', 'Travel', 'Education', 'Games', 'Utilities', 'Games', 'Social Networking', 'Games', 'Games', 'Photo & Video', 'Entertainment', 'Games', 'Entertainment', 'Games', 'Games', 'Games', 'Photo & Video', 'Games', 'Games', 'Education', 'Games', 'Photo & Video', 'Health & Fitness', 'Photo & Video', 'Games', 'Games', 'Lifestyle', 'Entertainment', 'Entertainment', 'Shopping', 'Games', 'Games', 'Productivity', 'Games', 'Games', 'Book', 'Photo & Video', 'Games', 'Entertainment', 'Games', 'Games', 'Games', 'Games', 'Reference', 'Education', 'Photo & Video', 'Productivity', 'Photo & Video', 'Games', 'Sports', 'Games', 'Entertainment', 'Book', 'Entertainment', 'Photo & Video', 'Games', 'Games', 'Utilities', 'Games', 'Games', 'Games', 'Entertainment', 'Games', 'Games', 'Health & Fitness', 'Social Networking', 'Navigation', 'Finance', 'Games', 'Games', 'Games', 'Photo & Video', 'Photo & Video', 'Entertainment', 'Games', 'Utilities', 'Music', 'Medical', 'Games', 'Lifestyle', 'Education', 'Education', 'Games', 'Games', 'Games', 'Games', 'Education', 'Photo & Video', 'Games', 'Games', 'Games', 'Lifestyle', 'Games', 'Games', 'Games', 'Photo & Video', 'Games', 'Games', 'Utilities', 'Games', 'Games', 'Entertainment', 'Education', 'Photo & Video', 'Utilities', 'Photo & Video', 'Games', 'Lifestyle', 'News', 'Weather', 'Education', 'Games', 'Education', 'Games', 'Games', 'Games', 'Games', 'Games', 'Games', 'Health & Fitness', 'Medical', 'Games', 'Games', 'Games', 'Games', 'Games', 'Games', 'Music', 'Music', 'Games', 'Productivity', 'Games', 'Shopping', 'Games', 'Music', 'Photo & Video', 'Games', 'Games', 'Games', 'Entertainment', 'Health & Fitness', 'Lifestyle', 'Entertainment', 'Games', 'Games', 'Social Networking', 'Productivity', 'Games', 'Productivity', 'Games', 'Games', 'Games', 'Games', 'Games', 'Games', 'Games', 'Games', 'Utilities', 'Utilities', 'Games', 'Photo & Video', 'Entertainment', 'Education', 'Music', 'Education', 'Games', 'Games', 'Games', 'Photo & Video', 'Education', 'Games', 'Entertainment', 'Utilities', 'Photo & Video', 'Utilities', 'Games', 'Education', 'Games', 'Games', 'Utilities', 'Games', 'Games', 'Games', 'Games', 'Photo & Video', 'Games', 'Games', 'Games', 'Travel', 'Games', 'Lifestyle', 'Games', 'Games', 'Games', 'Games', 'Games', 'Games', 'Photo & Video', 'Games', 'Lifestyle', 'Photo & Video', 'Education', 'Travel', 'Health & Fitness', 'Games', 'Games', 'Games', 'Games', 'Games', 'Games', 'Games', 'Games', 'Games', 'Games', 'Games', 'Games', 'Health & Fitness', 'Games', 'Social Networking', 'Reference', 'Productivity', 'Games', 'Games', 'Games', 'Music', 'Games', 'Games', 'Games', 'Travel', 'Productivity', 'Music', 'Travel', 'Games', 'Education', 'Education', 'Games', 'Lifestyle', 'Games', 'Games', 'Entertainment', 'Lifestyle', 'Lifestyle', 'Games', 'Games', 'Social Networking', 'Education', 'Games', 'Food & Drink', 'Games', 'Games', 'Games', 'Utilities', 'Education', 'Games', 'Games', 'Games', 'Games', 'Games', 'Education', 'Games', 'Games', 'Games', 'Games', 'Games', 'Games', 'Sports', 'Games', 'Games', 'Games', 'Games', 'Games', 'Health & Fitness', 'Games', 'Games', 'Games', 'Business', 'Social Networking', 'Education', 'Games', 'Games', 'Games', 'Games', 'Social Networking', 'Food & Drink', 'Health & Fitness', 'Games', 'Entertainment', 'Games', 'Games', 'Music', 'Games', 'Games', 'Entertainment', 'Games', 'Games', 'Utilities', 'Entertainment', 'Games', 'Games', 'Book', 'Entertainment', 'Games', 'Games', 'Games', 'Games', 'Health & Fitness', 'Games', 'Games', 'Games', 'Games', 'Games', 'Education', 'Health & Fitness', 'Games', 'Games', 'Education', 'Games', 'Games', 'Games', 'Photo & Video', 'Entertainment', 'Games', 'Games', 'Games', 'Games', 'Education', 'Games', 'Entertainment', 'Games', 'Games', 'Games', 'Sports', 'Games', 'Book', 'Games', 'Productivity', 'Games', 'Games', 'Finance', 'Games', 'Games', 'Education', 'Games', 'Catalogs', 'Games', 'Games', 'Games', 'Games', 'Games', 'Medical', 'News', 'Games', 'Sports', 'Games', 'Social Networking', 'Games', 'Shopping', 'Games', 'Productivity', 'Music', 'Games', 'Productivity', 'Games', 'Games', 'Games', 'Games', 'Games', 'Games', 'Photo & Video', 'Games', 'Games', 'Games', 'Games', 'Games', 'Social Networking', 'Games', 'Social Networking', 'Games', 'Education', 'Games', 'Games', 'Sports', 'Games', 'Games', 'Games', 'Education', 'Games', 'Photo & Video', 'Games', 'Reference', 'Games', 'Games', 'Health & Fitness', 'Games', 'Photo & Video', 'Entertainment', 'Games', 'Utilities', 'Games', 'Games', 'Games', 'Education', 'Games', 'Games', 'Games', 'Social Networking', 'Health & Fitness', 'Education', 'Medical', 'Games', 'Games', 'Games', 'Games', 'Entertainment', 'Games', 'Music', 'Games', 'Games', 'Education', 'Games', 'Games', 'Games', 'Games', 'Games', 'Social Networking', 'Games', 'Games', 'Health & Fitness', 'Health & Fitness', 'Travel', 'Games', 'Health & Fitness', 'Social Networking', 'Photo & Video', 'Education', 'Book', 'Book', 'Business', 'Games', 'Games', 'Games', 'Games', 'Games', 'Entertainment', 'Utilities', 'Games', 'Games', 'Photo & Video', 'Games', 'Games', 'Lifestyle', 'News', 'Entertainment', 'Education', 'Education', 'Entertainment', 'Games', 'Games', 'Games', 'Business', 'Games', 'Entertainment', 'Games', 'Games', 'Utilities', 'Games', 'Lifestyle', 'Weather', 'Utilities', 'Photo & Video', 'Photo & Video', 'Games', 'Games', 'Games', 'Games', 'Games', 'News', 'Games', 'Education', 'Education', 'Education', 'Games', 'Games', 'Entertainment', 'Social Networking', 'Photo & Video', 'Games', 'Education', 'Games', 'Games', 'Games', 'Health & Fitness', 'Shopping', 'Entertainment', 'Games', 'Health & Fitness', 'Games', 'Entertainment', 'Games', 'Shopping', 'Productivity', 'Games', 'Games', 'Games', 'Games', 'Games', 'Health & Fitness', 'Games', 'Games', 'Games', 'Games', 'Games', 'Games', 'Music', 'Entertainment', 'Social Networking', 'Games', 'Games', 'Productivity', 'Weather', 'Travel', 'Photo & Video', 'Games', 'Education', 'Games', 'Sports', 'Education', 'Games', 'Games', 'Games', 'Productivity', 'Games', 'Reference', 'Games', 'Games', 'Games', 'Photo & Video', 'Photo & Video', 'Entertainment', 'Games', 'Photo & Video', 'Games', 'Entertainment', 'Education', 'Games', 'Entertainment', 'Games', 'Games', 'Entertainment', 'Games', 'Games', 'Navigation', 'Games', 'Games', 'Games', 'Education', 'Games', 'Games', 'Entertainment', 'Games', 'Sports', 'Games', 'Entertainment', 'Weather', 'Lifestyle', 'Music', 'Games', 'Entertainment', 'Productivity', 'Entertainment', 'Education', 'Education', 'Games', 'Education', 'Games', 'Entertainment', 'Games', 'Utilities', 'Games', 'Games', 'Entertainment', 'Games', 'Health & Fitness', 'Games', 'Reference', 'Games', 'Lifestyle', 'Weather', 'Music', 'Travel', 'Entertainment', 'Entertainment', 'Entertainment', 'Games', 'Games', 'Games', 'Entertainment', 'Games', 'Utilities', 'Games', 'Games', 'Games', 'Education', 'Productivity', 'Games', 'Utilities', 'Music', 'Entertainment', 'Business', 'Music', 'Games', 'Games', 'Reference', 'Lifestyle', 'Games', 'Education', 'Games', 'Utilities', 'Lifestyle', 'Games', 'Games', 'Education', 'Education', 'Music', 'Music', 'Games', 'Music', 'Games', 'Lifestyle', 'Travel', 'Utilities', 'Games', 'Utilities', 'Food & Drink', 'Education', 'Games', 'Games', 'Games', 'Games', 'Utilities', 'Education', 'Games', 'Games', 'Productivity', 'Utilities', 'Games', 'Games', 'Games', 'Productivity', 'Photo & Video', 'Music', 'Finance', 'Games', 'Games', 'Health & Fitness', 'Games', 'Games', 'Games', 'Health & Fitness', 'Health & Fitness', 'Utilities', 'Education', 'Games', 'Games', 'Games', 'Education', 'Games', 'Productivity', 'Games', 'Food & Drink', 'Games', 'Games', 'News', 'Music', 'Games', 'Games', 'Health & Fitness', 'Entertainment', 'Music', 'Productivity', 'Games', 'Entertainment', 'Games', 'Games', 'Games', 'Productivity', 'Education', 'Games', 'Games', 'Entertainment', 'Games', 'Sports', 'Games', 'Travel', 'Games', 'Games', 'Games', 'Music', 'Entertainment', 'Games', 'Productivity', 'Entertainment', 'Health & Fitness', 'Games', 'Travel', 'Shopping', 'Games', 'Games', 'Games', 'Utilities', 'Games', 'Games', 'Entertainment', 'Games', 'Games', 'Games', 'Health & Fitness', 'Social Networking', 'Utilities', 'Games', 'Games', 'Navigation', 'Entertainment', 'Games', 'Games', 'Entertainment', 'Social Networking', 'Games', 'Games', 'Entertainment', 'Games', 'Games', 'Games', 'Games', 'Games', 'Education', 'Entertainment', 'Games', 'Games', 'Games', 'Social Networking', 'News', 'Games', 'Reference', 'Book', 'Education', 'Sports', 'Games', 'Games', 'Games', 'Games', 'Games', 'Games', 'Games', 'Photo & Video', 'Games', 'Social Networking', 'Utilities', 'Travel', 'Games', 'Games', 'Entertainment', 'Games', 'Games', 'Games', 'Health & Fitness', 'Games', 'Games', 'Navigation', 'Games', 'Games', 'Games', 'Games', 'Games', 'Games', 'Games', 'Sports', 'Health & Fitness', 'Games', 'Games', 'Games', 'Games', 'Games', 'Games', 'Social Networking', 'Games', 'Games', 'Health & Fitness', 'Games', 'Games', 'Finance', 'Education', 'Sports', 'Education', 'Games', 'Games', 'Games', 'Games', 'Games', 'Games', 'Utilities', 'Games', 'Games', 'Games', 'News', 'Games', 'Games', 'Utilities', 'Weather', 'Games', 'Games', 'Games', 'Games', 'Photo & Video', 'Education', 'Games', 'Entertainment', 'Games', 'Games', 'Games', 'Education', 'Photo & Video', 'Games', 'Productivity', 'Photo & Video', 'Photo & Video', 'Games', 'Productivity', 'Travel', 'Utilities', 'Games', 'Education', 'Games', 'Food & Drink', 'Utilities', 'Games', 'Games', 'Games', 'Health & Fitness', 'Sports', 'Entertainment', 'Productivity', 'Entertainment', 'Games', 'Entertainment', 'Entertainment', 'Photo & Video', 'News', 'Games', 'Games', 'Games', 'Photo & Video', 'Utilities', 'Games', 'Games', 'Games', 'Games', 'Games', 'Games', 'Education', 'Games', 'Games', 'Entertainment', 'Finance', 'Sports', 'Social Networking', 'Games', 'Games', 'Photo & Video', 'Entertainment', 'Games', 'Utilities', 'Games', 'Games', 'Utilities', 'Music', 'Games', 'Health & Fitness', 'Games', 'Education', 'Games', 'Health & Fitness', 'Games', 'Social Networking', 'Games', 'Games', 'Games', 'Games', 'Games', 'Games', 'News', 'Games', 'Entertainment', 'Games', 'Games', 'Games', 'Photo & Video', 'Photo & Video', 'Games', 'Games', 'Games', 'Entertainment', 'Photo & Video', 'Utilities', 'Games', 'Games', 'Games', 'Games', 'Games', 'Entertainment', 'Games', 'Games', 'Games', 'Games', 'Games', 'Games', 'Games', 'Games', 'Food & Drink', 'Shopping', 'Games', 'Games', 'Entertainment', 'Music', 'Games', 'Entertainment', 'News', 'Health & Fitness', 'Utilities', 'Photo & Video', 'Games', 'Education', 'Music', 'Entertainment', 'Photo & Video', 'Productivity', 'Entertainment', 'Games', 'News', 'Photo & Video', 'Utilities', 'Games', 'Entertainment', 'Education', 'Games', 'Photo & Video', 'Games', 'Games', 'Games', 'Games', 'Entertainment', 'Games', 'Utilities', 'Entertainment', 'Games', 'Social Networking', 'Games', 'Games', 'Catalogs', 'Games', 'Shopping', 'Health & Fitness', 'Lifestyle', 'Games', 'Productivity', 'Games', 'Games', 'Games', 'Games', 'Lifestyle', 'Games', 'Games', 'Entertainment', 'Utilities', 'Book', 'Games', 'Business', 'Games', 'Games', 'Photo & Video', 'Reference', 'Games', 'Games', 'Games', 'Games', 'Games', 'Games', 'Games', 'News', 'Education', 'Weather', 'Education', 'Photo & Video', 'Games', 'Photo & Video', 'Music', 'Entertainment', 'Games', 'Music', 'Book', 'Games', 'Entertainment', 'Games', 'Games', 'Games', 'Games', 'Business', 'Utilities', 'Games', 'Education', 'Games', 'Games', 'Games', 'Shopping', 'Photo & Video', 'Games', 'Food & Drink', 'Games', 'Games', 'Travel', 'Games', 'Book', 'Games', 'Social Networking', 'Games', 'Productivity', 'Education', 'Lifestyle', 'Games', 'Games', 'Utilities', 'Entertainment', 'Games', 'Lifestyle', 'Games', 'Games', 'Games', 'Education', 'Sports', 'Games', 'Entertainment', 'Finance', 'Games', 'Games', 'Games', 'Education', 'Games', 'Games', 'Games', 'Entertainment', 'Games', 'Travel', 'Games', 'Entertainment', 'Navigation', 'Games', 'Games', 'Utilities', 'Weather', 'Education', 'Education', 'Games', 'Games', 'Games', 'Games', 'Games', 'Games', 'Productivity', 'Games', 'Health & Fitness', 'Games', 'Games', 'Games', 'Games', 'Photo & Video', 'Entertainment', 'Games', 'Entertainment', 'Games', 'Games', 'Photo & Video', 'Games', 'Games', 'Games', 'Book', 'Health & Fitness', 'Productivity', 'Games', 'Social Networking', 'Games', 'Games', 'Entertainment', 'Lifestyle', 'Games', 'Games', 'Travel', 'Shopping', 'Entertainment', 'Games', 'Games', 'Travel', 'Games', 'News', 'Games', 'Games', 'Education', 'Games', 'Games', 'Finance', 'Entertainment', 'News', 'Games', 'Games', 'Education', 'Games', 'Games', 'Games', 'Photo & Video', 'Games', 'Games', 'Games', 'Business', 'Games', 'Games', 'Games', 'Games', 'Education', 'Shopping', 'Photo & Video', 'Photo & Video', 'Games', 'Games', 'Productivity', 'Games', 'Games', 'Photo & Video', 'Games', 'Games', 'Games', 'Music', 'Games', 'Games', 'Games', 'Photo & Video', 'Games', 'Games', 'Lifestyle', 'Games', 'Games', 'Games', 'Games', 'Games', 'Games', 'Finance', 'Utilities', 'Games', 'Photo & Video', 'Entertainment', 'Games', 'Entertainment', 'Shopping', 'Games', 'Games', 'Productivity', 'News', 'Business', 'Games', 'Games', 'Education', 'Games', 'Games', 'Games', 'Games', 'Weather', 'Games', 'Health & Fitness', 'Games', 'Education', 'Book', 'Photo & Video', 'Entertainment', 'Photo & Video', 'Medical', 'Games', 'Games', 'Games', 'Education', 'Games', 'Lifestyle', 'Music', 'Social Networking', 'Utilities', 'Games', 'Games', 'Games', 'Games', 'Education', 'Games', 'Games', 'Games', 'Productivity', 'Games', 'Games', 'Games', 'Games', 'Games', 'Food & Drink', 'Travel', 'Entertainment', 'Games', 'Games', 'Games', 'Games', 'Music', 'Travel', 'Games', 'Games', 'Games', 'Entertainment', 'Games', 'Games', 'Lifestyle', 'Finance', 'Games', 'Games', 'Games', 'Health & Fitness', 'Games', 'Games', 'Games', 'Shopping', 'Games', 'Music', 'Utilities', 'Games', 'Games', 'Reference', 'Education', 'Business', 'Games', 'Games', 'Social Networking', 'Entertainment', 'Games', 'Food & Drink', 'Games', 'Games', 'Games', 'Games', 'Games', 'Games', 'Social Networking', 'Photo & Video', 'Utilities', 'Games', 'Sports', 'Games', 'Games', 'Games', 'Health & Fitness', 'Games', 'Games', 'Games', 'Games', 'Entertainment', 'Games', 'Games', 'Photo & Video', 'Games', 'Games', 'Education', 'Games', 'Games', 'Games', 'Health & Fitness', 'Sports', 'Games', 'Education', 'Entertainment', 'Games', 'Education', 'Games', 'Weather', 'Education', 'Games', 'Games', 'Games', 'Games', 'Games', 'Education', 'Games', 'Games', 'Games', 'Productivity', 'Utilities', 'Games', 'Entertainment', 'Games', 'Sports', 'Games', 'Utilities', 'Productivity', 'Entertainment', 'Games', 'Games', 'Travel', 'Games', 'Games', 'Entertainment', 'Games', 'Games', 'Sports', 'Games', 'Music', 'Music', 'Games', 'Games', 'Games', 'Lifestyle', 'Reference', 'Entertainment', 'Games', 'Photo & Video', 'Games', 'Games', 'Photo & Video', 'Entertainment', 'Games', 'Games', 'Utilities', 'Games', 'Travel', 'Games', 'Games', 'Games', 'Health & Fitness', 'Sports', 'Music', 'Entertainment', 'Games', 'Education', 'Games', 'Photo & Video', 'Productivity', 'Games', 'Games', 'Games', 'Games', 'Travel', 'Photo & Video', 'News', 'Weather', 'Games', 'Games', 'Education', 'Travel', 'Utilities', 'Games', 'Productivity', 'Games', 'Games', 'Games', 'Games', 'Games', 'Games', 'Entertainment', 'Entertainment', 'Games', 'Education', 'Education', 'Games', 'Games', 'Sports', 'Games', 'Games', 'Entertainment', 'Productivity', 'Utilities', 'Games', 'Games', 'Entertainment', 'Games', 'Education', 'Games', 'Games', 'Games', 'Entertainment', 'Education', 'Weather', 'Games', 'Productivity', 'Music', 'Entertainment', 'Finance', 'Games', 'Games', 'Games', 'Games', 'Entertainment', 'Games', 'Education', 'Social Networking', 'Games', 'Games', 'Education', 'Entertainment', 'Utilities', 'Photo & Video', 'Book', 'Utilities', 'Games', 'Games', 'Games', 'Entertainment', 'News', 'Games', 'Games', 'Health & Fitness', 'Games', 'Games', 'Social Networking', 'Education', 'Games', 'Games', 'Book', 'Lifestyle', 'Games', 'Games', 'Social Networking', 'Games', 'Games', 'Lifestyle', 'Games', 'Games', 'Games', 'Games', 'Games', 'Games', 'Games', 'Health & Fitness', 'Food & Drink', 'Games', 'Games', 'Games', 'Games', 'Photo & Video', 'Games', 'Games', 'Games', 'Games', 'Education', 'News', 'Travel', 'Games', 'Book', 'Games', 'Entertainment', 'Health & Fitness', 'Games', 'Games', 'Games', 'Games', 'Games', 'Shopping', 'Sports', 'Education', 'Health & Fitness', 'Education', 'Entertainment', 'News', 'Games', 'Games', 'Games', 'Games', 'Games', 'Games', 'Lifestyle', 'Games', 'Entertainment', 'Games', 'Games', 'Productivity', 'Productivity', 'Games', 'Games', 'Education', 'Games', 'Music', 'Education', 'Games', 'Games', 'Games', 'Games', 'Games', 'Entertainment', 'Entertainment', 'Games', 'Games', 'Games', 'Games', 'Utilities', 'Reference', 'Games', 'Entertainment', 'Photo & Video', 'Games', 'Games', 'Education', 'Games', 'Games', 'Entertainment', 'Games', 'Social Networking', 'Social Networking', 'Games', 'Games', 'Games', 'Games', 'Games', 'Sports', 'Music', 'Travel', 'Entertainment', 'Games', 'Games', 'Games', 'Games', 'Games', 'Health & Fitness', 'Games', 'Games', 'Games', 'Games', 'Shopping', 'Games', 'Games', 'Games', 'Education', 'Utilities', 'Games', 'Reference', 'Sports', 'Games', 'Photo & Video', 'Reference', 'Games', 'Entertainment', 'Productivity', 'Photo & Video', 'Games', 'Games', 'Education', 'Entertainment', 'Entertainment', 'Sports', 'Games', 'Games', 'Shopping', 'Photo & Video', 'Games', 'Games', 'Utilities', 'Business', 'Games', 'Photo & Video', 'Games', 'Games', 'Games', 'Health & Fitness', 'Games', 'Education', 'Games', 'Games', 'Games', 'Games', 'Games', 'Games', 'Sports', 'Games', 'Games', 'Entertainment', 'Health & Fitness', 'Sports', 'Games', 'Games', 'Games', 'Entertainment', 'Shopping', 'Photo & Video', 'Entertainment', 'Games', 'Education', 'Photo & Video', 'Games', 'Entertainment', 'Games', 'Games', 'Games', 'Entertainment', 'Games', 'Music', 'Shopping', 'Entertainment', 'Games', 'Games', 'Games', 'Games', 'Productivity', 'Games', 'Health & Fitness', 'Games', 'Education', 'Games', 'Games', 'Games', 'Education', 'Entertainment', 'Games', 'Photo & Video', 'Games', 'Productivity', 'Games', 'Productivity', 'Games', 'Entertainment', 'Games', 'Entertainment', 'Games', 'Games', 'Travel', 'Education', 'Book', 'Games', 'Games', 'Games', 'Productivity', 'Medical', 'Education', 'Games', 'Games', 'Games', 'Games', 'Photo & Video', 'Games', 'Education', 'Photo & Video', 'Games', 'Games', 'Games', 'Games', 'Games', 'Games', 'Games', 'Lifestyle', 'Games', 'Sports', 'Games', 'Utilities', 'Weather', 'Education', 'Photo & Video', 'Education', 'Games', 'Games', 'Games', 'Games', 'Games', 'Photo & Video', 'Games', 'Photo & Video', 'Games', 'Education', 'Games', 'Entertainment', 'Games', 'Games', 'Games', 'Games', 'Utilities', 'Games', 'Games', 'Games', 'Games', 'Games', 'Games', 'Games', 'Games', 'Games', 'Games', 'Games', 'Games', 'Games', 'Games', 'Education', 'Travel', 'Games', 'Reference', 'Games', 'Entertainment', 'Education', 'Education', 'Games', 'Lifestyle', 'Reference', 'Games', 'Entertainment', 'Games', 'Lifestyle', 'Games', 'Games', 'Games', 'Photo & Video', 'Education', 'Games', 'Photo & Video', 'Games', 'Games', 'Entertainment', 'Games', 'Utilities', 'Utilities', 'Games', 'Games', 'Productivity', 'Lifestyle', 'Games', 'Book', 'Games', 'Utilities', 'Games', 'Utilities', 'Games', 'Games', 'Games', 'Games', 'Games', 'Games', 'Games', 'Games', 'Entertainment', 'Games', 'Games', 'Weather', 'Sports', 'Games', 'Games', 'Games', 'Weather', 'Games', 'Games', 'Games', 'Utilities', 'Entertainment', 'Education', 'Music', 'Games', 'Education', 'Games', 'Games', 'Entertainment', 'Games', 'Games', 'Health & Fitness', 'Games', 'Games', 'Games', 'Games', 'Games', 'Social Networking', 'Weather', 'Entertainment', 'Entertainment', 'Games', 'Games', 'Games', 'Utilities', 'Book', 'Entertainment', 'Games', 'Games', 'Finance', 'Games', 'Entertainment', 'Games', 'Games', 'Education', 'Games', 'News', 'Games', 'Education', 'Games', 'Travel', 'Utilities', 'Games', 'Games', 'Games', 'Games', 'Games', 'Games', 'Games', 'Education', 'Games', 'Games', 'Education', 'Education', 'Games', 'Entertainment', 'Games', 'Games', 'Games', 'Games', 'Entertainment', 'Games', 'Games', 'Games', 'Shopping', 'News', 'Education', 'Medical', 'Games', 'Entertainment', 'Games', 'Games', 'Games', 'Games', 'Utilities', 'Shopping', 'Lifestyle', 'Games', 'Games', 'Games', 'Education', 'Games', 'Games', 'Games', 'Entertainment', 'Productivity', 'Utilities', 'Games', 'Games', 'Games', 'Games', 'Games', 'Games', 'Productivity', 'Entertainment', 'Education', 'Games', 'Games', 'Sports', 'Education', 'Photo & Video', 'Games', 'Health & Fitness', 'Games', 'Games', 'Utilities', 'Entertainment', 'Lifestyle', 'Games', 'Games', 'Games', 'Games', 'Games', 'Games', 'Games', 'Games', 'Games', 'Productivity', 'Games', 'Productivity', 'Games', 'Games', 'Games', 'Games', 'Games', 'Games', 'Games', 'Games', 'Games', 'Games', 'Games', 'Entertainment', 'Entertainment', 'Games', 'Shopping', 'Education', 'Photo & Video', 'Games', 'Games', 'Games', 'Games', 'Games', 'Games', 'Games', 'Games', 'Games', 'Games', 'Games', 'Games', 'Photo & Video', 'Finance', 'Games', 'Entertainment', 'Book', 'Photo & Video', 'Games', 'Games', 'Book', 'Shopping', 'Productivity', 'Games', 'Games', 'Games', 'Games', 'Games', 'Games', 'Education', 'Shopping', 'Games', 'Photo & Video', 'Games', 'Games', 'Games', 'Games', 'Games', 'Shopping', 'Productivity', 'Photo & Video', 'Games', 'Photo & Video', 'Book', 'Games', 'Education', 'Games', 'Reference', 'Games', 'Music', 'Games', 'Games', 'Social Networking', 'Entertainment', 'Music', 'Games', 'Games', 'Games', 'Photo & Video', 'Games', 'Games', 'Games', 'Food & Drink', 'Games', 'Entertainment', 'Games', 'Book', 'Games', 'Social Networking', 'Games', 'Photo & Video', 'Games', 'Games', 'Games', 'Education', 'Games', 'Education', 'Entertainment', 'Games', 'Games', 'Productivity', 'Games', 'Games', 'Games', 'Games', 'Games', 'Games', 'Entertainment', 'Education', 'Games', 'Games', 'Games', 'Entertainment', 'Games', 'Games', 'Games', 'Games', 'Games', 'Weather', 'Games', 'Education', 'Games', 'Games', 'Games', 'Games', 'Education', 'Education', 'Entertainment', 'Games', 'Entertainment', 'Games', 'Games', 'Photo & Video', 'Games', 'Games', 'Entertainment', 'Games', 'Games', 'Photo & Video', 'Entertainment', 'Games', 'Games', 'Games', 'Education', 'Games', 'Games', 'Games', 'Games', 'Games', 'Finance', 'Games', 'Finance', 'Games', 'Travel', 'Games', 'Games', 'Games', 'Games', 'Education', 'Games', 'Games', 'Games', 'Games', 'Games', 'Games', 'Education', 'Games', 'Games', 'Health & Fitness', 'Games', 'Entertainment', 'Photo & Video', 'Games', 'Games', 'Games', 'Weather', 'Games', 'Utilities', 'Games', 'Education', 'Games', 'Games', 'Games', 'Entertainment', 'Games', 'Productivity', 'Education', 'Sports', 'Entertainment', 'Games', 'Games', 'Entertainment', 'Games', 'Utilities', 'Games', 'Games', 'Social Networking', 'Food & Drink', 'Games', 'Games', 'Games', 'Utilities', 'Utilities', 'Health & Fitness', 'Games', 'Games', 'Games', 'Entertainment', 'Games', 'Entertainment', 'Weather', 'Health & Fitness', 'Games', 'Games', 'Education', 'Shopping', 'Entertainment', 'Games', 'Education', 'Business', 'Games', 'Music', 'Travel', 'Games', 'Games', 'Games', 'Education', 'Games', 'Productivity', 'Games', 'Entertainment', 'Games', 'Games', 'Games', 'Entertainment', 'Entertainment', 'Games', 'Education', 'Utilities', 'Travel', 'Photo & Video', 'Games', 'Games', 'Games', 'Health & Fitness', 'Games', 'Games', 'Sports', 'Entertainment', 'Education', 'Utilities', 'Music', 'Games', 'Entertainment', 'Games', 'Games', 'Games', 'Games', 'Utilities', 'Games', 'Education', 'Book', 'Photo & Video', 'Education', 'Games', 'Education', 'Education', 'Games', 'Medical', 'Education', 'Utilities', 'Navigation', 'Games', 'Games', 'Games', 'Games', 'Games', 'Photo & Video', 'Games', 'Entertainment', 'Music', 'Lifestyle', 'Finance', 'Games', 'Games', 'Games', 'Book', 'Games', 'Games', 'Games', 'Games', 'Utilities', 'Sports', 'Entertainment', 'Education', 'Music', 'Entertainment', 'Games', 'Education', 'Games', 'Games', 'Photo & Video', 'Games', 'Lifestyle', 'Education', 'Games', 'Games', 'Games', 'Health & Fitness', 'Games', 'Games', 'Games', 'Games', 'Entertainment', 'Games', 'Games', 'Entertainment', 'Education', 'Lifestyle', 'Lifestyle', 'Education', 'Games', 'Games', 'Games', 'Entertainment', 'Games', 'Education', 'Finance', 'Games', 'Games', 'Games', 'Games', 'Games', 'Games', 'Sports', 'Book', 'Utilities', 'Utilities', 'Productivity', 'Weather', 'Games', 'Games', 'Games', 'Games', 'Games', 'Games', 'Games', 'Games', 'Education', 'Productivity', 'Entertainment', 'Entertainment', 'Utilities', 'Entertainment', 'Sports', 'Entertainment', 'Games', 'Games', 'Games', 'Entertainment', 'Utilities', 'Shopping', 'Entertainment', 'Games', 'Games', 'Games', 'Education', 'Business', 'Games', 'Games', 'Games', 'Business', 'Shopping', 'Games', 'Games', 'Games', 'Education', 'Games', 'Lifestyle', 'Games', 'Games', 'Utilities', 'Games', 'Education', 'Games', 'Games', 'Travel', 'Food & Drink', 'Utilities', 'Entertainment', 'Music', 'Business', 'News', 'Games', 'Health & Fitness', 'Games', 'Games', 'Utilities', 'Games', 'Games', 'Games', 'Productivity', 'Entertainment', 'Games', 'Games', 'Games', 'Games', 'Games', 'Business', 'Games', 'Games', 'Social Networking', 'Games', 'Games', 'Photo & Video', 'Games', 'Sports', 'Games', 'Education', 'Games', 'Games', 'Games', 'Games', 'Music', 'Games', 'Entertainment', 'Shopping', 'Lifestyle', 'Games', 'Entertainment', 'Entertainment', 'Education', 'Entertainment', 'Games', 'Entertainment', 'Games', 'Games', 'Education', 'Games', 'News', 'Games', 'Education', 'Games', 'Social Networking', 'Lifestyle', 'Games', 'Education', 'Entertainment', 'Games', 'Games', 'Weather', 'Productivity', 'Photo & Video', 'Games', 'Games', 'Music', 'Games', 'Health & Fitness', 'Games', 'Games', 'Games', 'Education', 'Games', 'Games', 'Social Networking', 'Games', 'Games', 'Education', 'Games', 'Games', 'Sports', 'Social Networking', 'Travel', 'Productivity', 'Games', 'Games', 'Photo & Video', 'Games', 'Navigation', 'Games', 'Games', 'Games', 'Utilities', 'News', 'Lifestyle', 'Productivity', 'Education', 'Entertainment', 'Games', 'Games', 'Photo & Video', 'Games', 'Entertainment', 'Utilities', 'Productivity', 'Health & Fitness', 'Travel', 'Education', 'Finance', 'Education', 'Games', 'Music', 'Sports', 'Utilities', 'Games', 'Games', 'Games', 'Games', 'Sports', 'Games', 'Games', 'Games', 'Photo & Video', 'Education', 'Navigation', 'Education', 'Lifestyle', 'Games', 'Games', 'Sports', 'Games', 'Photo & Video', 'Productivity', 'Sports', 'Games', 'Games', 'Book', 'Education', 'Education', 'Weather', 'Games', 'Games', 'Education', 'Lifestyle', 'Lifestyle', 'Sports', 'Education', 'Games', 'Games', 'Education', 'Games', 'Games', 'Games', 'Entertainment', 'Sports', 'Utilities', 'Travel', 'Games', 'Entertainment', 'Navigation', 'Education', 'Finance', 'Games', 'Games', 'Games', 'Entertainment', 'Games', 'Education', 'Games', 'Games', 'Games', 'Food & Drink', 'Food & Drink', 'Games', 'Education', 'Games', 'Games', 'Education', 'Photo & Video', 'Games', 'Games', 'Entertainment', 'Games', 'Games', 'Entertainment', 'Games', 'Food & Drink', 'Sports', 'Entertainment', 'Games', 'Games', 'Games', 'Medical', 'Games', 'News', 'Games', 'Entertainment', 'Entertainment', 'Utilities', 'Games', 'Utilities', 'Games', 'Education', 'Health & Fitness', 'Education', 'Education', 'News', 'Health & Fitness', 'Education', 'Games', 'Games', 'Music', 'Games', 'Education', 'Utilities', 'Food & Drink', 'Games', 'Entertainment', 'Utilities', 'Games', 'Games', 'Games', 'Games', 'Games', 'Games', 'Education', 'Education', 'Games', 'Games', 'Photo & Video', 'Education', 'Education', 'Games', 'Music', 'Games', 'Games', 'Games', 'Utilities', 'Games', 'Lifestyle', 'Games', 'Navigation', 'Games', 'Games', 'Navigation', 'Education', 'Games', 'Games', 'Games', 'Games', 'Games', 'Photo & Video', 'Games', 'News', 'Travel', 'Education', 'Games', 'Weather', 'Photo & Video', 'Lifestyle', 'Entertainment', 'Productivity', 'Weather', 'Education', 'Sports', 'Games', 'Utilities', 'Games', 'Education', 'Lifestyle', 'Games', 'Photo & Video', 'Games', 'Games', 'Games', 'Games', 'Games', 'Entertainment', 'Games', 'Games', 'Games', 'Games', 'Education', 'Medical', 'Shopping', 'Lifestyle', 'Shopping', 'Finance', 'Games', 'Entertainment', 'Games', 'Utilities', 'Games', 'Games', 'Games', 'Lifestyle', 'Games', 'Weather', 'Health & Fitness', 'News', 'Entertainment', 'Games', 'Education', 'Education', 'Sports', 'Education', 'Education', 'Games', 'Health & Fitness', 'Games', 'Games', 'Games', 'Games', 'Games', 'Food & Drink', 'Social Networking', 'Entertainment', 'Games', 'Games', 'Entertainment', 'Games', 'Travel', 'Games', 'Entertainment', 'Productivity', 'Entertainment', 'Games', 'Book', 'Games', 'Music', 'Games', 'Entertainment', 'Games', 'Photo & Video', 'Education', 'Games', 'Utilities', 'Photo & Video', 'Photo & Video', 'Education', 'Health & Fitness', 'Education', 'Games', 'Book', 'Entertainment', 'Games', 'Lifestyle', 'Health & Fitness', 'Education', 'Games', 'Games', 'Games', 'Games', 'Games', 'Productivity', 'Games', 'Lifestyle', 'Education', 'Games', 'Education', 'Games', 'Productivity', 'Games', 'Entertainment', 'Games', 'Games', 'Games', 'Food & Drink', 'Games', 'Games', 'Games', 'Games', 'Education', 'Education', 'Games', 'Games', 'Games', 'Games', 'Food & Drink', 'Games', 'Games', 'Lifestyle', 'Education', 'Health & Fitness', 'Utilities', 'Sports', 'Health & Fitness', 'Games', 'Games', 'Photo & Video', 'Games', 'Shopping', 'Games', 'Games', 'Games', 'Entertainment', 'Games', 'Productivity', 'Social Networking', 'Games', 'Games', 'Games', 'Entertainment', 'Entertainment', 'Utilities', 'Games', 'Games', 'Games', 'Entertainment', 'Entertainment', 'Games', 'Productivity', 'Games', 'Games', 'Games', 'Shopping', 'Games', 'Games', 'Games', 'Music', 'Education', 'Education', 'Photo & Video', 'Games', 'Education', 'Food & Drink', 'Games', 'Games', 'Education', 'Music', 'Finance', 'Games', 'Games', 'Games', 'Games', 'Finance', 'Music', 'Entertainment', 'Games', 'Games', 'Education', 'Games', 'Utilities', 'Games', 'Travel', 'Photo & Video', 'Entertainment', 'Games', 'Games', 'Book', 'Games', 'Games', 'Travel', 'Education', 'Games', 'Utilities', 'Games', 'Games', 'Entertainment', 'Education', 'Games', 'Games', 'Photo & Video', 'Book', 'Games', 'Book', 'Games', 'Book', 'Games', 'Education', 'Sports', 'News', 'Games', 'Social Networking', 'Games', 'Education', 'Productivity', 'Games', 'Sports', 'Games', 'Games', 'Photo & Video', 'Music', 'Education', 'Games', 'Education', 'Education', 'Games', 'Weather', 'Games', 'Games', 'Education', 'Education', 'Games', 'Reference', 'Utilities', 'Games', 'Education', 'Book', 'Utilities', 'Games', 'Photo & Video', 'Education', 'Sports', 'Finance', 'Games', 'Productivity', 'Games', 'Games', 'Games', 'Education', 'Games', 'Finance', 'Games', 'Entertainment', 'Games', 'Weather', 'Productivity', 'Games', 'Games', 'Photo & Video', 'Reference', 'Book', 'Education', 'Book', 'Utilities', 'Games', 'Games', 'Productivity', 'Productivity', 'Reference', 'News', 'Games', 'Games', 'Games', 'Education', 'Music', 'Education', 'Games', 'Utilities', 'Games', 'Sports', 'Entertainment', 'Games', 'Games', 'Education', 'Games', 'Education', 'Finance', 'Games', 'Games', 'Utilities', 'Education', 'Games', 'Games', 'Social Networking', 'Book', 'Music', 'Book', 'Games', 'Lifestyle', 'Photo & Video', 'Weather', 'Photo & Video', 'Games', 'Games', 'Finance', 'Games', 'Games', 'Games', 'Weather', 'Photo & Video', 'Sports', 'Games', 'Book', 'Education', 'Entertainment', 'Education', 'Games', 'Games', 'Finance', 'Social Networking', 'Games', 'Music', 'Photo & Video', 'Medical', 'Entertainment', 'Health & Fitness', 'Games', 'Education', 'Games', 'Games', 'Entertainment', 'Reference', 'Education', 'Education', 'Games', 'Social Networking', 'Finance', 'Shopping', 'Entertainment', 'Entertainment', 'Education', 'Utilities', 'News', 'Games', 'Games', 'Games', 'Games', 'Education', 'Games', 'Shopping', 'Weather', 'Games', 'Business', 'Games', 'Games', 'Business', 'Photo & Video', 'Games', 'Weather', 'Games', 'Productivity', 'Entertainment', 'Games', 'Education', 'Finance', 'Education', 'Games', 'Games', 'Games', 'Games', 'Games', 'Games', 'Games', 'Music', 'Food & Drink', 'Navigation', 'Games', 'Games', 'Games', 'Music', 'Entertainment', 'Lifestyle', 'Finance', 'Sports', 'Games', 'Games', 'Games', 'Book', 'Games', 'Games', 'Travel', 'Games', 'Games', 'Education', 'Entertainment', 'Weather', 'Navigation', 'Games', 'Productivity', 'Health & Fitness', 'Games', 'Book', 'Health & Fitness', 'Entertainment', 'Games', 'Games', 'Entertainment', 'Games', 'Entertainment', 'Weather', 'Lifestyle', 'Games', 'Games', 'Games', 'Games', 'Games', 'Education', 'Games', 'Games', 'Entertainment', 'Education', 'Education', 'Book', 'Lifestyle', 'Games', 'Education', 'Games', 'Games', 'Photo & Video', 'Entertainment', 'Games', 'Games', 'Photo & Video', 'Games', 'Finance', 'Productivity', 'Finance', 'Entertainment', 'Shopping', 'Utilities', 'Food & Drink', 'Games', 'Shopping', 'Games', 'Games', 'Health & Fitness', 'Entertainment', 'Games', 'Games', 'Book', 'Games', 'Games', 'Games', 'Games', 'Games', 'Music', 'Education', 'Shopping', 'Health & Fitness', 'Shopping', 'Entertainment', 'Games', 'Sports', 'Book', 'Entertainment', 'Utilities', 'Music', 'Finance', 'Games', 'Business', 'Games', 'Utilities', 'Photo & Video', 'Games', 'Finance', 'Utilities', 'Games', 'Games', 'Games', 'Reference', 'Games', 'Utilities', 'Productivity', 'Games', 'Games', 'Education', 'Education', 'Games', 'Photo & Video', 'Entertainment', 'Education', 'Education', 'Games', 'Productivity', 'Travel', 'Games', 'Games', 'Photo & Video', 'Games', 'Games', 'Games', 'Games', 'Games', 'Games', 'Games', 'Games', 'Education', 'Games', 'Book', 'Finance', 'Education', 'Education', 'Utilities', 'Health & Fitness', 'Games', 'Education', 'Social Networking', 'Utilities', 'Games', 'Games', 'Music', 'Business', 'Games', 'Games', 'Shopping', 'Games', 'Food & Drink', 'Education', 'Utilities', 'Education', 'Education', 'Games', 'Weather', 'Games', 'Education', 'Business', 'Lifestyle', 'Games', 'Entertainment', 'Health & Fitness', 'Health & Fitness', 'Lifestyle', 'Entertainment', 'Medical', 'Games', 'Shopping', 'Photo & Video', 'Health & Fitness', 'Games', 'Education', 'Education', 'Photo & Video', 'Games', 'Productivity', 'Education', 'Games', 'Games', 'Games', 'Games', 'Finance', 'Education', 'Education', 'Games', 'Games', 'Social Networking', 'Photo & Video', 'Reference', 'Games', 'Games', 'Lifestyle', 'Lifestyle', 'Games', 'Games', 'Education', 'Entertainment', 'Entertainment', 'Utilities', 'Games', 'Games', 'Games', 'Navigation', 'Entertainment', 'Games', 'Games', 'Games', 'Book', 'Games', 'Food & Drink', 'Games', 'Finance', 'Games', 'Games', 'Utilities', 'Lifestyle', 'Photo & Video', 'Games', 'Games', 'Education', 'Games', 'Reference', 'Games', 'Entertainment', 'Education', 'Games', 'Games', 'Photo & Video', 'Health & Fitness', 'Education', 'Finance', 'Entertainment', 'Lifestyle', 'Health & Fitness', 'Education', 'Lifestyle', 'Book', 'Games', 'Sports', 'Games', 'Shopping', 'Games', 'Games', 'Games', 'Games', 'Medical', 'Games', 'Games', 'Games', 'Games', 'Games', 'Games', 'Utilities', 'Games', 'Education', 'Games', 'Games', 'Games', 'Social Networking', 'Games', 'Photo & Video', 'Games', 'Games', 'Games', 'Games', 'Finance', 'Games', 'Games', 'Games', 'Games', 'Games', 'Education', 'Entertainment', 'Education', 'Games', 'Games', 'Entertainment', 'Games', 'Games', 'Games', 'Games', 'Utilities', 'Games', 'Games', 'Sports', 'Entertainment', 'Games', 'Games', 'Games', 'Games', 'Games', 'Games', 'Education', 'Games', 'Productivity', 'Food & Drink', 'Games', 'Games', 'Games', 'Education', 'Games', 'Games', 'Games', 'Games', 'Games', 'Games', 'Games', 'Photo & Video', 'Games', 'Games', 'Games', 'Photo & Video', 'Games', 'Games', 'Games', 'Education', 'Travel', 'Games', 'Games', 'Sports', 'Games', 'Games', 'Games', 'Utilities', 'Games', 'Travel', 'Sports', 'Games', 'Food & Drink', 'Photo & Video', 'Games', 'Social Networking', 'Photo & Video', 'Games', 'Games', 'Games', 'Book', 'Games', 'Book', 'Book', 'Food & Drink', 'Productivity', 'Games', 'Medical', 'Utilities', 'Games', 'Entertainment', 'Games', 'Photo & Video', 'Entertainment', 'Games', 'Photo & Video', 'Utilities', 'Games', 'Games', 'Games', 'Games', 'Education', 'Games', 'Games', 'Games', 'Games', 'Games', 'Games', 'Lifestyle', 'Games', 'Games', 'Games', 'Games', 'Education', 'Entertainment', 'Games', 'Games', 'Games', 'Entertainment', 'Games', 'Entertainment', 'Games', 'Games', 'Games', 'Games', 'Reference', 'Games', 'Games', 'Games', 'Photo & Video', 'Social Networking', 'Games', 'Games', 'Games', 'Games', 'Lifestyle', 'Finance', 'Games', 'Games', 'Games', 'Sports', 'Games', 'Entertainment', 'Entertainment', 'Games', 'Games', 'Book', 'Games', 'Games', 'Health & Fitness', 'Games', 'Games', 'Navigation', 'Games', 'Music', 'Book', 'Games', 'Games', 'Games', 'Entertainment', 'Games', 'Games', 'Productivity', 'Games', 'Education', 'Games', 'Games', 'Games', 'Games', 'Games', 'Social Networking', 'Games', 'Food & Drink', 'Games', 'Games', 'Utilities', 'Book', 'Games', 'Education', 'Book', 'Book', 'Navigation', 'Education', 'Food & Drink', 'Games', 'Utilities', 'Games', 'Finance', 'Games', 'Entertainment', 'Education', 'Games', 'Health & Fitness', 'Games', 'Sports', 'Games', 'Games', 'Games', 'Games', 'Games', 'Education', 'Games', 'Games', 'Games', 'Games', 'Games', 'Games', 'News', 'Games', 'Social Networking', 'Games', 'Games', 'Games', 'Education', 'Games', 'Utilities', 'Finance', 'Games', 'Games', 'Navigation', 'Health & Fitness', 'Photo & Video', 'Lifestyle', 'Games', 'Games', 'Finance', 'Games', 'Lifestyle', 'Travel', 'Games', 'Book', 'Entertainment', 'Games', 'Games', 'Social Networking', 'Productivity', 'Games', 'Games', 'News', 'Games', 'Games', 'Games', 'Health & Fitness', 'Games', 'Games', 'Entertainment', 'Finance', 'Games', 'Games', 'Photo & Video', 'Games', 'Book', 'Lifestyle', 'Entertainment', 'Games', 'Games', 'Utilities', 'Games', 'Utilities', 'Education', 'Games', 'Education', 'Education', 'Games', 'Games', 'Games', 'Education', 'Entertainment', 'Games', 'Games', 'Entertainment', 'Book', 'Games', 'Utilities', 'Games', 'Entertainment', 'Health & Fitness', 'Games', 'Finance', 'Finance', 'Games', 'Games', 'Finance', 'Education', 'Social Networking', 'Games', 'Games', 'Catalogs', 'Lifestyle', 'Social Networking', 'Games', 'Games', 'Reference', 'Social Networking', 'Games', 'Health & Fitness', 'Games', 'Games', 'Education', 'Health & Fitness', 'Games', 'Games', 'Photo & Video', 'Games', 'Entertainment', 'Weather', 'Games', 'Games', 'Photo & Video', 'Social Networking', 'Entertainment', 'Games', 'Games', 'Entertainment', 'Games', 'Finance', 'Games', 'Games', 'Games', 'Social Networking', 'Games', 'Games', 'Finance', 'Games', 'Food & Drink', 'Games', 'Lifestyle', 'Games', 'Book', 'Games', 'Games', 'Catalogs', 'Music', 'Games', 'Games', 'Entertainment', 'Games', 'Shopping', 'Games', 'Weather', 'News', 'Business', 'Games', 'Games', 'Games', 'Finance', 'Entertainment', 'Games', 'Games', 'Utilities', 'Entertainment', 'Games', 'Games', 'Lifestyle', 'Business', 'Lifestyle', 'Games', 'Weather', 'Book', 'Games', 'Games', 'Finance', 'Food & Drink', 'Games', 'Games', 'Games', 'Games', 'Games', 'Education', 'Lifestyle', 'Games', 'Navigation', 'Games', 'Games', 'Travel', 'Games', 'Games', 'Catalogs', 'Lifestyle', 'Games', 'Games', 'Games', 'Lifestyle', 'Games', 'Games', 'Social Networking', 'Education', 'News', 'Entertainment', 'Games', 'Social Networking', 'Games', 'Games', 'Games', 'Health & Fitness', 'Photo & Video', 'Games', 'Navigation', 'Lifestyle', 'Shopping', 'Utilities', 'Entertainment', 'Finance', 'Utilities', 'Games', 'Education', 'Games', 'Games', 'Games', 'Utilities', 'Finance', 'Sports', 'Games', 'Games', 'Games', 'Games', 'Games', 'Social Networking', 'Games', 'Games', 'Book', 'Games', 'Shopping', 'Social Networking', 'Medical', 'Games', 'Finance', 'Music', 'Games', 'Games', 'Games', 'Games', 'Entertainment', 'Finance', 'Games', 'Games', 'Games', 'Sports', 'Travel', 'Photo & Video', 'Health & Fitness', 'Games', 'Games', 'Entertainment', 'Games', 'Travel', 'Entertainment', 'Games', 'Productivity', 'Games', 'Games', 'Games', 'Games', 'Games', 'Games', 'Games', 'Games', 'Games', 'Shopping', 'Photo & Video', 'Games', 'Navigation', 'Games', 'Shopping', 'Shopping', 'Book', 'Games', 'Shopping', 'Games', 'Games', 'Photo & Video', 'Entertainment', 'Games', 'Games', 'Utilities', 'Games', 'Utilities', 'Social Networking', 'Lifestyle', 'Photo & Video', 'Games', 'Education', 'Education', 'Sports', 'Entertainment', 'Games', 'Games', 'Games', 'Utilities', 'Games', 'Games', 'Photo & Video', 'Social Networking', 'Utilities', 'Entertainment', 'Games', 'Games', 'Education', 'Games', 'Games', 'Games', 'Health & Fitness', 'Games', 'Games', 'Social Networking', 'Games', 'Book', 'Entertainment', 'Games', 'Games', 'Reference', 'Games', 'Games', 'Finance', 'Photo & Video', 'Games', 'Entertainment', 'Education', 'Lifestyle', 'Games', 'Games', 'Education', 'Education', 'Games', 'Games', 'Social Networking', 'Health & Fitness', 'Games', 'Photo & Video', 'Games', 'Shopping', 'Games', 'Games', 'Games', 'Games', 'Entertainment', 'Travel', 'Health & Fitness', 'Games', 'Reference', 'Games', 'Games', 'Entertainment', 'Navigation', 'Education', 'Lifestyle', 'Finance', 'Book', 'Entertainment', 'Education', 'Games', 'Social Networking', 'Games', 'Games', 'Games', 'Lifestyle', 'Games', 'Utilities', 'Weather', 'Health & Fitness', 'Book', 'Games', 'Games', 'Business', 'Education', 'Games', 'Games', 'Lifestyle', 'News', 'Games', 'Weather', 'Games', 'Games', 'Travel', 'Games', 'Games', 'Games', 'Education', 'Games', 'Navigation', 'Social Networking', 'Entertainment', 'Games', 'Games', 'Education', 'Games', 'Games', 'Catalogs', 'Games', 'Games', 'Lifestyle', 'Book', 'Book', 'Book', 'Games', 'Education', 'Games', 'Education', 'Reference', 'Games', 'Games', 'Games', 'Games', 'Games', 'Games', 'Utilities', 'Utilities', 'Lifestyle', 'Games', 'News', 'Education', 'Health & Fitness', 'Games', 'Health & Fitness', 'Games', 'Games', 'Education', 'Entertainment', 'Book', 'Games', 'Photo & Video', 'Education', 'Games', 'Games', 'Lifestyle', 'Games', 'Navigation', 'Entertainment', 'Games', 'Photo & Video', 'Games', 'Education', 'Games', 'Entertainment', 'Book', 'Food & Drink', 'Book', 'Games', 'Education', 'Education', 'Games', 'Games', 'Photo & Video', 'Games', 'Games', 'Games', 'Games', 'Entertainment', 'Lifestyle', 'Photo & Video', 'Games', 'Games', 'Reference', 'Games', 'Games', 'Games', 'Food & Drink', 'Games', 'Games', 'Games', 'Finance', 'Book', 'Games', 'Games', 'Games', 'Finance', 'Book', 'Finance', 'Book', 'Games', 'Productivity', 'Entertainment', 'Games', 'Games', 'Social Networking', 'Games', 'Games', 'News', 'Education', 'Lifestyle', 'Entertainment', 'Finance', 'Photo & Video', 'Utilities', 'Games', 'Games', 'Games', 'Finance', 'Social Networking', 'Games', 'Book', 'Navigation', 'Games', 'Games', 'Games', 'Travel', 'Games', 'Games', 'Games', 'Photo & Video', 'Games', 'Entertainment', 'Education', 'Games', 'Shopping', 'Productivity', 'Navigation', 'Games', 'Food & Drink', 'Book', 'Games', 'Entertainment', 'Games', 'Games', 'Entertainment', 'Games', 'Games', 'Games', 'Sports', 'Finance', 'Reference', 'Games', 'Social Networking', 'Entertainment', 'Health & Fitness', 'Games', 'Games', 'Games', 'Games', 'Entertainment', 'Photo & Video', 'Book', 'Shopping', 'Education', 'Games', 'Games', 'Games', 'Games', 'Games', 'Games', 'Games', 'Entertainment', 'Finance', 'Games', 'Health & Fitness', 'Reference', 'Education', 'Navigation', 'Utilities', 'Games', 'Games', 'Games', 'Games', 'Games', 'Games', 'Education', 'Entertainment', 'Games', 'Shopping', 'Entertainment', 'Games', 'Social Networking', 'Games', 'Games', 'Social Networking', 'Utilities', 'Games', 'Games', 'Games', 'Utilities', 'Music', 'Games', 'Book', 'Games', 'Games', 'Book', 'Games', 'Book', 'Games', 'Health & Fitness', 'Games', 'Games', 'Games', 'Games', 'Book', 'Finance', 'Games', 'Games', 'Games', 'Games', 'Entertainment', 'Social Networking', 'Book', 'Lifestyle', 'Catalogs', 'Finance', 'Lifestyle', 'Games', 'Education', 'Social Networking', 'Sports', 'Games', 'Games', 'Travel', 'Games', 'Games', 'News', 'Entertainment', 'Utilities', 'Games', 'Games', 'Health & Fitness', 'Games', 'Sports', 'Utilities', 'Book', 'News', 'Games', 'Games', 'Book', 'Sports', 'Games', 'Education', 'Sports', 'Entertainment', 'Games', 'Games', 'Games', 'Education', 'Games', 'Education', 'Travel', 'Utilities', 'Games', 'Games', 'Games', 'Photo & Video', 'Games', 'Education', 'Games', 'Games', 'Games', 'Finance', 'Book', 'Utilities', 'Entertainment', 'Games', 'Entertainment', 'Education', 'Education', 'Book', 'Education', 'Food & Drink', 'Games', 'Games', 'Games', 'Education', 'Games', 'Games', 'Games', 'Games', 'Games', 'Health & Fitness', 'Games', 'News', 'Food & Drink', 'Education', 'Shopping', 'Games', 'Games', 'Book', 'Finance', 'Games', 'Lifestyle', 'Shopping', 'Navigation', 'Utilities', 'Games', 'Games', 'Games', 'Education', 'Education', 'Games', 'Games', 'Games', 'Entertainment', 'Games', 'Entertainment', 'Medical', 'Shopping', 'Social Networking', 'Games', 'Health & Fitness', 'Games', 'News', 'Games', 'Games', 'Games', 'Games', 'Entertainment', 'Entertainment', 'Games', 'Sports', 'Entertainment', 'Weather', 'Education', 'Lifestyle', 'Education', 'Productivity', 'Entertainment', 'Reference', 'Games', 'Entertainment', 'Games', 'Games', 'Navigation', 'Medical', 'Games', 'Games', 'Entertainment', 'Games', 'Games', 'Book', 'Education', 'Finance', 'Games', 'Book', 'Games', 'Lifestyle', 'Utilities', 'Games', 'Games', 'Music', 'Games', 'Entertainment', 'Games', 'Photo & Video', 'Book', 'Business', 'Education', 'Photo & Video', 'Games', 'Health & Fitness', 'Food & Drink', 'Games', 'Games', 'Games', 'Entertainment', 'Games', 'News', 'Book', 'Games', 'Food & Drink', 'Games', 'Education', 'News', 'Book', 'Games', 'Photo & Video', 'Education', 'Games', 'Games', 'Games', 'Games', 'Games', 'Games', 'Entertainment', 'Entertainment', 'Games', 'Games', 'Games', 'Utilities', 'Games', 'Entertainment', 'Finance', 'Education', 'Entertainment', 'Games', 'Games', 'Games', 'Games', 'Games', 'Games', 'Games', 'Games', 'Games', 'Games', 'Reference', 'Games', 'Games', 'Games', 'Games', 'Social Networking', 'Book', 'Education', 'Games', 'Games', 'Games', 'News', 'Sports', 'Education', 'Games', 'Games', 'Social Networking', 'Entertainment', 'Games', 'Games', 'Lifestyle', 'Navigation', 'Games', 'Education', 'Social Networking', 'Reference', 'Games', 'Games', 'Games', 'Games', 'Games', 'Games', 'Games', 'Education', 'Sports', 'Games', 'Education', 'Games', 'Games', 'Games', 'Social Networking', 'Games', 'Games', 'Games', 'Entertainment', 'Utilities', 'Finance', 'Games', 'Social Networking', 'Productivity', 'Games', 'Games', 'Games', 'Games', 'Games', 'Education', 'Games', 'Games', 'Games', 'Book', 'Games', 'Games', 'Social Networking', 'Book', 'Games', 'Utilities', 'Games', 'Games', 'Games', 'Games', 'Entertainment', 'Book', 'Games', 'Games', 'Education', 'Games', 'Education', 'Games', 'Lifestyle', 'Book', 'Games', 'Travel', 'Sports', 'Education', 'Games', 'Book', 'Lifestyle', 'Games', 'Games', 'Shopping', 'Lifestyle', 'Games', 'Games', 'Book', 'Games', 'Reference', 'Navigation', 'Book', 'Games', 'Games', 'News', 'Lifestyle', 'Games', 'Games', 'Games', 'Shopping', 'Social Networking', 'Photo & Video', 'Games', 'Finance', 'Games', 'Finance', 'Games', 'Social Networking', 'Book', 'Games', 'Education', 'Games', 'Games', 'Book', 'Games', 'Entertainment', 'Food & Drink']\n"
     ]
    }
   ],
   "source": [
    "from csv import reader\n",
    "opened_file = open('AppleStore.csv', encoding=\"utf8\")\n",
    "read_file = reader(opened_file)\n",
    "apps_data = list(read_file)\n",
    "\n",
    "def extract(index_number):\n",
    "    extracted = []\n",
    "    for row in apps_data[1:]:\n",
    "        extracts = row[index_number]\n",
    "        extracted.append(extracts)\n",
    "    return extracted\n",
    "\n",
    "genres = extract(11)\n",
    "print(genres)"
   ]
  },
  {
   "cell_type": "markdown",
   "metadata": {},
   "source": [
    "Write a function to create a frequency table from a list created above"
   ]
  },
  {
   "cell_type": "code",
   "execution_count": 18,
   "metadata": {},
   "outputs": [
    {
     "name": "stdout",
     "output_type": "stream",
     "text": [
      "{'Social Networking': 167, 'Photo & Video': 349, 'Games': 3862, 'Music': 138, 'Reference': 64, 'Health & Fitness': 180, 'Weather': 72, 'Utilities': 248, 'Travel': 81, 'Shopping': 122, 'News': 75, 'Navigation': 46, 'Lifestyle': 144, 'Entertainment': 535, 'Food & Drink': 63, 'Sports': 114, 'Book': 112, 'Finance': 104, 'Education': 453, 'Productivity': 178, 'Business': 57, 'Catalogs': 10, 'Medical': 23}\n"
     ]
    }
   ],
   "source": [
    "def freq_table(data):\n",
    "    freq = {}\n",
    "    for i in data:\n",
    "        if i in freq:\n",
    "            freq[i] += 1\n",
    "        else:\n",
    "            freq[i] = 1\n",
    "    return freq\n",
    "\n",
    "print(freq_table(genres))"
   ]
  },
  {
   "cell_type": "markdown",
   "metadata": {},
   "source": [
    "This function will create a frequency table from just the index number"
   ]
  },
  {
   "cell_type": "code",
   "execution_count": 31,
   "metadata": {},
   "outputs": [
    {
     "name": "stdout",
     "output_type": "stream",
     "text": [
      "{'Social Networking': 167, 'Photo & Video': 349, 'Games': 3862, 'Music': 138, 'Reference': 64, 'Health & Fitness': 180, 'Weather': 72, 'Utilities': 248, 'Travel': 81, 'Shopping': 122, 'News': 75, 'Navigation': 46, 'Lifestyle': 144, 'Entertainment': 535, 'Food & Drink': 63, 'Sports': 114, 'Book': 112, 'Finance': 104, 'Education': 453, 'Productivity': 178, 'Business': 57, 'Catalogs': 10, 'Medical': 23}\n"
     ]
    }
   ],
   "source": [
    "def freq_tables(index_number):\n",
    "    extracted = []\n",
    "    for row in apps_data[1:]:\n",
    "        extracts = row[index_number]\n",
    "        extracted.append(extracts)\n",
    "    freq = {}\n",
    "    for i in extracted:\n",
    "        if i in freq:\n",
    "            freq[i] += 1\n",
    "        else:\n",
    "            freq[i] = 1\n",
    "    return freq\n",
    "\n",
    "print(freq_tables(11))"
   ]
  },
  {
   "cell_type": "code",
   "execution_count": 47,
   "metadata": {},
   "outputs": [
    {
     "name": "stdout",
     "output_type": "stream",
     "text": [
      "{'Social Networking': 167, 'Photo & Video': 349, 'Games': 3862, 'Music': 138, 'Reference': 64, 'Health & Fitness': 180, 'Weather': 72, 'Utilities': 248, 'Travel': 81, 'Shopping': 122, 'News': 75, 'Navigation': 46, 'Lifestyle': 144, 'Entertainment': 535, 'Food & Drink': 63, 'Sports': 114, 'Book': 112, 'Finance': 104, 'Education': 453, 'Productivity': 178, 'Business': 57, 'Catalogs': 10, 'Medical': 23}\n"
     ]
    }
   ],
   "source": [
    "def freq_tabled(index_number):\n",
    "    freq = {}\n",
    "    for row in apps_data[1:]:\n",
    "        extracted = row[index_number]\n",
    "        if extracted in freq:\n",
    "            freq[extracted] += 1\n",
    "        else:\n",
    "            freq[extracted] = 1\n",
    "    return freq\n",
    "\n",
    "print(freq_tabled(11))"
   ]
  },
  {
   "cell_type": "markdown",
   "metadata": {},
   "source": [
    "This function will create a frequency table taking in two parameters, firstly the table name and then the index number"
   ]
  },
  {
   "cell_type": "code",
   "execution_count": 48,
   "metadata": {},
   "outputs": [
    {
     "name": "stdout",
     "output_type": "stream",
     "text": [
      "{'Social Networking': 167, 'Photo & Video': 349, 'Games': 3862, 'Music': 138, 'Reference': 64, 'Health & Fitness': 180, 'Weather': 72, 'Utilities': 248, 'Travel': 81, 'Shopping': 122, 'News': 75, 'Navigation': 46, 'Lifestyle': 144, 'Entertainment': 535, 'Food & Drink': 63, 'Sports': 114, 'Book': 112, 'Finance': 104, 'Education': 453, 'Productivity': 178, 'Business': 57, 'Catalogs': 10, 'Medical': 23}\n"
     ]
    }
   ],
   "source": [
    "def freq_tables(table, index_number):\n",
    "    freq = {}\n",
    "    for row in table[1:]:\n",
    "        extracted = row[index_number]\n",
    "        if extracted in freq:\n",
    "            freq[extracted] += 1\n",
    "        else:\n",
    "            freq[extracted] = 1\n",
    "    return freq\n",
    "\n",
    "print(freq_tables(apps_data, 11))"
   ]
  },
  {
   "cell_type": "markdown",
   "metadata": {},
   "source": [
    "1. Use the freq_table() function to generate frequency tables for the cont_rating, user_rating, and prime_genre columns.\n",
    "<br/>\n",
    "<br/>\n",
    "    - Use positional arguments when you generate the table for the cont_rating column (index number 10). Assign the table to a variable named content_ratings_ft.\n",
    "<br/>\n",
    "<br>\n",
    "    - Use keyword arguments for the user_rating column (index number 7) following the order (data_set, index). Assign the table to a variable named ratings_ft.\n",
    "<br/>\n",
    "<br/>\n",
    "    - Use keyword arguments for the prime_genre column (index number 11) following the order (index, data_set). Assign the table to a variable named genres_ft."
   ]
  },
  {
   "cell_type": "code",
   "execution_count": 49,
   "metadata": {},
   "outputs": [
    {
     "name": "stdout",
     "output_type": "stream",
     "text": [
      "{'4+': 4433, '12+': 1155, '9+': 987, '17+': 622}\n",
      "{'3.5': 702, '4.5': 2663, '4.0': 1626, '3.0': 383, '5.0': 492, '2.5': 196, '2.0': 106, '1.5': 56, '1.0': 44, '0.0': 929}\n",
      "{'Social Networking': 167, 'Photo & Video': 349, 'Games': 3862, 'Music': 138, 'Reference': 64, 'Health & Fitness': 180, 'Weather': 72, 'Utilities': 248, 'Travel': 81, 'Shopping': 122, 'News': 75, 'Navigation': 46, 'Lifestyle': 144, 'Entertainment': 535, 'Food & Drink': 63, 'Sports': 114, 'Book': 112, 'Finance': 104, 'Education': 453, 'Productivity': 178, 'Business': 57, 'Catalogs': 10, 'Medical': 23}\n"
     ]
    }
   ],
   "source": [
    "def freq_table(data_set, index):\n",
    "    frequency_table = {}\n",
    "    \n",
    "    for row in data_set[1:]:\n",
    "        value = row[index]\n",
    "        if value in frequency_table:\n",
    "            frequency_table[value] += 1\n",
    "        else:\n",
    "            frequency_table[value] = 1\n",
    "        \n",
    "    return frequency_table\n",
    "\n",
    "content_ratings_ft = freq_table(apps_data, 10)\n",
    "print(content_ratings_ft)\n",
    "\n",
    "ratings_ft = freq_table(apps_data, 7)\n",
    "print(ratings_ft)\n",
    "\n",
    "genres_ft = freq_table(apps_data, 11)\n",
    "print(genres_ft)"
   ]
  },
  {
   "cell_type": "code",
   "execution_count": 53,
   "metadata": {},
   "outputs": [
    {
     "name": "stdout",
     "output_type": "stream",
     "text": [
      "$ 1.73\n"
     ]
    }
   ],
   "source": [
    "def extract(data_set, index):\n",
    "    column = []    \n",
    "    for row in data_set[1:]:\n",
    "        value = row[index]\n",
    "        column.append(value)    \n",
    "    return column\n",
    "\n",
    "def find_sum(a_list):\n",
    "    a_sum = 0\n",
    "    for element in a_list:\n",
    "        a_sum += float(element)\n",
    "    return a_sum\n",
    "\n",
    "def find_length(a_list):\n",
    "    length = 0\n",
    "    for element in a_list:\n",
    "        length += 1\n",
    "    return length\n",
    "\n",
    "def mean(data_set, index):\n",
    "    col = extract(data_set, index)\n",
    "    return find_sum(col) / find_length(col)\n",
    "\n",
    "avg_price = round(mean(apps_data, 4), 2)\n",
    "print('$',avg_price)"
   ]
  },
  {
   "cell_type": "code",
   "execution_count": null,
   "metadata": {},
   "outputs": [],
   "source": []
  }
 ],
 "metadata": {
  "kernelspec": {
   "display_name": "Python 3.9.12 ('base')",
   "language": "python",
   "name": "python3"
  },
  "language_info": {
   "codemirror_mode": {
    "name": "ipython",
    "version": 3
   },
   "file_extension": ".py",
   "mimetype": "text/x-python",
   "name": "python",
   "nbconvert_exporter": "python",
   "pygments_lexer": "ipython3",
   "version": "3.9.12"
  },
  "orig_nbformat": 4,
  "vscode": {
   "interpreter": {
    "hash": "25f3487451846e861a280f856ffdd5c623fcab8a2610d2814eeeaeba8b3c73c9"
   }
  }
 },
 "nbformat": 4,
 "nbformat_minor": 2
}
