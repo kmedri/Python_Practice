{
 "cells": [
  {
   "cell_type": "markdown",
   "metadata": {},
   "source": [
    "```\n",
    "answer1 = 'Only A is printed'\n",
    "answer2 = 'Only D is not printed'\n",
    "answer3 = 'Only B and C are printed'\n",
    "```\n",
    "\n",
    "\n",
    "The only condition that is true is True and True so only A gets printed.\n",
    "\n",
    "correct = answer1"
   ]
  },
  {
   "cell_type": "code",
   "execution_count": 3,
   "metadata": {},
   "outputs": [
    {
     "name": "stdout",
     "output_type": "stream",
     "text": [
      "A\n"
     ]
    }
   ],
   "source": [
    "if True and True:\n",
    "    print('A')\n",
    "if True and False:\n",
    "    print('B')\n",
    "if False and True:\n",
    "    print('C')\n",
    "if False and False:\n",
    "    print('D')"
   ]
  },
  {
   "cell_type": "markdown",
   "metadata": {},
   "source": [
    "```\n",
    "answer1 = 'Only A is printed'\n",
    "answer2 = 'Only D is not printed'\n",
    "answer3 = 'Only B and C are printed'\n",
    "```\n",
    "\n",
    "The only condition that is not true is False or False so only D is not printed.  \n",
    "\n",
    "correct = answer2"
   ]
  },
  {
   "cell_type": "code",
   "execution_count": 2,
   "metadata": {},
   "outputs": [
    {
     "name": "stdout",
     "output_type": "stream",
     "text": [
      "A\n",
      "B\n",
      "C\n"
     ]
    }
   ],
   "source": [
    "if True or True:\n",
    "    print('A')\n",
    "if True or False:\n",
    "    print('B')\n",
    "if False or True:\n",
    "    print('C')\n",
    "if False or False:\n",
    "    print('D')"
   ]
  },
  {
   "cell_type": "markdown",
   "metadata": {},
   "source": [
    "```\n",
    "answer1 = 'Nothing is printed.'\n",
    "answer2 = 'Only A is printed.'\n",
    "answer3 = 'Only B is printed.'\n",
    "answer4 = 'Both A and B are printed.'\n",
    "```\n",
    "\n",
    "\n",
    "False or True and False = False or (True and False) = False or False = False  \n",
    "So A is not printed.  \n",
    "True or True and False = True or (True and False) = True or False = True  \n",
    "So B is printed.\n",
    "\n",
    "correct = answer3"
   ]
  },
  {
   "cell_type": "code",
   "execution_count": 1,
   "metadata": {},
   "outputs": [
    {
     "name": "stdout",
     "output_type": "stream",
     "text": [
      "B\n"
     ]
    }
   ],
   "source": [
    "if False or True and False:\n",
    "    print('A')\n",
    "if True or False and False:\n",
    "    print('B')"
   ]
  },
  {
   "cell_type": "code",
   "execution_count": null,
   "metadata": {},
   "outputs": [],
   "source": []
  }
 ],
 "metadata": {
  "kernelspec": {
   "display_name": "Python 3.9.12 ('base')",
   "language": "python",
   "name": "python3"
  },
  "language_info": {
   "codemirror_mode": {
    "name": "ipython",
    "version": 3
   },
   "file_extension": ".py",
   "mimetype": "text/x-python",
   "name": "python",
   "nbconvert_exporter": "python",
   "pygments_lexer": "ipython3",
   "version": "3.9.12"
  },
  "orig_nbformat": 4,
  "vscode": {
   "interpreter": {
    "hash": "25f3487451846e861a280f856ffdd5c623fcab8a2610d2814eeeaeba8b3c73c9"
   }
  }
 },
 "nbformat": 4,
 "nbformat_minor": 2
}
