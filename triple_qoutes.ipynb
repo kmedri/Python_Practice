{
 "cells": [
  {
   "cell_type": "markdown",
   "metadata": {},
   "source": [
    "### The list lines contains the sentences of a poem. Your task is to print them to the screen.\n",
    "\n",
    "### Instructions\n",
    "\n",
    "### Print all sentences contained in the lines list, one per line.\n",
    "Triple apostrophes will escape to the next line on enter. It aslo allows for the use of both single and double qoutes in the text"
   ]
  },
  {
   "cell_type": "code",
   "execution_count": 1,
   "metadata": {},
   "outputs": [
    {
     "name": "stdout",
     "output_type": "stream",
     "text": [
      "\n",
      "My candle burns at both ends;\n",
      "It will not last the night;\n",
      "But ah, my foes, and oh, my friends —\n",
      "It gives a lovely light.\n",
      "\n"
     ]
    }
   ],
   "source": [
    "lines = [\"My candle burns at both ends;\",\n",
    "\"It will not last the night;\", \n",
    "\"But ah, my foes, and oh, my friends —\",\n",
    "\"It gives a lovely light.\"]\n",
    "\n",
    "# Write your answer below\n",
    "\n",
    "lines = '''\n",
    "My candle burns at both ends;\n",
    "It will not last the night;\n",
    "But ah, my foes, and oh, my friends —\n",
    "It gives a lovely light.\n",
    "'''\n",
    "\n",
    "print(lines)"
   ]
  },
  {
   "cell_type": "code",
   "execution_count": null,
   "metadata": {},
   "outputs": [],
   "source": []
  }
 ],
 "metadata": {
  "kernelspec": {
   "display_name": "Python 3.9.12 ('base')",
   "language": "python",
   "name": "python3"
  },
  "language_info": {
   "codemirror_mode": {
    "name": "ipython",
    "version": 3
   },
   "file_extension": ".py",
   "mimetype": "text/x-python",
   "name": "python",
   "nbconvert_exporter": "python",
   "pygments_lexer": "ipython3",
   "version": "3.9.12"
  },
  "orig_nbformat": 4,
  "vscode": {
   "interpreter": {
    "hash": "25f3487451846e861a280f856ffdd5c623fcab8a2610d2814eeeaeba8b3c73c9"
   }
  }
 },
 "nbformat": 4,
 "nbformat_minor": 2
}
