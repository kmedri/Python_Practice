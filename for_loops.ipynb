{
 "cells": [
  {
   "cell_type": "markdown",
   "metadata": {},
   "source": [
    "## Understanding For Loops"
   ]
  },
  {
   "cell_type": "markdown",
   "metadata": {},
   "source": [
    "Define a variable answer_x and assign to it the value that x will have after executing the above code.\n",
    "Define a variable answer_total and assign to it the value that total will have after executing the above code."
   ]
  },
  {
   "cell_type": "code",
   "execution_count": 2,
   "metadata": {},
   "outputs": [
    {
     "name": "stdout",
     "output_type": "stream",
     "text": [
      "1\n",
      "11\n"
     ]
    }
   ],
   "source": [
    "values = [3, 5, 2, 1]\n",
    "\n",
    "total = 0\n",
    "for x in values:\n",
    "    total += x\n",
    "    \n",
    "print(x)\n",
    "print(total)\n",
    "\n",
    "\"\"\"\n",
    "After the for loop, x will have the last value that it had\n",
    "in during the loop. In this case, it is the last element of values: 1.\n",
    "\n",
    "Total starts at 0 and gets every element of values added to it. So\n",
    "it ends up equal to 3 + 5 + 2 + 1 = 11.\n",
    "\"\"\"\n",
    "answer_x = 1\n",
    "answer_total = 11"
   ]
  },
  {
   "cell_type": "code",
   "execution_count": 3,
   "metadata": {},
   "outputs": [
    {
     "name": "stdout",
     "output_type": "stream",
     "text": [
      "0\n"
     ]
    }
   ],
   "source": [
    "values = [3, 5, 2, 1]\n",
    "\n",
    "for x in values:\n",
    "    x = 0\n",
    "    \n",
    "print(x)\n",
    "\n",
    "answer = 0"
   ]
  },
  {
   "cell_type": "markdown",
   "metadata": {},
   "source": [
    "Define a variable answer_x and assign to it the value that x will have after executing the above code.\n",
    "Define a variable answer_total and assign to it the value that total will have after executing the above code."
   ]
  },
  {
   "cell_type": "code",
   "execution_count": 4,
   "metadata": {},
   "outputs": [
    {
     "name": "stdout",
     "output_type": "stream",
     "text": [
      "1\n",
      "1\n"
     ]
    }
   ],
   "source": [
    "values = [3, 5, 2, 1]\n",
    "\n",
    "total = 0\n",
    "for x in values:\n",
    "    total = x\n",
    "    \n",
    "print(x)\n",
    "print(total)\n",
    "\n",
    "\"\"\"\n",
    "After the for loop, x will have the last value that it had\n",
    "in during the loop. In this case, it is the last element of values: 1.\n",
    "\n",
    "Total starts at 0 and at every iteration we make it equal to x. \n",
    "So it ends up with the same value as x does: 1.\n",
    "\"\"\"\n",
    "answer_x = 1\n",
    "answer_total = 1\n"
   ]
  },
  {
   "cell_type": "markdown",
   "metadata": {},
   "source": [
    "How many values will be printed if we execute the following code:"
   ]
  },
  {
   "cell_type": "code",
   "execution_count": 6,
   "metadata": {},
   "outputs": [
    {
     "name": "stdout",
     "output_type": "stream",
     "text": [
      "0\n",
      "1\n",
      "2\n",
      "3\n",
      "4\n",
      "5\n",
      "6\n",
      "7\n",
      "8\n",
      "9\n"
     ]
    }
   ],
   "source": [
    "for i in range(10):\n",
    "    print(i)\n",
    "    i = 11\n",
    "    \n",
    "answer = 10"
   ]
  },
  {
   "cell_type": "markdown",
   "metadata": {},
   "source": [
    "What will be the value of values_copy after we execute the following code:"
   ]
  },
  {
   "cell_type": "code",
   "execution_count": null,
   "metadata": {},
   "outputs": [],
   "source": [
    "values = [5, 4, 7, 8, 9, 3]\n",
    "\n",
    "values_copy = []\n",
    "for v in values:\n",
    "    values_copy.append(v)\n",
    "    \n",
    "print(values_copy)\n",
    "\n",
    "answer = [5, 4, 7, 8, 9, 3]"
   ]
  },
  {
   "cell_type": "markdown",
   "metadata": {},
   "source": [
    "Given a list of integer values, write some code to increase each one of them by one.\n",
    "\n",
    "Example:\n",
    "\n",
    "**Before**\n",
    "values = [1, 8, 6, 4]\n",
    "\n",
    "**After**\n",
    "values = [2, 9, 7, 5]\n",
    "\n",
    "Instructions\n",
    "\n",
    "Increase by one each value contained in the **values** list."
   ]
  },
  {
   "cell_type": "code",
   "execution_count": 1,
   "metadata": {},
   "outputs": [
    {
     "name": "stdout",
     "output_type": "stream",
     "text": [
      "[17, 2, 8, 3, 20, 13, 6, 21, 3, 11, 11, 15, 18, 15, 2, 17, 20, 8, 10, 20]\n"
     ]
    }
   ],
   "source": [
    "values = [16, 1, 7, 2, 19, 12, 5, 20, 2, 10, 10, 14, 17, 14, 1, 16, 19, 7, 9, 19]\n",
    "\n",
    "# Write your answer below\n",
    "new_values = []\n",
    "for i in values:\n",
    "    new_values.append(i + 1)\n",
    "    \n",
    "values = new_values\n",
    "    \n",
    "print(values)"
   ]
  },
  {
   "cell_type": "markdown",
   "metadata": {},
   "source": [
    "In mathematics, an n by m matrix is a table of numbers with n rows and m columns.\n",
    "\n",
    "Here is an example of a 3 by 4 matrix:\n",
    "\n",
    "matrix\n",
    "In Python, we can represent a matrix using a list of lists of numbers. For example, the above matrix could be represented by:\n",
    "\n",
    "3, 0]\n",
    "matrix = [\n",
    "    [0, 9, 5, 4],\n",
    "    [8, 2, 3, 0],\n",
    "    [1, 5, 3, 2]\n",
    "]\n",
    "\n",
    "Copy\n",
    "Instructions\n",
    "\n",
    "Write a Python program that creates a list of lists named matrix_of_ones that represents a 7 by 3 matrix where each number is equal to 1."
   ]
  },
  {
   "cell_type": "code",
   "execution_count": 7,
   "metadata": {},
   "outputs": [
    {
     "name": "stdout",
     "output_type": "stream",
     "text": [
      "[[1, 1, 1], [1, 1, 1], [1, 1, 1], [1, 1, 1], [1, 1, 1], [1, 1, 1], [1, 1, 1]]\n"
     ]
    }
   ],
   "source": [
    "matrix_of_ones = []\n",
    "\n",
    "for _ in range(7):\n",
    "    matrix_of_ones.append([1, 1, 1])\n",
    "    \n",
    "print(matrix_of_ones)"
   ]
  },
  {
   "cell_type": "markdown",
   "metadata": {},
   "source": [
    "In mathematics, a n by m matrix is a table of numbers with n rows and m columns.\n",
    "\n",
    "Here is an example of a 3 by 4 matrix:\n",
    "\n",
    "![](matrix1.svg)\n",
    "\n",
    "matrix\n",
    "In Python, we can represent a matrix using a list of lists of numbers. For example, the above matrix could be represented by:\n",
    "\n",
    "3, 0]\n",
    "matrix = [\n",
    "    [0, 9, 5, 4],\n",
    "    [8, 2, 3, 0],\n",
    "    [1, 5, 3, 2]\n",
    "]\n",
    "\n",
    "Instructions\n",
    "\n",
    "Write a Python program that calculates the number of rows and columns of the matrix stored in variable matrix.\n",
    "Assign the number of rows to a variable named num_rows and the number of columns to a variable named num_cols."
   ]
  },
  {
   "cell_type": "markdown",
   "metadata": {},
   "source": [
    "Just like we do with lists, we can access string characters by using indexes.\n",
    "\n",
    "For example:\n",
    "```\n",
    "s = 'data'\n",
    "print(s[0])\n",
    "print(s[1])\n",
    "print(s[2])\n",
    "print(s[3])\n",
    "```\n",
    "d\n",
    "a\n",
    "t\n",
    "a\n",
    "\n",
    "We can also iterate over the characters of a string using a for loop:\n",
    "```\n",
    "for c in 'data':\n",
    "    print(c)\n",
    "```\n",
    "d\n",
    "a\n",
    "t\n",
    "a\n",
    "\n",
    "In this practice problem, we give you a string, and you have to print all of its characters on separate lines.\n",
    "\n",
    "Instructions\n",
    "\n",
    "Print all characters of sentence, one character per line."
   ]
  },
  {
   "cell_type": "code",
   "execution_count": 8,
   "metadata": {},
   "outputs": [
    {
     "name": "stdout",
     "output_type": "stream",
     "text": [
      "I\n",
      "'\n",
      "m\n",
      " \n",
      "p\n",
      "r\n",
      "a\n",
      "c\n",
      "t\n",
      "i\n",
      "c\n",
      "i\n",
      "n\n",
      "g\n",
      " \n",
      "p\n",
      "r\n",
      "i\n",
      "n\n",
      "t\n",
      "i\n",
      "n\n",
      "g\n",
      " \n",
      "s\n",
      "t\n",
      "r\n",
      "i\n",
      "n\n",
      "g\n",
      " \n",
      "c\n",
      "h\n",
      "a\n",
      "r\n",
      "a\n",
      "c\n",
      "t\n",
      "e\n",
      "r\n",
      "s\n",
      "!\n"
     ]
    }
   ],
   "source": [
    "sentence = 'I\\'m practicing printing string characters!'\n",
    "\n",
    "for i in sentence:\n",
    "    print(i)"
   ]
  },
  {
   "cell_type": "code",
   "execution_count": 16,
   "metadata": {},
   "outputs": [
    {
     "name": "stdout",
     "output_type": "stream",
     "text": [
      "4.3\n",
      "Current: 12122569, Peak 12989492\n",
      "<tracemalloc.Snapshot object at 0x0000027380E86A60>\n"
     ]
    }
   ],
   "source": [
    "import tracemalloc\n",
    "tracemalloc.start()\n",
    "\n",
    "row_1 = ['Facebook', 0.0, 'USD', 2974676, 3.5]\n",
    "row_2 = ['Instagram', 0.0, 'USD', 2161558, 4.5]\n",
    "row_3 = ['Clash of Clans', 0.0, 'USD', 2130805, 4.5]\n",
    "row_4 = ['Fruit Ninja Classic', 1.99, 'USD', 698516, 4.5]\n",
    "row_5 = ['Minecraft: Pocket Edition', 6.99, 'USD', 522012, 4.5]\n",
    "\n",
    "app_data_set = [row_1, row_2, row_3, row_4, row_5]\n",
    "\n",
    "rating_sum = 0\n",
    "\n",
    "for i in app_data_set:\n",
    "    rating = i[-1]\n",
    "    rating_sum = rating_sum + rating\n",
    "avg_rating = rating_sum / len(i)\n",
    "print(avg_rating)\n",
    "\n",
    "print(\"Current: %d, Peak %d\" % tracemalloc.get_traced_memory())\n",
    "snap = (tracemalloc.take_snapshot())\n",
    "print(snap)"
   ]
  },
  {
   "cell_type": "code",
   "execution_count": 21,
   "metadata": {},
   "outputs": [
    {
     "name": "stdout",
     "output_type": "stream",
     "text": [
      "4.3\n",
      "['12295763, 12989492']\n"
     ]
    }
   ],
   "source": [
    "import tracemalloc\n",
    "tracemalloc.start()\n",
    "\n",
    "row_1 = ['Facebook', 0.0, 'USD', 2974676, 3.5]\n",
    "row_2 = ['Instagram', 0.0, 'USD', 2161558, 4.5]\n",
    "row_3 = ['Clash of Clans', 0.0, 'USD', 2130805, 4.5]\n",
    "row_4 = ['Fruit Ninja Classic', 1.99, 'USD', 698516, 4.5]\n",
    "row_5 = ['Minecraft: Pocket Edition', 6.99, 'USD', 522012, 4.5]\n",
    "\n",
    "app_data_set = [row_1, row_2, row_3, row_4, row_5]\n",
    "\n",
    "rating_sum = 0\n",
    "\n",
    "for i in app_data_set:\n",
    "    rating = i[-1]\n",
    "    rating_sum = rating_sum + rating\n",
    "avg_rating = rating_sum / len(app_data_set)\n",
    "print(avg_rating)\n",
    "\n",
    "mu = ([\"%d, %d\" % tracemalloc.get_traced_memory()])\n",
    "\n",
    "print(mu)"
   ]
  },
  {
   "cell_type": "code",
   "execution_count": 17,
   "metadata": {},
   "outputs": [
    {
     "name": "stdout",
     "output_type": "stream",
     "text": [
      "4.3\n",
      "[ Top 10 differences ]\n",
      "c:\\Users\\KevinMedri\\anaconda3\\lib\\selectors.py:315: size=288 KiB (+144 KiB), count=11 (+3), average=26.2 KiB\n",
      "c:\\Users\\KevinMedri\\anaconda3\\lib\\tracemalloc.py:558: size=18.3 KiB (+10.9 KiB), count=346 (+200), average=54 B\n",
      "c:\\Users\\KevinMedri\\anaconda3\\lib\\tokenize.py:528: size=1525 KiB (-9464 B), count=27889 (-169), average=56 B\n",
      "c:\\Users\\KevinMedri\\anaconda3\\lib\\codeop.py:143: size=2681 B (+1208 B), count=43 (+19), average=62 B\n",
      "c:\\Users\\KevinMedri\\anaconda3\\lib\\site-packages\\IPython\\core\\compilerop.py:105: size=33.3 KiB (-785 B), count=461 (-17), average=74 B\n",
      "c:\\Users\\KevinMedri\\anaconda3\\lib\\site-packages\\ipykernel\\iostream.py:216: size=552 B (+552 B), count=1 (+1), average=552 B\n",
      "C:\\Users\\KevinMedri\\AppData\\Local\\Temp\\ipykernel_7840\\4100177642.py:20: size=552 B (+552 B), count=1 (+1), average=552 B\n",
      "c:\\Users\\KevinMedri\\anaconda3\\lib\\site-packages\\zmq\\sugar\\socket.py:597: size=0 B (-552 B), count=0 (-1)\n",
      "C:\\Users\\KevinMedri\\AppData\\Local\\Temp\\ipykernel_7840\\4100177642.py:4: size=0 B (-552 B), count=0 (-1)\n",
      "c:\\Users\\KevinMedri\\anaconda3\\lib\\selectors.py:324: size=1232 B (-472 B), count=5 (+0), average=246 B\n"
     ]
    }
   ],
   "source": [
    "tracemalloc.start()\n",
    "# ... start your application ...\n",
    "\n",
    "snapshot1 = tracemalloc.take_snapshot()\n",
    "row_1 = ['Facebook', 0.0, 'USD', 2974676, 3.5]\n",
    "row_2 = ['Instagram', 0.0, 'USD', 2161558, 4.5]\n",
    "row_3 = ['Clash of Clans', 0.0, 'USD', 2130805, 4.5]\n",
    "row_4 = ['Fruit Ninja Classic', 1.99, 'USD', 698516, 4.5]\n",
    "row_5 = ['Minecraft: Pocket Edition', 6.99, 'USD', 522012, 4.5]\n",
    "\n",
    "app_data_set = [row_1, row_2, row_3, row_4, row_5]\n",
    "\n",
    "rating_sum = 0\n",
    "\n",
    "for i in app_data_set:\n",
    "    rating = i[-1]\n",
    "    rating_sum = rating_sum + rating\n",
    "avg_rating = rating_sum / len(app_data_set)\n",
    "print(avg_rating)\n",
    "snapshot2 = tracemalloc.take_snapshot()\n",
    "\n",
    "top_stats = snapshot2.compare_to(snapshot1, 'lineno')\n",
    "\n",
    "print(\"[ Top 10 differences ]\")\n",
    "for stat in top_stats[:10]:\n",
    "    print(stat)"
   ]
  },
  {
   "cell_type": "code",
   "execution_count": null,
   "metadata": {},
   "outputs": [],
   "source": []
  }
 ],
 "metadata": {
  "kernelspec": {
   "display_name": "Python 3.9.12 ('base')",
   "language": "python",
   "name": "python3"
  },
  "language_info": {
   "codemirror_mode": {
    "name": "ipython",
    "version": 3
   },
   "file_extension": ".py",
   "mimetype": "text/x-python",
   "name": "python",
   "nbconvert_exporter": "python",
   "pygments_lexer": "ipython3",
   "version": "3.9.12"
  },
  "orig_nbformat": 4,
  "vscode": {
   "interpreter": {
    "hash": "25f3487451846e861a280f856ffdd5c623fcab8a2610d2814eeeaeba8b3c73c9"
   }
  }
 },
 "nbformat": 4,
 "nbformat_minor": 2
}
