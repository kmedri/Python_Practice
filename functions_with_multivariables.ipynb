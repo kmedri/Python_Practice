{
 "cells": [
  {
   "cell_type": "markdown",
   "metadata": {},
   "source": [
    "#### The Pythagorean theorem is defined by a2 + b2 = c2. We want a function that returns these three values when given a and b.\n",
    "\n",
    "1. Define a function `pythagorean()` that accepts two parameters `a` and `b`.\n",
    "<br/>\n",
    "<br/>\n",
    "2. Assign `a_squared` to be the square of `a`.\n",
    "<br/>\n",
    "<br/>\n",
    "3. Assign `b_squared` to be the square of `b`.\n",
    "<br/>\n",
    "<br/>\n",
    "4. Assign `c_squared` to be the sum of `a_squared` and `b_squared`.\n",
    "<br/><br/>\n",
    "5. Return `a_squared`, `b_squared`, and `c_squared`, in that order.\n",
    "<br/><br/>\n",
    "6. Call and print `pythagorean()`, passing the arguments of `5` and `12`, in that order."
   ]
  },
  {
   "cell_type": "code",
   "execution_count": 3,
   "metadata": {},
   "outputs": [
    {
     "name": "stdout",
     "output_type": "stream",
     "text": [
      "(25, 144, 169)\n"
     ]
    }
   ],
   "source": [
    "def pythagorean(a, b):\n",
    "    a_squared = a * a\n",
    "    b_squared = b * b\n",
    "    c_squared = a_squared + b_squared\n",
    "    return a_squared, b_squared, c_squared\n",
    "\n",
    "print(pythagorean(5, 12))"
   ]
  },
  {
   "cell_type": "markdown",
   "metadata": {},
   "source": [
    "1. Edit the `open_dataset()` function (it's already in the code editor) to do the following:\n",
    "\n",
    "    - If the dataset has a header, the function returns separately the header and the rest of the dataset.\n",
    "    - If there's no header, the function returns the entire dataset.\n",
    "<br/><br/>\n",
    "2. Use the updated `open_dataset()` function to open the `AppleStore.csv` file, which has a header row.\n",
    "\n",
    "    - Assign the result to a variable named `all_data`.\n",
    "    - Use tuple indexing to extract the header and the rest of the dataset from the `all_data` tuple.\n",
    "        - Assign the header to a variable named `header`.\n",
    "        - Assign the rest of the dataset to a variable named `apps_data`."
   ]
  },
  {
   "cell_type": "code",
   "execution_count": 4,
   "metadata": {},
   "outputs": [
    {
     "name": "stdout",
     "output_type": "stream",
     "text": [
      "<class 'tuple'>\n",
      "['id', 'track_name', 'size_bytes', 'currency', 'price', 'rating_count_tot', 'rating_count_ver', 'user_rating', 'user_rating_ver', 'ver', 'cont_rating', 'prime_genre', 'sup_devices.num', 'ipadSc_urls.num', 'lang.num', 'vpp_lic']\n",
      "[['284882215', 'Facebook', '389879808', 'USD', '0.0', '2974676', '212', '3.5', '3.5', '95.0', '4+', 'Social Networking', '37', '1', '29', '1'], ['389801252', 'Instagram', '113954816', 'USD', '0.0', '2161558', '1289', '4.5', '4.0', '10.23', '12+', 'Photo & Video', '37', '0', '29', '1'], ['529479190', 'Clash of Clans', '116476928', 'USD', '0.0', '2130805', '579', '4.5', '4.5', '9.24.12', '9+', 'Games', '38', '5', '18', '1'], ['420009108', 'Temple Run', '65921024', 'USD', '0.0', '1724546', '3842', '4.5', '4.0', '1.6.2', '9+', 'Games', '40', '5', '1', '1'], ['284035177', 'Pandora - Music & Radio', '130242560', 'USD', '0.0', '1126879', '3594', '4.0', '4.5', '8.4.1', '12+', 'Music', '37', '4', '1', '1']]\n"
     ]
    }
   ],
   "source": [
    "def open_dataset(file_name='AppleStore.csv', header=True):        \n",
    "    opened_file = open(file_name, encoding=\"utf8\")\n",
    "    from csv import reader\n",
    "    read_file = reader(opened_file)\n",
    "    data = list(read_file)\n",
    "    \n",
    "    if header:\n",
    "        return data[0], data[1:]\n",
    "    else:\n",
    "        return data\n",
    "    \n",
    "all_data = open_dataset(header=True)\n",
    "header = all_data[0]\n",
    "apps_data = all_data[1]\n",
    "print(type(all_data))\n",
    "print(all_data[0])\n",
    "print(all_data[1][:5])"
   ]
  },
  {
   "cell_type": "markdown",
   "metadata": {},
   "source": [
    "1. Use the `open_dataset()` function to open the `AppleStore.csv` file, which has a header row.<br/><br/>\n",
    "2. Do the variable assignment step in a single line of code.<br/><br/>\n",
    "    - Assign the `header` to a variable named `header`.<br/><br/>\n",
    "    - Assign the rest of the dataset to a variable named `apps_data`."
   ]
  },
  {
   "cell_type": "code",
   "execution_count": 5,
   "metadata": {},
   "outputs": [
    {
     "name": "stdout",
     "output_type": "stream",
     "text": [
      "[['284882215', 'Facebook', '389879808', 'USD', '0.0', '2974676', '212', '3.5', '3.5', '95.0', '4+', 'Social Networking', '37', '1', '29', '1'], ['389801252', 'Instagram', '113954816', 'USD', '0.0', '2161558', '1289', '4.5', '4.0', '10.23', '12+', 'Photo & Video', '37', '0', '29', '1']]\n",
      "['id', 'track_name', 'size_bytes', 'currency', 'price', 'rating_count_tot', 'rating_count_ver', 'user_rating', 'user_rating_ver', 'ver', 'cont_rating', 'prime_genre', 'sup_devices.num', 'ipadSc_urls.num', 'lang.num', 'vpp_lic']\n"
     ]
    }
   ],
   "source": [
    "header, apps_data = open_dataset()\n",
    "print(apps_data[:2])\n",
    "print(header)"
   ]
  },
  {
   "cell_type": "code",
   "execution_count": null,
   "metadata": {},
   "outputs": [],
   "source": []
  }
 ],
 "metadata": {
  "kernelspec": {
   "display_name": "Python 3.9.12 ('base')",
   "language": "python",
   "name": "python3"
  },
  "language_info": {
   "codemirror_mode": {
    "name": "ipython",
    "version": 3
   },
   "file_extension": ".py",
   "mimetype": "text/x-python",
   "name": "python",
   "nbconvert_exporter": "python",
   "pygments_lexer": "ipython3",
   "version": "3.9.12"
  },
  "orig_nbformat": 4,
  "vscode": {
   "interpreter": {
    "hash": "25f3487451846e861a280f856ffdd5c623fcab8a2610d2814eeeaeba8b3c73c9"
   }
  }
 },
 "nbformat": 4,
 "nbformat_minor": 2
}
