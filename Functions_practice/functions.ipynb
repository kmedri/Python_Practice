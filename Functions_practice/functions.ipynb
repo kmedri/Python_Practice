{
 "cells": [
  {
   "cell_type": "markdown",
   "metadata": {},
   "source": [
    "## Creating Functions"
   ]
  },
  {
   "cell_type": "markdown",
   "metadata": {},
   "source": [
    "Here we are creating a simple function to multiply a and b"
   ]
  },
  {
   "cell_type": "code",
   "execution_count": 1,
   "metadata": {},
   "outputs": [
    {
     "name": "stdout",
     "output_type": "stream",
     "text": [
      "100\n"
     ]
    }
   ],
   "source": [
    "def my_function(a, b):\n",
    "    return a * b\n",
    "\n",
    "fun = my_function(10, 10)\n",
    "print(fun)"
   ]
  },
  {
   "cell_type": "markdown",
   "metadata": {},
   "source": [
    "Here we are cleaning some text"
   ]
  },
  {
   "cell_type": "code",
   "execution_count": 2,
   "metadata": {},
   "outputs": [
    {
     "name": "stdout",
     "output_type": "stream",
     "text": [
      "True\n"
     ]
    }
   ],
   "source": [
    "test_name = \"AsIL sEnDo\"\n",
    "expected_answer = \"Asil Sendo\"\n",
    "\n",
    "# Write your code below\n",
    "def clean_name(name):\n",
    "    names = name.split()\n",
    "    firstname = names[0]\n",
    "    firstname = firstname[0].upper() + firstname[1:].lower()\n",
    "    lastname = names[1]\n",
    "    lastname = lastname[0].upper() + lastname[1:].lower()\n",
    "    return firstname + ' ' + lastname\n",
    "\n",
    "print(clean_name(test_name) == expected_answer)"
   ]
  },
  {
   "cell_type": "markdown",
   "metadata": {},
   "source": [
    "Using .title()"
   ]
  },
  {
   "cell_type": "code",
   "execution_count": 3,
   "metadata": {},
   "outputs": [
    {
     "name": "stdout",
     "output_type": "stream",
     "text": [
      "True\n",
      "Asil Sendo\n"
     ]
    }
   ],
   "source": [
    "def clean_name(a):\n",
    "    return a.title()\n",
    "\n",
    "cleaned_name = clean_name(test_name)\n",
    "    \n",
    "print(clean_name(test_name) == expected_answer)\n",
    "print(cleaned_name)"
   ]
  },
  {
   "cell_type": "code",
   "execution_count": 229,
   "metadata": {},
   "outputs": [],
   "source": [
    "test_songs = ['1 - Thoughts Of Time', '2 - Passion Of The Night', '3 - Amused By Her Strength', '4 - Get My Friends', '5 - Broken Life', '6 - Super Song', '7 - Darling, Remember The Times', \"8 - Baby, You are Strange And I Like It\", '9 - She Said I Will Try', '10 - In Love With You', '112 - Hat Of The South', '13 - Friends Of My Dreams', '14 - Dream His Luck']\n",
    "expected_answer = ['01 - Thoughts Of Time', '02 - Passion Of The Night', '03 - Amused By Her Strength', '04 - Get My Friends', '05 - Broken Life', '06 - Super Song', '07 - Darling, Remember The Times', \"08 - Baby, You are Strange And I Like It\", '09 - She Said I Will Try', '10 - In Love With You', '12 - Hat Of The South', '13 - Friends Of My Dreams', '14 - Dream His Luck']"
   ]
  },
  {
   "cell_type": "code",
   "execution_count": 5,
   "metadata": {},
   "outputs": [
    {
     "name": "stdout",
     "output_type": "stream",
     "text": [
      "13\n"
     ]
    }
   ],
   "source": [
    "print(len(test_songs))"
   ]
  },
  {
   "cell_type": "code",
   "execution_count": 230,
   "metadata": {},
   "outputs": [
    {
     "name": "stdout",
     "output_type": "stream",
     "text": [
      "['1 - Thoughts Of Time', '2 - Passion Of The Night', '3 - Amused By Her Strength', '4 - Get My Friends', '5 - Broken Life', '6 - Super Song', '7 - Darling, Remember The Times', '8 - Baby, You are Strange And I Like It', '9 - She Said I Will Try', '10 - In Love With You', '12 - Hat Of The South', '13 - Friends Of My Dreams', '14 - Dream His Luck']\n"
     ]
    }
   ],
   "source": [
    "songs = [\n",
    "    \"1 - Thoughts Of Time\",\n",
    "    \"2 - Passion Of The Night\",\n",
    "    \"3 - Amused By Her Strength\",\n",
    "    \"4 - Get My Friends\",\n",
    "    \"5 - Broken Life\",\n",
    "    \"6 - Super Song\",\n",
    "    \"7 - Darling, Remember The Times\",\n",
    "    \"8 - Baby, You are Strange And I Like It\",\n",
    "    \"9 - She Said I Will Try\",\n",
    "    \"10 - In Love With You\",\n",
    "    \"12 - Hat Of The South\",\n",
    "    \"13 - Friends Of My Dreams\",\n",
    "    \"14 - Dream His Luck\"\n",
    "]\n",
    "print(songs)"
   ]
  },
  {
   "cell_type": "code",
   "execution_count": 116,
   "metadata": {},
   "outputs": [
    {
     "name": "stdout",
     "output_type": "stream",
     "text": [
      "['1', '2', '3', '4', '5', '6', '7', '8', '9', '10', '12', '13', '14']\n"
     ]
    }
   ],
   "source": [
    "song_num_len = []\n",
    "for i in songs:\n",
    "    song_num_len.append(i.split()[0])\n",
    "\n",
    "print(song_num_len)\n",
    "    "
   ]
  },
  {
   "cell_type": "code",
   "execution_count": 117,
   "metadata": {},
   "outputs": [
    {
     "name": "stdout",
     "output_type": "stream",
     "text": [
      "2\n"
     ]
    }
   ],
   "source": [
    "leading = len(max(song_num_len, key=len))\n",
    "print(leading)"
   ]
  },
  {
   "cell_type": "code",
   "execution_count": 119,
   "metadata": {},
   "outputs": [
    {
     "name": "stdout",
     "output_type": "stream",
     "text": [
      "<class 'str'>\n",
      "['01', '02', '03', '04', '05', '06', '07', '08', '09', '10', '12', '13', '14']\n"
     ]
    }
   ],
   "source": [
    "song_num = []\n",
    "\n",
    "for i in song_num_len:\n",
    "    song_num.append(i.zfill(leading))\n",
    "    \n",
    "print(type(song_num[0]))\n",
    "print(song_num)"
   ]
  },
  {
   "cell_type": "markdown",
   "metadata": {},
   "source": [
    "s = 'No word in this sentence is capitalised.'\n",
    "\n",
    "replacement = 'All'\n",
    "s = s.split()\n",
    "s[0] = replacement\n",
    "print(' '.join(s))"
   ]
  },
  {
   "cell_type": "code",
   "execution_count": 146,
   "metadata": {},
   "outputs": [
    {
     "name": "stdout",
     "output_type": "stream",
     "text": [
      "13\n"
     ]
    }
   ],
   "source": [
    "print(len(songs))"
   ]
  },
  {
   "cell_type": "code",
   "execution_count": 177,
   "metadata": {},
   "outputs": [
    {
     "name": "stdout",
     "output_type": "stream",
     "text": [
      "['01 - Thoughts Of Time', '02 - Passion Of The Night', '03 - Amused By Her Strength', '04 - Get My Friends', '05 - Broken Life', '06 - Super Song', '07 - Darling, Remember The Times', '08 - Baby, You are Strange And I Like It', '09 - She Said I Will Try', '10 - In Love With You', '12 - Hat Of The South', '13 - Friends Of My Dreams', '14 - Dream His Luck']\n"
     ]
    }
   ],
   "source": [
    "new_songs = []\n",
    "for (i, j) in zip(songs, song_num):\n",
    "    i = i.split()\n",
    "    i[0] = j\n",
    "    new_songs.append((' '.join(i)))\n",
    "print(new_songs)"
   ]
  },
  {
   "cell_type": "markdown",
   "metadata": {},
   "source": [
    "This function checks the size of the number and pads out the smaller numbers with zeros."
   ]
  },
  {
   "cell_type": "code",
   "execution_count": 231,
   "metadata": {},
   "outputs": [],
   "source": [
    "def format_songs(songs):\n",
    "    song_num_len = []\n",
    "    for i in songs:\n",
    "        song_num_len.append(i.split()[0])\n",
    "    leading = len(max(song_num_len, key=len))\n",
    "    song_num = []\n",
    "    for i in song_num_len:\n",
    "        song_num.append(i.zfill(leading))\n",
    "    new_songs = []\n",
    "    for (i, j) in zip(songs, song_num):\n",
    "        i = i.split()\n",
    "        i[0] = j\n",
    "        new_songs.append((' '.join(i)))\n",
    "    return new_songs"
   ]
  },
  {
   "cell_type": "code",
   "execution_count": 242,
   "metadata": {},
   "outputs": [
    {
     "name": "stdout",
     "output_type": "stream",
     "text": [
      "['001 - Thoughts Of Time', '002 - Passion Of The Night', '003 - Amused By Her Strength', '004 - Get My Friends', '005 - Broken Life', '006 - Super Song', '007 - Darling, Remember The Times', '008 - Baby, You are Strange And I Like It', '009 - She Said I Will Try', '010 - In Love With You', '112 - Hat Of The South', '013 - Friends Of My Dreams', '014 - Dream His Luck']\n"
     ]
    }
   ],
   "source": [
    "my_song_list = format_songs(test_songs)\n",
    "print(my_song_list)"
   ]
  },
  {
   "cell_type": "code",
   "execution_count": 186,
   "metadata": {},
   "outputs": [
    {
     "name": "stdout",
     "output_type": "stream",
     "text": [
      "True\n"
     ]
    }
   ],
   "source": [
    "print(format_songs(test_songs) == expected_answer)"
   ]
  },
  {
   "cell_type": "code",
   "execution_count": 243,
   "metadata": {},
   "outputs": [
    {
     "name": "stdout",
     "output_type": "stream",
     "text": [
      "['001 - Thoughts Of Time', '002 - Passion Of The Night', '003 - Amused By Her Strength', '004 - Get My Friends', '005 - Broken Life', '006 - Super Song', '007 - Darling, Remember The Times', '008 - Baby, You are Strange And I Like It', '009 - She Said I Will Try', '010 - In Love With You', '013 - Friends Of My Dreams', '014 - Dream His Luck', '112 - Hat Of The South']\n"
     ]
    }
   ],
   "source": [
    "my_song_list.sort()\n",
    "print(my_song_list)"
   ]
  },
  {
   "cell_type": "markdown",
   "metadata": {},
   "source": [
    "The below pads the numbers from the number of songs not the size of the number."
   ]
  },
  {
   "cell_type": "code",
   "execution_count": 225,
   "metadata": {},
   "outputs": [
    {
     "data": {
      "text/plain": [
       "['01 - Thoughts Of Time',\n",
       " '02 - Passion Of The Night',\n",
       " '03 - Amused By Her Strength',\n",
       " '04 - Get My Friends',\n",
       " '05 - Broken Life',\n",
       " '06 - Super Song',\n",
       " '07 - Darling, Remember The Times',\n",
       " '08 - Baby, You are Strange And I Like It',\n",
       " '09 - She Said I Will Try',\n",
       " '10 - In Love With You',\n",
       " '112 - Hat Of The South',\n",
       " '13 - Friends Of My Dreams',\n",
       " '14 - Dream His Luck']"
      ]
     },
     "execution_count": 225,
     "metadata": {},
     "output_type": "execute_result"
    }
   ],
   "source": [
    "def format_songs2(songs):\n",
    "    number_digits = len(str(len(songs)))\n",
    "    formatted_songs = []\n",
    "    for song in songs:\n",
    "        number = song.split()[0]\n",
    "        formatted_song = '0' * (number_digits - len(number)) + song\n",
    "        formatted_songs.append(formatted_song)\n",
    "    return formatted_songs\n",
    "format_songs2(test_songs)\n"
   ]
  },
  {
   "cell_type": "code",
   "execution_count": null,
   "metadata": {},
   "outputs": [],
   "source": []
  }
 ],
 "metadata": {
  "kernelspec": {
   "display_name": "Python 3.9.12 ('base')",
   "language": "python",
   "name": "python3"
  },
  "language_info": {
   "codemirror_mode": {
    "name": "ipython",
    "version": 3
   },
   "file_extension": ".py",
   "mimetype": "text/x-python",
   "name": "python",
   "nbconvert_exporter": "python",
   "pygments_lexer": "ipython3",
   "version": "3.9.12"
  },
  "orig_nbformat": 4,
  "vscode": {
   "interpreter": {
    "hash": "25f3487451846e861a280f856ffdd5c623fcab8a2610d2814eeeaeba8b3c73c9"
   }
  }
 },
 "nbformat": 4,
 "nbformat_minor": 2
}
