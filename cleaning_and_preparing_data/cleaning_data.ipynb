{
 "cells": [
  {
   "cell_type": "markdown",
   "metadata": {},
   "source": [
    "## Data Cleaning\n"
   ]
  },
  {
   "cell_type": "markdown",
   "metadata": {},
   "source": [
    "Import needed libraries."
   ]
  },
  {
   "cell_type": "code",
   "execution_count": 1,
   "metadata": {},
   "outputs": [],
   "source": [
    "from csv import reader"
   ]
  },
  {
   "cell_type": "markdown",
   "metadata": {},
   "source": [
    "Open the file and create a variable named `moma` to hold the data."
   ]
  },
  {
   "cell_type": "code",
   "execution_count": 2,
   "metadata": {},
   "outputs": [
    {
     "name": "stdout",
     "output_type": "stream",
     "text": [
      "['Title', 'Artist', 'Nationality', 'BeginDate', 'EndDate', 'Gender', 'Date', 'Department']\n",
      "[['Dress MacLeod from Tartan Sets', 'Sarah Charlesworth', '(American)', '(1947)', '(2013)', '(Female)', '1986', 'Prints & Illustrated Books']]\n"
     ]
    }
   ],
   "source": [
    "opened_file = open('artworks.csv', encoding='utf-8')\n",
    "read_file = reader(opened_file)\n",
    "moma = list(read_file)\n",
    "moma_headers = moma[0]\n",
    "moma = moma[1:]\n",
    "\n",
    "print(moma_headers)\n",
    "print(moma[0:1])"
   ]
  },
  {
   "cell_type": "markdown",
   "metadata": {},
   "source": [
    "Use a for loop to loop over the `moma` list of lists. In each iteration of the `loop`, do the following:\n",
    "\n",
    "Clean the `Nationality` column of the data set by doing the following:\n",
    "Assign the `nationality` for each row (found at list index `2` of the row) to a variable.\n",
    "Use the `str.replace()` method to remove the open parentheses `(()` character.\n",
    "Use the `str.replace()` method to remove the close parentheses `())` character.\n",
    "Assign the `cleaned` value back to list index `2` of the row.\n",
    "Clean the `Gender` column of the data set (found at index `5` of the row) by repeating the same technique you used for the `Nationality` column."
   ]
  },
  {
   "cell_type": "code",
   "execution_count": 3,
   "metadata": {},
   "outputs": [
    {
     "name": "stdout",
     "output_type": "stream",
     "text": [
      "['Spanish', '(1916)', '(2007)', 'Male']\n"
     ]
    }
   ],
   "source": [
    "for row in moma:\n",
    "    nationality = row[2]\n",
    "    gender = row[5]\n",
    "    nationality = nationality.replace('(', '')\n",
    "    nationality = nationality.replace(')', '')\n",
    "    gender = gender.replace('(', '')\n",
    "    gender = gender.replace(')', '')\n",
    "    row[2] = nationality\n",
    "    row[5] = gender\n",
    "    \n",
    "print(moma[1][2:6])"
   ]
  },
  {
   "cell_type": "code",
   "execution_count": 4,
   "metadata": {},
   "outputs": [
    {
     "name": "stdout",
     "output_type": "stream",
     "text": [
      "['Pictorial ornament (folio 11) from WOODCUTS', 'Antonio Frasconi', 'American', '(1919)', '(2013)', 'Male', '1957', 'Prints & Illustrated Books']\n"
     ]
    }
   ],
   "source": [
    "for row in moma:\n",
    "    gender = str.title(row[5])\n",
    "    nationality = str.title(row[2])\n",
    "    if not gender:\n",
    "        gender = 'Gender Unknown/Other'\n",
    "    if not nationality:\n",
    "        gender = 'Nationality Unknown'\n",
    "    row[5] = gender\n",
    "    row[2] = nationality\n",
    "    \n",
    "print(moma[5])"
   ]
  },
  {
   "cell_type": "markdown",
   "metadata": {},
   "source": [
    "1. We have provided the `clean_and_convert()` that uses the if statement to bypass missing strings.\n",
    "\n",
    "2. Use a for loop to iterate over each row in the `moma` list of lists. In each iteration, do the following:\n",
    "\n",
    "    - Assign the `BeginDate` and `EndDate` values (at indices `3` and `4`) to variables.\n",
    "    - Use the `clean_and_convert()` function to clean and convert each value.\n",
    "    - Assign the converted values back to indices `3` and `4` so the cleaned values are used in the `moma` list of lists."
   ]
  },
  {
   "cell_type": "code",
   "execution_count": 5,
   "metadata": {},
   "outputs": [],
   "source": [
    "def clean_and_convert(date):\n",
    "    # check that we don't have an empty string\n",
    "    if date != \"\":\n",
    "        # move the rest of the function inside\n",
    "        # the if statement\n",
    "        date = date.replace('(', '')\n",
    "        date = date.replace(')', '')\n",
    "        date = int(date)\n",
    "    return date"
   ]
  },
  {
   "cell_type": "code",
   "execution_count": 7,
   "metadata": {},
   "outputs": [
    {
     "name": "stdout",
     "output_type": "stream",
     "text": [
      "['Pictorial ornament (folio 11) from WOODCUTS', 'Antonio Frasconi', 'American', 1919, 2013, 'Male', '1957', 'Prints & Illustrated Books']\n"
     ]
    }
   ],
   "source": [
    "for row in moma:\n",
    "    BeginDate = row[3]\n",
    "    EndDate = row[4]\n",
    "    BeginDate = clean_and_convert(BeginDate)\n",
    "    EndDate = clean_and_convert(EndDate)\n",
    "    row[3] = BeginDate\n",
    "    row[4] = EndDate\n",
    "    \n",
    "print(moma[5])"
   ]
  },
  {
   "cell_type": "markdown",
   "metadata": {},
   "source": [
    "1. Create a function called `strip_characters()`, which accepts a string argument and does the following:  \n",
    "    - Iterates over the bad_chars list, using str.replace() to remove each character\n",
    "    - Returns the cleaned string\n",
    "2. Create an empty list, `stripped_test_data`.  \n",
    "3. Iterate over the strings in test_data, and on each iteration, do the following:\n",
    "    - Use the function you created earlier to clean the string.\n",
    "    - Append the cleaned string to the stripped_test_data list."
   ]
  },
  {
   "cell_type": "code",
   "execution_count": 10,
   "metadata": {},
   "outputs": [
    {
     "name": "stdout",
     "output_type": "stream",
     "text": [
      "['1912', '1929', '1913-1923', '1951', '1994', '1934', '1915', '1995', '1912', '1988', '2002', '1957-1959', '1955', '1970', '1990-1999']\n"
     ]
    }
   ],
   "source": [
    "test_data = [\"1912\", \"1929\", \"1913-1923\",\n",
    "             \"(1951)\", \"1994\", \"1934\",\n",
    "             \"c. 1915\", \"1995\", \"c. 1912\",\n",
    "             \"(1988)\", \"2002\", \"1957-1959\",\n",
    "             \"c. 1955.\", \"c. 1970's\", \n",
    "             \"C. 1990-1999\"]\n",
    "\n",
    "bad_chars = [\"(\",\")\",\"c\",\"C\",\".\",\"s\",\"'\", \" \"]\n",
    "\n",
    "def strip_characters(string):\n",
    "    for char in bad_chars:\n",
    "        string = string.replace(char,\"\")\n",
    "    return string\n",
    "\n",
    "stripped_test_data = []\n",
    "for d in test_data:\n",
    "    date = strip_characters(d)\n",
    "    stripped_test_data.append(date)\n",
    "print(stripped_test_data)"
   ]
  },
  {
   "cell_type": "markdown",
   "metadata": {},
   "source": [
    "We have provided the `stripped_test_data list`, `strip_characters()` function, and `bad_chars` list so you don't have to toggle between screens.\n",
    "\n",
    "1. Create a function called `process_date()` which accepts a string and follows the logic we outlined above:\n",
    "    - Checks if the dash character (`-`) is in the string so we know if it's a range\n",
    "    - **If it is a range, it should do the following:**\n",
    "        - Split the string into two strings, before and after the dash character\n",
    "        - Convert the two numbers to the integer type and then average them by adding them together and dividing by two\n",
    "        - Use the `round()` function to round the average, so values like 1964.5 become 1964  \n",
    "    - **If it isn't a range, it should do the following:**\n",
    "        - Converts the value to an integer type\n",
    "    - Finally, returns the value  \n",
    "2. Create an empty list `processed_test_data`.  \n",
    "3. Loop over the `stripped_test_data` list using your `process_date()` function. Process the dates and append each processed date back to the `processed_test_data` list.\n",
    "4. Once your code works with the test data, you can then iterate over the `moma` list of lists. In each iteration, do the following:  \n",
    "    - Assign the value from the Date column (index 6) to a variable.\n",
    "    - Use the strip_characters() function to remove any bad characters.\n",
    "    - Use the process_date() to convert the date.\n",
    "    - Assign the stripped and processed value back to the row."
   ]
  },
  {
   "cell_type": "code",
   "execution_count": 8,
   "metadata": {},
   "outputs": [],
   "source": [
    "test_data = [\"1912\", \"1929\", \"1913-1923\",\n",
    "             \"(1951)\", \"1994\", \"1934\",\n",
    "             \"c. 1915\", \"1995\", \"c. 1912\",\n",
    "             \"(1988)\", \"2002\", \"1957-1959\",\n",
    "             \"c. 1955.\", \"c. 1970's\", \n",
    "             \"C. 1990-1999\"]\n",
    "\n",
    "bad_chars = [\"(\",\")\",\"c\",\"C\",\".\",\"s\",\"'\", \" \"]\n",
    "\n",
    "def strip_characters(string):\n",
    "    for char in bad_chars:\n",
    "        string = string.replace(char,\"\")\n",
    "    return string\n",
    "\n",
    "stripped_test_data = ['1912', '1929', '1913-1923',\n",
    "                      '1951', '1994', '1934',\n",
    "                      '1915', '1995', '1912',\n",
    "                      '1988', '2002', '1957-1959',\n",
    "                      '1955', '1970', '1990-1999']\n",
    "\n",
    "\n",
    "def process_date(date):\n",
    "    if \"-\" in date:\n",
    "        split_date = date.split(\"-\")\n",
    "        date_one = split_date[0]\n",
    "        date_two = split_date[1]       \n",
    "        date = (int(date_one) + int(date_two)) / 2\n",
    "        date = round(date)\n",
    "    else:\n",
    "        date = int(date)\n",
    "    return date\n",
    "\n",
    "processed_test_data = []\n",
    "\n",
    "for d in stripped_test_data:\n",
    "    date = process_date(d)\n",
    "    processed_test_data.append(date)\n",
    "\n",
    "for row in moma:\n",
    "    date = row[6]\n",
    "    date = strip_characters(date)\n",
    "    date = process_date(date)\n",
    "    row[6] = date"
   ]
  },
  {
   "cell_type": "code",
   "execution_count": 9,
   "metadata": {},
   "outputs": [
    {
     "name": "stdout",
     "output_type": "stream",
     "text": [
      "['Pictorial ornament (folio 11) from WOODCUTS', 'Antonio Frasconi', 'American', 1919, 2013, 'Male', 1957, 'Prints & Illustrated Books']\n"
     ]
    }
   ],
   "source": [
    "print(moma[5])"
   ]
  },
  {
   "cell_type": "code",
   "execution_count": null,
   "metadata": {},
   "outputs": [],
   "source": []
  }
 ],
 "metadata": {
  "kernelspec": {
   "display_name": "Python 3.9.12 ('base')",
   "language": "python",
   "name": "python3"
  },
  "language_info": {
   "codemirror_mode": {
    "name": "ipython",
    "version": 3
   },
   "file_extension": ".py",
   "mimetype": "text/x-python",
   "name": "python",
   "nbconvert_exporter": "python",
   "pygments_lexer": "ipython3",
   "version": "3.9.12"
  },
  "orig_nbformat": 4,
  "vscode": {
   "interpreter": {
    "hash": "3165825ed7053c8e1afa96bce8518cd8bc26e25fcb10caf600515faea5597791"
   }
  }
 },
 "nbformat": 4,
 "nbformat_minor": 2
}
