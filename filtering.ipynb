{
 "cells": [
  {
   "cell_type": "code",
   "execution_count": 110,
   "metadata": {},
   "outputs": [
    {
     "name": "stdout",
     "output_type": "stream",
     "text": [
      "!\"#$%&'()*+,-./:;<=>?@[\\]^_`{|}~\n"
     ]
    }
   ],
   "source": [
    "import string\n",
    "print(string.punctuation)"
   ]
  },
  {
   "cell_type": "code",
   "execution_count": 111,
   "metadata": {},
   "outputs": [],
   "source": [
    "test_message = \"WIN MONEY!!!! We Need YOUR Expert Opinion! EASY money. Click >HERE<\"\n",
    "expected_answer = \"win money we need your expert opinion easy money click here\""
   ]
  },
  {
   "cell_type": "code",
   "execution_count": 112,
   "metadata": {},
   "outputs": [
    {
     "name": "stdout",
     "output_type": "stream",
     "text": [
      "win money we need your expert opinion easy money click here\n",
      "True\n"
     ]
    }
   ],
   "source": [
    "def clean_message(text):\n",
    "    for char in string.punctuation:\n",
    "        text = text.replace(char, '')\n",
    "    return text.lower()\n",
    "\n",
    "print(clean_message(test_message))\n",
    "print(clean_message(test_message) == expected_answer)"
   ]
  },
  {
   "cell_type": "code",
   "execution_count": 113,
   "metadata": {},
   "outputs": [
    {
     "name": "stdout",
     "output_type": "stream",
     "text": [
      "WIN MONEY We Need YOUR Expert Opinion EASY money Click HERE\n"
     ]
    }
   ],
   "source": [
    "a_string = 'WIN MONEY!!!! We Need YOUR Expert Opinion! EASY money. Click >HERE<'\n",
    "new_string = a_string.translate(str.maketrans('', '', string.punctuation))\n",
    "print(new_string)"
   ]
  },
  {
   "cell_type": "code",
   "execution_count": 114,
   "metadata": {},
   "outputs": [
    {
     "data": {
      "text/plain": [
       "'win money we need your expert opinion easy money click here'"
      ]
     },
     "execution_count": 114,
     "metadata": {},
     "output_type": "execute_result"
    }
   ],
   "source": [
    "def clean_message2(message):\n",
    "    message = message.translate(str.maketrans('', '', string.punctuation))\n",
    "    return message.lower()\n",
    "\n",
    "clean_message2(test_message)"
   ]
  },
  {
   "cell_type": "code",
   "execution_count": 115,
   "metadata": {},
   "outputs": [],
   "source": [
    "import csv\n",
    "\n",
    "def write_csv(rows):\n",
    "    f = open('listings_clean.csv', mode='w')\n",
    "    writer = csv.writer(f)\n",
    "    for row in rows:\n",
    "        writer.writerow(row)\n",
    "    f.close()"
   ]
  },
  {
   "cell_type": "code",
   "execution_count": 116,
   "metadata": {},
   "outputs": [
    {
     "name": "stdout",
     "output_type": "stream",
     "text": [
      "['id', 'address', 'num_rooms', 'available']\n",
      "['7332', '369 Barbara Square\\nWhiteberg, MT 64361', '__4', 'Y']\n",
      "['', '720 Stephen Garden Apt. 138\\nSouth Haroldland, IA 96057', '4', 'yes']\n",
      "['7023', 'PSC 9388, Box 5285\\nAPO AA 33803', '3', 'n']\n",
      "['2024', '93507 Wells Brook Suite 898\\nScottfort, IL 03739', '(5)', 'Y']\n",
      "num_rooms\n",
      "Y\n",
      "100\n"
     ]
    }
   ],
   "source": [
    "with open('listings.csv') as listing:\n",
    "    reader = csv.reader(listing)\n",
    "    all_rows = list(reader)\n",
    "    rows = all_rows[1:]\n",
    "    headers = all_rows[0]\n",
    " \n",
    "print(headers)\n",
    "for _ in range(4):\n",
    "    print(rows[_])\n",
    "print(headers[2])\n",
    "print(rows[0][3])\n",
    "print(len(rows))"
   ]
  },
  {
   "cell_type": "code",
   "execution_count": 117,
   "metadata": {},
   "outputs": [
    {
     "name": "stdout",
     "output_type": "stream",
     "text": [
      "[['7332', '369 Barbara Square\\nWhiteberg, MT 64361', '__4', 'Y'], ['', '720 Stephen Garden Apt. 138\\nSouth Haroldland, IA 96057', '4', 'yes'], ['7023', 'PSC 9388, Box 5285\\nAPO AA 33803', '3', 'n'], ['2024', '93507 Wells Brook Suite 898\\nScottfort, IL 03739', '(5)', 'Y'], ['6396', '35641 Ashley Burg Suite 422\\nScottview, SD 80942', '__6', 'no']]\n",
      "100\n"
     ]
    }
   ],
   "source": [
    "print(rows[:5])\n",
    "print(len(rows))"
   ]
  },
  {
   "cell_type": "code",
   "execution_count": 121,
   "metadata": {},
   "outputs": [
    {
     "name": "stdout",
     "output_type": "stream",
     "text": [
      "[['7332', '369 Barbara Square\\nWhiteberg, MT 64361', '__4', 'yes'], ['', '720 Stephen Garden Apt. 138\\nSouth Haroldland, IA 96057', '4', 'yes'], ['7023', 'PSC 9388, Box 5285\\nAPO AA 33803', '3', 'no'], ['2024', '93507 Wells Brook Suite 898\\nScottfort, IL 03739', '(5)', 'yes'], ['6396', '35641 Ashley Burg Suite 422\\nScottview, SD 80942', '__6', 'no']]\n",
      "['id', 'address', 'num_rooms', 'available']\n",
      "['7332', '369 Barbara Square\\nWhiteberg, MT 64361', '__4', 'yes']\n",
      "['', '720 Stephen Garden Apt. 138\\nSouth Haroldland, IA 96057', '4', 'yes']\n",
      "['7023', 'PSC 9388, Box 5285\\nAPO AA 33803', '3', 'no']\n",
      "['2024', '93507 Wells Brook Suite 898\\nScottfort, IL 03739', '(5)', 'yes']\n",
      "['6396', '35641 Ashley Burg Suite 422\\nScottview, SD 80942', '__6', 'no']\n",
      "['4461', '6846 White Fields Suite 942\\nWest Kyle, AR 70268', '4', 'no']\n",
      "['7805', '916 Barrera Union\\nWest Christopher, WY 59561', '2', 'yes']\n"
     ]
    }
   ],
   "source": [
    "for i in range(len(rows)):\n",
    "    if rows[i][-1] == 'Yes' or rows[i][-1] == 'y' or rows[i][-1] == 'Y' or rows[i][-1] == 'yes':\n",
    "        rows[i][-1] = 'yes'\n",
    "    else:\n",
    "        rows[i][-1] = 'no'\n",
    "print(rows[0:5])\n",
    "\n",
    "header = [headers]\n",
    "data = [rows]\n",
    "\n",
    "with open('listings_clean.csv', 'w') as f:\n",
    "    writer = csv.writer(f)\n",
    "\n",
    "    # write the header\n",
    "    writer.writerow(header)\n",
    "\n",
    "    # write the data\n",
    "    writer.writerow(data)\n",
    "print(headers)\n",
    "for _ in range(7):\n",
    "    print(rows[_])"
   ]
  },
  {
   "cell_type": "code",
   "execution_count": null,
   "metadata": {},
   "outputs": [],
   "source": [
    "def clean_available_col(rows):\n",
    "    for i in range(len(rows)):\n",
    "    if rows[i][-1] == 'Yes' or rows[i][-1] == 'y' or rows[i][-1] == 'Y' or rows[i][-1] == 'yes':\n",
    "        rows[i][-1] = 'yes'\n",
    "    else:\n",
    "        rows[i][-1] = 'no'\n",
    "return rows\n",
    "\n"
   ]
  },
  {
   "cell_type": "code",
   "execution_count": null,
   "metadata": {},
   "outputs": [],
   "source": [
    "def clean_available_col():\n",
    "    # Read the CSV file\n",
    "    f = open('listings.csv')\n",
    "    reader = csv.reader(f)\n",
    "    rows = list(reader)\n",
    "    # Clean last column\n",
    "    for row in rows:\n",
    "        if row[-1] == 'y' or row[-1] == 'Y':\n",
    "            row[-1] = 'yes'\n",
    "        if row[-1] == 'n' or row[-1] == 'NO':\n",
    "            row[-1] = 'no'\n",
    "    # Write the cleaned file\n",
    "    write_csv(rows)\n",
    "\n",
    "# Call the function and check results\n",
    "clean_available_col()\n",
    "f = open('listings_clean.csv')\n",
    "reader = csv.reader(f)\n",
    "rows = list(reader)\n",
    "for i in range(8):\n",
    "    print(rows[i])"
   ]
  }
 ],
 "metadata": {
  "kernelspec": {
   "display_name": "Python 3.9.12 ('base')",
   "language": "python",
   "name": "python3"
  },
  "language_info": {
   "codemirror_mode": {
    "name": "ipython",
    "version": 3
   },
   "file_extension": ".py",
   "mimetype": "text/x-python",
   "name": "python",
   "nbconvert_exporter": "python",
   "pygments_lexer": "ipython3",
   "version": "3.9.12"
  },
  "orig_nbformat": 4,
  "vscode": {
   "interpreter": {
    "hash": "25f3487451846e861a280f856ffdd5c623fcab8a2610d2814eeeaeba8b3c73c9"
   }
  }
 },
 "nbformat": 4,
 "nbformat_minor": 2
}
