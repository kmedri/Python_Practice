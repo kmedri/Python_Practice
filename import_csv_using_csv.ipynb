{
 "cells": [
  {
   "cell_type": "markdown",
   "metadata": {},
   "source": [
    "For this practice problem, you'll be working with the data set behind this FiveThirtyEight article on common unisex (gender-neutral) names in the United States.\n",
    "\n",
    "The data is stored in the CSV file dq_unisex_names.csv. Here are the first few rows:\n",
    "\n",
    "|name\t|estimated_number|\n",
    "|-------|----------------|\n",
    "|Casey\t|176544.328149|\n",
    "Riley\t|154860.66517300002\n",
    "Jessie\t|136381.830656\n",
    "Jackie\t|132928.78874000002\n",
    "Avery\t|121797.41951600001\n",
    "\n",
    "The first column gives the names. The second column provides the estimated number of people with those names is the United States.\n",
    "\n",
    "In this practice problem, you'll practice reading the data from the CSV into a list of lists.\n",
    "\n",
    "Instructions\n",
    "\n",
    "Import the csv module.\n",
    "Use the open command to read the CSV file dq_unisex_names.csv.\n",
    "Assign the header row to a variable named headers.\n",
    "Assign the data rows to a variable named rows (do not include the header row).\n",
    "Optional steps to test your answer:\n",
    "\n",
    "Print the value of headers to check it contains the correct headers.\n",
    "Print the first five rows in rows to see if they match the table."
   ]
  },
  {
   "cell_type": "code",
   "execution_count": 3,
   "metadata": {},
   "outputs": [
    {
     "name": "stdout",
     "output_type": "stream",
     "text": [
      "['name', 'estimated_number']\n",
      "['Casey', '176544.328149']\n",
      "['Riley', '154860.66517300002']\n",
      "['Jessie', '136381.830656']\n",
      "['Jackie', '132928.78874000002']\n",
      "['Avery', '121797.41951600001']\n"
     ]
    }
   ],
   "source": [
    "import csv\n",
    "\n",
    "with open('dq_unisex_names.csv') as unames:\n",
    "    reader = csv.reader(unames)\n",
    "    all_rows = list(reader)\n",
    "    rows = all_rows[1:]\n",
    "    headers = all_rows[0]\n",
    "print(headers)\n",
    "for _ in range(5):\n",
    "    print(rows[_])"
   ]
  },
  {
   "cell_type": "markdown",
   "metadata": {},
   "source": [
    "For this practice problem, you'll be working with the data set behind this FiveThirtyEight article on common unisex (gender-neutral) names in the United States.\n",
    "\n",
    "The data is contained the CSV file dq_unisex_names.csv. Here are the first few rows:\n",
    "\n",
    "|name\t|estimated_number|\n",
    "|-------|-----------------|\n",
    "|Casey\t|176544.328149|\n",
    "|Riley\t|154860.66517300002|\n",
    "|Jessie\t|136381.830656|\n",
    "|Jackie\t|132928.78874000002|\n",
    "|Avery\t|121797.41951600001|\n",
    "\n",
    "\n",
    "The first column gives the names and the seconds the estimated number of people with those names is the United States.\n",
    "\n",
    "In this practice problem, you'll read the data from the CSV into a list of lists, and you'll modify the inner lists to include a third value. This value will be the length of the name. Here's what the first five rows will look like after doing this:\n",
    "```\n",
    "['Casey', '176544.328149', 5]\n",
    "['Riley', '154860.66517300002', 5]\n",
    "['Jessie', '136381.830656', 6]\n",
    "['Jackie', '132928.78874000002', 6]\n",
    "['Avery', '121797.41951600001', 5]\n",
    "```\n",
    "\n",
    "Instructions\n",
    "\n",
    "Import the csv module.\n",
    "Use the open command to read the CSV file dq_unisex_names.csv.\n",
    "Assign the data rows to a variable named rows (do not include the header row).\n",
    "For each row in rows, append to it the length of the name contained in that row.\n",
    "Optional steps to test your answer:\n",
    "\n",
    "Print the first five data rows to see if they match the table example above."
   ]
  },
  {
   "cell_type": "code",
   "execution_count": 7,
   "metadata": {},
   "outputs": [
    {
     "name": "stdout",
     "output_type": "stream",
     "text": [
      "['Casey', '176544.328149', 5]\n",
      "['Riley', '154860.66517300002', 5]\n",
      "['Jessie', '136381.830656', 6]\n",
      "['Jackie', '132928.78874000002', 6]\n",
      "['Avery', '121797.41951600001', 5]\n"
     ]
    }
   ],
   "source": [
    "import csv\n",
    "file = open('dq_unisex_names.csv')\n",
    "reader = csv.reader(file)\n",
    "all_rows = list(reader)\n",
    "rows = all_rows[1:]\n",
    "for row in rows:\n",
    "    name = row[0]\n",
    "    row.append(len(name))\n",
    "\n",
    "\n",
    "for i in range(5):\n",
    "    print(rows[i])"
   ]
  },
  {
   "cell_type": "markdown",
   "metadata": {},
   "source": [
    "For this practice problem, you'll be working with the data set behind this FiveThirtyEight article on common unisex (gender-neutral) names in the United States.\n",
    "\n",
    "The data is stored in the CSV file dq_unisex_names.csv. Here are the first few rows:\n",
    "\n",
    "|name\t|estimated_number|\n",
    "|-------|----------------|\n",
    "Casey\t|154860.66517300002\n",
    "Jessie\t|136381.830656\n",
    "Jackie\t|132928.78874000002\n",
    "Avery\t|121797.41951600001\n",
    "\n",
    "The first column gives the names. The second column provides the estimated number of people with those names is the United States.\n",
    "\n",
    "When we read a CSV file using the csv module, we get a list of lists and all the data comes as string data types. In this case, we want the second value to be a float rather than a string.\n",
    "\n",
    "Your goal is to convert the values in the estimated_number column to float. After doing this, the first 5 rows should become:\n",
    "```\n",
    "['Casey', 176544.328149]\n",
    "['Riley', 154860.66517300002]\n",
    "['Jessie', 136381.830656]\n",
    "['Jackie', 132928.78874000002]\n",
    "['Avery', 121797.41951600001]\n",
    "```\n",
    "\n",
    "Note that, now, the numeric values are not surrounded by '' anymore. This means that they have been converted to floats. Before the conversion they where:\n",
    "```\n",
    "['Casey', '176544.328149']\n",
    "['Riley', '154860.66517300002']\n",
    "['Jessie', '136381.830656']\n",
    "['Jackie', '132928.78874000002']\n",
    "['Avery', '121797.41951600001']\n",
    "```\n",
    "\n",
    "Instructions\n",
    "\n",
    "Import the csv module.\n",
    "Use the open command to read the CSV file dq_unisex_names.csv.\n",
    "Assign the data rows to a variable named rows (do not include the header row).\n",
    "For each row in rows, convert the value on the estimated number column from string to float.\n",
    "Optional steps to test your answer:\n",
    "\n",
    "Print the first five data rows to see if they match the table example above.\n",
    "Using the type() function, print the data type of the estimated number column in the first data row."
   ]
  },
  {
   "cell_type": "code",
   "execution_count": 22,
   "metadata": {},
   "outputs": [
    {
     "name": "stdout",
     "output_type": "stream",
     "text": [
      "['Casey', 176544.328149]\n",
      "['Riley', 154860.66517300002]\n",
      "['Jessie', 136381.830656]\n",
      "['Jackie', 132928.78874000002]\n",
      "['Avery', 121797.41951600001]\n",
      "<class 'float'>\n"
     ]
    }
   ],
   "source": [
    "import csv\n",
    "file = open('dq_unisex_names.csv')\n",
    "reader = csv.reader(file)\n",
    "all_rows = list(reader)\n",
    "rows = all_rows[1:]\n",
    "for row in rows:\n",
    "    row[1] = float(row[1])\n",
    "\n",
    "\n",
    "for i in range(5):\n",
    "    print(rows[i])\n",
    "print(type(rows[0][1]))"
   ]
  },
  {
   "cell_type": "code",
   "execution_count": 19,
   "metadata": {},
   "outputs": [
    {
     "name": "stdout",
     "output_type": "stream",
     "text": [
      "b\n"
     ]
    }
   ],
   "source": [
    "list1 = [\"abc\", \"b\" , \"c\"]\n",
    "list2 = [1, 2, 3]\n",
    "\n",
    "list1.append(len(list1[0]))\n",
    "print(list1)"
   ]
  },
  {
   "cell_type": "code",
   "execution_count": null,
   "metadata": {},
   "outputs": [],
   "source": []
  }
 ],
 "metadata": {
  "kernelspec": {
   "display_name": "Python 3.9.12 ('base')",
   "language": "python",
   "name": "python3"
  },
  "language_info": {
   "codemirror_mode": {
    "name": "ipython",
    "version": 3
   },
   "file_extension": ".py",
   "mimetype": "text/x-python",
   "name": "python",
   "nbconvert_exporter": "python",
   "pygments_lexer": "ipython3",
   "version": "3.9.12"
  },
  "orig_nbformat": 4,
  "vscode": {
   "interpreter": {
    "hash": "25f3487451846e861a280f856ffdd5c623fcab8a2610d2814eeeaeba8b3c73c9"
   }
  }
 },
 "nbformat": 4,
 "nbformat_minor": 2
}
